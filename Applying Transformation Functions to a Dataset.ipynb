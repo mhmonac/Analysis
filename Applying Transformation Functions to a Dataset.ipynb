{
 "cells": [
  {
   "cell_type": "markdown",
   "metadata": {},
   "source": [
    "# Import software libraries"
   ]
  },
  {
   "cell_type": "code",
   "execution_count": 1,
   "metadata": {},
   "outputs": [
    {
     "name": "stdout",
     "output_type": "stream",
     "text": [
      "Libraries used in this project:\n",
      "- Python 3.7.6 | packaged by conda-forge | (default, Mar 23 2020, 23:03:20) \n",
      "[GCC 7.3.0]\n",
      "- NumPy 1.19.2\n",
      "- pandas 1.1.3\n",
      "- SciPy 1.5.2\n",
      "- Matplotlib 3.3.2\n",
      "- Seaborn 0.11.0\n",
      "- scikit-learn 0.23.2\n",
      "- Category Encoders 2.2.2\n"
     ]
    }
   ],
   "source": [
    "import sys                                                  # Read system parameters.\n",
    "import numpy as np                                          # Work with multi-dimensional arrays.\n",
    "import pandas as pd                                         # Manipulate and analyze data.\n",
    "import scipy as sp                                          # Apply advanced mathematical functions.\n",
    "from scipy import stats\n",
    "import matplotlib                                           # Create and format charts.\n",
    "import matplotlib.pyplot as plt  \n",
    "import seaborn as sns                                       # Make charting easier.\n",
    "import sklearn                                              # Train and evaluate machine learning models.\n",
    "from sklearn.preprocessing import StandardScaler\n",
    "from sklearn.decomposition import PCA\n",
    "import category_encoders as ce                              # Encode data.\n",
    "import warnings                                             # Suppress warnings.\n",
    "warnings.filterwarnings('ignore')\n",
    "\n",
    "# Summarize software libraries used.\n",
    "print('Libraries used in this project:')\n",
    "print('- Python {}'.format(sys.version))\n",
    "print('- NumPy {}'.format(np.__version__))\n",
    "print('- pandas {}'.format(pd.__version__))\n",
    "print('- SciPy {}'.format(sp.__version__))\n",
    "print('- Matplotlib {}'.format(matplotlib.__version__))\n",
    "print('- Seaborn {}'.format(sns.__version__))\n",
    "print('- scikit-learn {}'.format(sklearn.__version__))\n",
    "print('- Category Encoders {}'.format(ce.__version__))"
   ]
  },
  {
   "cell_type": "markdown",
   "metadata": {
    "id": "JM3Jux22jhI8"
   },
   "source": [
    "# Load and preview the data"
   ]
  },
  {
   "cell_type": "code",
   "execution_count": 2,
   "metadata": {
    "executionInfo": {
     "elapsed": 561,
     "status": "ok",
     "timestamp": 1614989751988,
     "user": {
      "displayName": "Sarah Haq",
      "photoUrl": "https://lh3.googleusercontent.com/a-/AOh14Gh7vs3P5_F3LYi7bEV8r1vbltDxEgpoYXmxHgxGBw=s64",
      "userId": "16294508270436203551"
     },
     "user_tz": -60
    },
    "id": "rN_93cyclYSb"
   },
   "outputs": [
    {
     "data": {
      "text/html": [
       "<div>\n",
       "<style scoped>\n",
       "    .dataframe tbody tr th:only-of-type {\n",
       "        vertical-align: middle;\n",
       "    }\n",
       "\n",
       "    .dataframe tbody tr th {\n",
       "        vertical-align: top;\n",
       "    }\n",
       "\n",
       "    .dataframe thead th {\n",
       "        text-align: right;\n",
       "    }\n",
       "</style>\n",
       "<table border=\"1\" class=\"dataframe\">\n",
       "  <thead>\n",
       "    <tr style=\"text-align: right;\">\n",
       "      <th></th>\n",
       "      <th>user_id</th>\n",
       "      <th>number_transactions</th>\n",
       "      <th>total_amount_usd</th>\n",
       "      <th>age</th>\n",
       "      <th>job</th>\n",
       "      <th>marital</th>\n",
       "      <th>education</th>\n",
       "      <th>default</th>\n",
       "      <th>housing</th>\n",
       "      <th>loan</th>\n",
       "      <th>contact</th>\n",
       "      <th>duration</th>\n",
       "      <th>campaign</th>\n",
       "      <th>pdays</th>\n",
       "      <th>previous</th>\n",
       "      <th>poutcome</th>\n",
       "      <th>term_deposit</th>\n",
       "      <th>date_joined</th>\n",
       "      <th>device</th>\n",
       "    </tr>\n",
       "  </thead>\n",
       "  <tbody>\n",
       "    <tr>\n",
       "      <th>0</th>\n",
       "      <td>9231c446-cb16-4b2b-a7f7-ddfc8b25aaf6</td>\n",
       "      <td>3.0</td>\n",
       "      <td>2143.0</td>\n",
       "      <td>58</td>\n",
       "      <td>management</td>\n",
       "      <td>married</td>\n",
       "      <td>tertiary</td>\n",
       "      <td>False</td>\n",
       "      <td>True</td>\n",
       "      <td>False</td>\n",
       "      <td>None</td>\n",
       "      <td>261</td>\n",
       "      <td>1</td>\n",
       "      <td>-1</td>\n",
       "      <td>0</td>\n",
       "      <td>None</td>\n",
       "      <td>False</td>\n",
       "      <td>1998-08-23</td>\n",
       "      <td>mobile</td>\n",
       "    </tr>\n",
       "    <tr>\n",
       "      <th>1</th>\n",
       "      <td>bb92765a-08de-4963-b432-496524b39157</td>\n",
       "      <td>NaN</td>\n",
       "      <td>NaN</td>\n",
       "      <td>44</td>\n",
       "      <td>technician</td>\n",
       "      <td>single</td>\n",
       "      <td>secondary</td>\n",
       "      <td>False</td>\n",
       "      <td>True</td>\n",
       "      <td>False</td>\n",
       "      <td>None</td>\n",
       "      <td>151</td>\n",
       "      <td>1</td>\n",
       "      <td>-1</td>\n",
       "      <td>0</td>\n",
       "      <td>None</td>\n",
       "      <td>False</td>\n",
       "      <td>2008-07-15</td>\n",
       "      <td>desktop</td>\n",
       "    </tr>\n",
       "    <tr>\n",
       "      <th>2</th>\n",
       "      <td>573de577-49ef-42b9-83da-d3cfb817b5c1</td>\n",
       "      <td>2.0</td>\n",
       "      <td>2.0</td>\n",
       "      <td>33</td>\n",
       "      <td>entrepreneur</td>\n",
       "      <td>married</td>\n",
       "      <td>secondary</td>\n",
       "      <td>False</td>\n",
       "      <td>True</td>\n",
       "      <td>True</td>\n",
       "      <td>None</td>\n",
       "      <td>76</td>\n",
       "      <td>1</td>\n",
       "      <td>-1</td>\n",
       "      <td>0</td>\n",
       "      <td>None</td>\n",
       "      <td>False</td>\n",
       "      <td>2002-06-04</td>\n",
       "      <td>mobile</td>\n",
       "    </tr>\n",
       "    <tr>\n",
       "      <th>3</th>\n",
       "      <td>d6b66b9d-7c8f-4257-a682-e136f640b7e3</td>\n",
       "      <td>NaN</td>\n",
       "      <td>NaN</td>\n",
       "      <td>47</td>\n",
       "      <td>blue-collar</td>\n",
       "      <td>married</td>\n",
       "      <td>None</td>\n",
       "      <td>False</td>\n",
       "      <td>True</td>\n",
       "      <td>False</td>\n",
       "      <td>None</td>\n",
       "      <td>92</td>\n",
       "      <td>1</td>\n",
       "      <td>-1</td>\n",
       "      <td>0</td>\n",
       "      <td>None</td>\n",
       "      <td>False</td>\n",
       "      <td>1995-06-29</td>\n",
       "      <td>tablet</td>\n",
       "    </tr>\n",
       "    <tr>\n",
       "      <th>4</th>\n",
       "      <td>fade0b20-7594-4d9a-84cd-c02f79b1b526</td>\n",
       "      <td>1.0</td>\n",
       "      <td>1.0</td>\n",
       "      <td>33</td>\n",
       "      <td>None</td>\n",
       "      <td>single</td>\n",
       "      <td>None</td>\n",
       "      <td>False</td>\n",
       "      <td>False</td>\n",
       "      <td>False</td>\n",
       "      <td>None</td>\n",
       "      <td>198</td>\n",
       "      <td>1</td>\n",
       "      <td>-1</td>\n",
       "      <td>0</td>\n",
       "      <td>None</td>\n",
       "      <td>False</td>\n",
       "      <td>1995-08-01</td>\n",
       "      <td>mobile</td>\n",
       "    </tr>\n",
       "  </tbody>\n",
       "</table>\n",
       "</div>"
      ],
      "text/plain": [
       "                                user_id  number_transactions  \\\n",
       "0  9231c446-cb16-4b2b-a7f7-ddfc8b25aaf6                  3.0   \n",
       "1  bb92765a-08de-4963-b432-496524b39157                  NaN   \n",
       "2  573de577-49ef-42b9-83da-d3cfb817b5c1                  2.0   \n",
       "3  d6b66b9d-7c8f-4257-a682-e136f640b7e3                  NaN   \n",
       "4  fade0b20-7594-4d9a-84cd-c02f79b1b526                  1.0   \n",
       "\n",
       "   total_amount_usd  age           job  marital  education  default  housing  \\\n",
       "0            2143.0   58    management  married   tertiary    False     True   \n",
       "1               NaN   44    technician   single  secondary    False     True   \n",
       "2               2.0   33  entrepreneur  married  secondary    False     True   \n",
       "3               NaN   47   blue-collar  married       None    False     True   \n",
       "4               1.0   33          None   single       None    False    False   \n",
       "\n",
       "    loan contact  duration  campaign  pdays  previous poutcome  term_deposit  \\\n",
       "0  False    None       261         1     -1         0     None         False   \n",
       "1  False    None       151         1     -1         0     None         False   \n",
       "2   True    None        76         1     -1         0     None         False   \n",
       "3  False    None        92         1     -1         0     None         False   \n",
       "4  False    None       198         1     -1         0     None         False   \n",
       "\n",
       "  date_joined   device  \n",
       "0  1998-08-23   mobile  \n",
       "1  2008-07-15  desktop  \n",
       "2  2002-06-04   mobile  \n",
       "3  1995-06-29   tablet  \n",
       "4  1995-08-01   mobile  "
      ]
     },
     "execution_count": 2,
     "metadata": {},
     "output_type": "execute_result"
    }
   ],
   "source": [
    "users_data = pd.read_pickle('data/users_data_cleaned.pickle')\n",
    "\n",
    "users_data.head(n = 5)"
   ]
  },
  {
   "cell_type": "markdown",
   "metadata": {
    "id": "gPTDqhYMLqwg"
   },
   "source": [
    "# Check the shape of the data"
   ]
  },
  {
   "cell_type": "code",
   "execution_count": 3,
   "metadata": {
    "colab": {
     "base_uri": "https://localhost:8080/"
    },
    "executionInfo": {
     "elapsed": 556,
     "status": "ok",
     "timestamp": 1614989753270,
     "user": {
      "displayName": "Sarah Haq",
      "photoUrl": "https://lh3.googleusercontent.com/a-/AOh14Gh7vs3P5_F3LYi7bEV8r1vbltDxEgpoYXmxHgxGBw=s64",
      "userId": "16294508270436203551"
     },
     "user_tz": -60
    },
    "id": "kaA2VK-0mFPS",
    "outputId": "6688e3fa-3bec-47b6-f9d8-5241f919b3c7"
   },
   "outputs": [
    {
     "data": {
      "text/plain": [
       "(45209, 19)"
      ]
     },
     "execution_count": 3,
     "metadata": {},
     "output_type": "execute_result"
    }
   ],
   "source": [
    "users_data.shape"
   ]
  },
  {
   "cell_type": "markdown",
   "metadata": {
    "id": "H8gVuWuXLspb"
   },
   "source": [
    "# Check the number of unique users"
   ]
  },
  {
   "cell_type": "code",
   "execution_count": 4,
   "metadata": {
    "colab": {
     "base_uri": "https://localhost:8080/"
    },
    "executionInfo": {
     "elapsed": 691,
     "status": "ok",
     "timestamp": 1614989753904,
     "user": {
      "displayName": "Sarah Haq",
      "photoUrl": "https://lh3.googleusercontent.com/a-/AOh14Gh7vs3P5_F3LYi7bEV8r1vbltDxEgpoYXmxHgxGBw=s64",
      "userId": "16294508270436203551"
     },
     "user_tz": -60
    },
    "id": "3jOBdaw1mUo2",
    "outputId": "6f73abcf-d4e5-4c9b-bb6a-221d1576e3c6"
   },
   "outputs": [
    {
     "data": {
      "text/plain": [
       "45209"
      ]
     },
     "execution_count": 4,
     "metadata": {},
     "output_type": "execute_result"
    }
   ],
   "source": [
    "len(np.unique(users_data.user_id))"
   ]
  },
  {
   "cell_type": "markdown",
   "metadata": {
    "id": "HmhJ2eamLu2C"
   },
   "source": [
    "# Check the data types"
   ]
  },
  {
   "cell_type": "code",
   "execution_count": 5,
   "metadata": {
    "colab": {
     "base_uri": "https://localhost:8080/"
    },
    "executionInfo": {
     "elapsed": 727,
     "status": "ok",
     "timestamp": 1614989754520,
     "user": {
      "displayName": "Sarah Haq",
      "photoUrl": "https://lh3.googleusercontent.com/a-/AOh14Gh7vs3P5_F3LYi7bEV8r1vbltDxEgpoYXmxHgxGBw=s64",
      "userId": "16294508270436203551"
     },
     "user_tz": -60
    },
    "id": "s2Hn2cCqmHHC",
    "outputId": "8e47a667-0496-43c9-8142-e8504198a10d"
   },
   "outputs": [
    {
     "name": "stdout",
     "output_type": "stream",
     "text": [
      "<class 'pandas.core.frame.DataFrame'>\n",
      "Int64Index: 45209 entries, 0 to 45215\n",
      "Data columns (total 19 columns):\n",
      " #   Column               Non-Null Count  Dtype         \n",
      "---  ------               --------------  -----         \n",
      " 0   user_id              45209 non-null  object        \n",
      " 1   number_transactions  35210 non-null  float64       \n",
      " 2   total_amount_usd     35210 non-null  float64       \n",
      " 3   age                  45209 non-null  int64         \n",
      " 4   job                  44921 non-null  object        \n",
      " 5   marital              45209 non-null  object        \n",
      " 6   education            43352 non-null  object        \n",
      " 7   default              45209 non-null  bool          \n",
      " 8   housing              45209 non-null  bool          \n",
      " 9   loan                 45209 non-null  bool          \n",
      " 10  contact              32191 non-null  object        \n",
      " 11  duration             45209 non-null  int64         \n",
      " 12  campaign             45209 non-null  int64         \n",
      " 13  pdays                45209 non-null  int64         \n",
      " 14  previous             45209 non-null  int64         \n",
      " 15  poutcome             8252 non-null   object        \n",
      " 16  term_deposit         45209 non-null  bool          \n",
      " 17  date_joined          45179 non-null  datetime64[ns]\n",
      " 18  device               45115 non-null  object        \n",
      "dtypes: bool(4), datetime64[ns](1), float64(2), int64(5), object(7)\n",
      "memory usage: 5.7+ MB\n"
     ]
    }
   ],
   "source": [
    "users_data.info()"
   ]
  },
  {
   "cell_type": "code",
   "execution_count": 6,
   "metadata": {
    "colab": {
     "base_uri": "https://localhost:8080/"
    },
    "executionInfo": {
     "elapsed": 466,
     "status": "ok",
     "timestamp": 1614989754520,
     "user": {
      "displayName": "Sarah Haq",
      "photoUrl": "https://lh3.googleusercontent.com/a-/AOh14Gh7vs3P5_F3LYi7bEV8r1vbltDxEgpoYXmxHgxGBw=s64",
      "userId": "16294508270436203551"
     },
     "user_tz": -60
    },
    "id": "TycVD4ReTCQu",
    "outputId": "33ea32c7-692f-401c-b3ad-d8da574da39c"
   },
   "outputs": [
    {
     "data": {
      "text/plain": [
       "{bool: ['default', 'housing', 'loan', 'term_deposit'], int64: ['age', 'duration', 'campaign', 'pdays', 'previous'], float64: ['number_transactions', 'total_amount_usd'], datetime64[ns]: ['date_joined'], object: ['user_id', 'job', 'marital', 'education', 'contact', 'poutcome', 'device']}"
      ]
     },
     "execution_count": 6,
     "metadata": {},
     "output_type": "execute_result"
    }
   ],
   "source": [
    "users_data.columns.to_series().groupby(users_data.dtypes).groups"
   ]
  },
  {
   "cell_type": "markdown",
   "metadata": {},
   "source": [
    "# Check for correlations"
   ]
  },
  {
   "cell_type": "code",
   "execution_count": 7,
   "metadata": {},
   "outputs": [
    {
     "data": {
      "text/html": [
       "<div>\n",
       "<style scoped>\n",
       "    .dataframe tbody tr th:only-of-type {\n",
       "        vertical-align: middle;\n",
       "    }\n",
       "\n",
       "    .dataframe tbody tr th {\n",
       "        vertical-align: top;\n",
       "    }\n",
       "\n",
       "    .dataframe thead th {\n",
       "        text-align: right;\n",
       "    }\n",
       "</style>\n",
       "<table border=\"1\" class=\"dataframe\">\n",
       "  <thead>\n",
       "    <tr style=\"text-align: right;\">\n",
       "      <th></th>\n",
       "      <th>number_transactions</th>\n",
       "      <th>total_amount_usd</th>\n",
       "      <th>age</th>\n",
       "      <th>default</th>\n",
       "      <th>housing</th>\n",
       "      <th>loan</th>\n",
       "      <th>duration</th>\n",
       "      <th>campaign</th>\n",
       "      <th>pdays</th>\n",
       "      <th>previous</th>\n",
       "      <th>term_deposit</th>\n",
       "    </tr>\n",
       "  </thead>\n",
       "  <tbody>\n",
       "    <tr>\n",
       "      <th>number_transactions</th>\n",
       "      <td>1.000000</td>\n",
       "      <td>0.163409</td>\n",
       "      <td>0.008813</td>\n",
       "      <td>0.138838</td>\n",
       "      <td>0.030429</td>\n",
       "      <td>0.075319</td>\n",
       "      <td>0.017220</td>\n",
       "      <td>0.026431</td>\n",
       "      <td>0.030751</td>\n",
       "      <td>0.023046</td>\n",
       "      <td>0.053390</td>\n",
       "    </tr>\n",
       "    <tr>\n",
       "      <th>total_amount_usd</th>\n",
       "      <td>0.163409</td>\n",
       "      <td>1.000000</td>\n",
       "      <td>0.095839</td>\n",
       "      <td>0.065390</td>\n",
       "      <td>0.066857</td>\n",
       "      <td>0.084526</td>\n",
       "      <td>0.022586</td>\n",
       "      <td>0.017274</td>\n",
       "      <td>0.006435</td>\n",
       "      <td>0.016952</td>\n",
       "      <td>0.050785</td>\n",
       "    </tr>\n",
       "    <tr>\n",
       "      <th>age</th>\n",
       "      <td>0.008813</td>\n",
       "      <td>0.095839</td>\n",
       "      <td>1.000000</td>\n",
       "      <td>0.017875</td>\n",
       "      <td>0.185552</td>\n",
       "      <td>0.015641</td>\n",
       "      <td>0.004645</td>\n",
       "      <td>0.004767</td>\n",
       "      <td>0.023745</td>\n",
       "      <td>0.001297</td>\n",
       "      <td>0.025168</td>\n",
       "    </tr>\n",
       "    <tr>\n",
       "      <th>default</th>\n",
       "      <td>0.138838</td>\n",
       "      <td>0.065390</td>\n",
       "      <td>0.017875</td>\n",
       "      <td>1.000000</td>\n",
       "      <td>0.006020</td>\n",
       "      <td>0.077232</td>\n",
       "      <td>0.010017</td>\n",
       "      <td>0.016819</td>\n",
       "      <td>0.029982</td>\n",
       "      <td>0.018331</td>\n",
       "      <td>0.022421</td>\n",
       "    </tr>\n",
       "    <tr>\n",
       "      <th>housing</th>\n",
       "      <td>0.030429</td>\n",
       "      <td>0.066857</td>\n",
       "      <td>0.185552</td>\n",
       "      <td>0.006020</td>\n",
       "      <td>1.000000</td>\n",
       "      <td>0.041341</td>\n",
       "      <td>0.005041</td>\n",
       "      <td>0.023583</td>\n",
       "      <td>0.124197</td>\n",
       "      <td>0.037087</td>\n",
       "      <td>0.139161</td>\n",
       "    </tr>\n",
       "    <tr>\n",
       "      <th>loan</th>\n",
       "      <td>0.075319</td>\n",
       "      <td>0.084526</td>\n",
       "      <td>0.015641</td>\n",
       "      <td>0.077232</td>\n",
       "      <td>0.041341</td>\n",
       "      <td>1.000000</td>\n",
       "      <td>0.012395</td>\n",
       "      <td>0.009972</td>\n",
       "      <td>0.022762</td>\n",
       "      <td>0.011048</td>\n",
       "      <td>0.068193</td>\n",
       "    </tr>\n",
       "    <tr>\n",
       "      <th>duration</th>\n",
       "      <td>0.017220</td>\n",
       "      <td>0.022586</td>\n",
       "      <td>0.004645</td>\n",
       "      <td>0.010017</td>\n",
       "      <td>0.005041</td>\n",
       "      <td>0.012395</td>\n",
       "      <td>1.000000</td>\n",
       "      <td>0.084551</td>\n",
       "      <td>0.001549</td>\n",
       "      <td>0.001213</td>\n",
       "      <td>0.394549</td>\n",
       "    </tr>\n",
       "    <tr>\n",
       "      <th>campaign</th>\n",
       "      <td>0.026431</td>\n",
       "      <td>0.017274</td>\n",
       "      <td>0.004767</td>\n",
       "      <td>0.016819</td>\n",
       "      <td>0.023583</td>\n",
       "      <td>0.009972</td>\n",
       "      <td>0.084551</td>\n",
       "      <td>1.000000</td>\n",
       "      <td>0.088636</td>\n",
       "      <td>0.032860</td>\n",
       "      <td>0.073179</td>\n",
       "    </tr>\n",
       "    <tr>\n",
       "      <th>pdays</th>\n",
       "      <td>0.030751</td>\n",
       "      <td>0.006435</td>\n",
       "      <td>0.023745</td>\n",
       "      <td>0.029982</td>\n",
       "      <td>0.124197</td>\n",
       "      <td>0.022762</td>\n",
       "      <td>0.001549</td>\n",
       "      <td>0.088636</td>\n",
       "      <td>1.000000</td>\n",
       "      <td>0.454817</td>\n",
       "      <td>0.103616</td>\n",
       "    </tr>\n",
       "    <tr>\n",
       "      <th>previous</th>\n",
       "      <td>0.023046</td>\n",
       "      <td>0.016952</td>\n",
       "      <td>0.001297</td>\n",
       "      <td>0.018331</td>\n",
       "      <td>0.037087</td>\n",
       "      <td>0.011048</td>\n",
       "      <td>0.001213</td>\n",
       "      <td>0.032860</td>\n",
       "      <td>0.454817</td>\n",
       "      <td>1.000000</td>\n",
       "      <td>0.093232</td>\n",
       "    </tr>\n",
       "    <tr>\n",
       "      <th>term_deposit</th>\n",
       "      <td>0.053390</td>\n",
       "      <td>0.050785</td>\n",
       "      <td>0.025168</td>\n",
       "      <td>0.022421</td>\n",
       "      <td>0.139161</td>\n",
       "      <td>0.068193</td>\n",
       "      <td>0.394549</td>\n",
       "      <td>0.073179</td>\n",
       "      <td>0.103616</td>\n",
       "      <td>0.093232</td>\n",
       "      <td>1.000000</td>\n",
       "    </tr>\n",
       "  </tbody>\n",
       "</table>\n",
       "</div>"
      ],
      "text/plain": [
       "                     number_transactions  total_amount_usd       age  \\\n",
       "number_transactions             1.000000          0.163409  0.008813   \n",
       "total_amount_usd                0.163409          1.000000  0.095839   \n",
       "age                             0.008813          0.095839  1.000000   \n",
       "default                         0.138838          0.065390  0.017875   \n",
       "housing                         0.030429          0.066857  0.185552   \n",
       "loan                            0.075319          0.084526  0.015641   \n",
       "duration                        0.017220          0.022586  0.004645   \n",
       "campaign                        0.026431          0.017274  0.004767   \n",
       "pdays                           0.030751          0.006435  0.023745   \n",
       "previous                        0.023046          0.016952  0.001297   \n",
       "term_deposit                    0.053390          0.050785  0.025168   \n",
       "\n",
       "                      default   housing      loan  duration  campaign  \\\n",
       "number_transactions  0.138838  0.030429  0.075319  0.017220  0.026431   \n",
       "total_amount_usd     0.065390  0.066857  0.084526  0.022586  0.017274   \n",
       "age                  0.017875  0.185552  0.015641  0.004645  0.004767   \n",
       "default              1.000000  0.006020  0.077232  0.010017  0.016819   \n",
       "housing              0.006020  1.000000  0.041341  0.005041  0.023583   \n",
       "loan                 0.077232  0.041341  1.000000  0.012395  0.009972   \n",
       "duration             0.010017  0.005041  0.012395  1.000000  0.084551   \n",
       "campaign             0.016819  0.023583  0.009972  0.084551  1.000000   \n",
       "pdays                0.029982  0.124197  0.022762  0.001549  0.088636   \n",
       "previous             0.018331  0.037087  0.011048  0.001213  0.032860   \n",
       "term_deposit         0.022421  0.139161  0.068193  0.394549  0.073179   \n",
       "\n",
       "                        pdays  previous  term_deposit  \n",
       "number_transactions  0.030751  0.023046      0.053390  \n",
       "total_amount_usd     0.006435  0.016952      0.050785  \n",
       "age                  0.023745  0.001297      0.025168  \n",
       "default              0.029982  0.018331      0.022421  \n",
       "housing              0.124197  0.037087      0.139161  \n",
       "loan                 0.022762  0.011048      0.068193  \n",
       "duration             0.001549  0.001213      0.394549  \n",
       "campaign             0.088636  0.032860      0.073179  \n",
       "pdays                1.000000  0.454817      0.103616  \n",
       "previous             0.454817  1.000000      0.093232  \n",
       "term_deposit         0.103616  0.093232      1.000000  "
      ]
     },
     "execution_count": 7,
     "metadata": {},
     "output_type": "execute_result"
    }
   ],
   "source": [
    "users_data.corr().abs()"
   ]
  },
  {
   "cell_type": "markdown",
   "metadata": {
    "id": "9jFF98MZLxcs"
   },
   "source": [
    "# Generate summary statistics for all of the data"
   ]
  },
  {
   "cell_type": "code",
   "execution_count": 8,
   "metadata": {
    "colab": {
     "base_uri": "https://localhost:8080/",
     "height": 529
    },
    "executionInfo": {
     "elapsed": 577,
     "status": "ok",
     "timestamp": 1614989756428,
     "user": {
      "displayName": "Sarah Haq",
      "photoUrl": "https://lh3.googleusercontent.com/a-/AOh14Gh7vs3P5_F3LYi7bEV8r1vbltDxEgpoYXmxHgxGBw=s64",
      "userId": "16294508270436203551"
     },
     "user_tz": -60
    },
    "id": "nmiXy4pnn5C5",
    "outputId": "2927dfc2-7076-4515-b286-3062cba71184"
   },
   "outputs": [
    {
     "data": {
      "text/html": [
       "<div>\n",
       "<style scoped>\n",
       "    .dataframe tbody tr th:only-of-type {\n",
       "        vertical-align: middle;\n",
       "    }\n",
       "\n",
       "    .dataframe tbody tr th {\n",
       "        vertical-align: top;\n",
       "    }\n",
       "\n",
       "    .dataframe thead th {\n",
       "        text-align: right;\n",
       "    }\n",
       "</style>\n",
       "<table border=\"1\" class=\"dataframe\">\n",
       "  <thead>\n",
       "    <tr style=\"text-align: right;\">\n",
       "      <th></th>\n",
       "      <th>user_id</th>\n",
       "      <th>number_transactions</th>\n",
       "      <th>total_amount_usd</th>\n",
       "      <th>age</th>\n",
       "      <th>job</th>\n",
       "      <th>marital</th>\n",
       "      <th>education</th>\n",
       "      <th>default</th>\n",
       "      <th>housing</th>\n",
       "      <th>loan</th>\n",
       "      <th>contact</th>\n",
       "      <th>duration</th>\n",
       "      <th>campaign</th>\n",
       "      <th>pdays</th>\n",
       "      <th>previous</th>\n",
       "      <th>poutcome</th>\n",
       "      <th>term_deposit</th>\n",
       "      <th>date_joined</th>\n",
       "      <th>device</th>\n",
       "    </tr>\n",
       "  </thead>\n",
       "  <tbody>\n",
       "    <tr>\n",
       "      <th>count</th>\n",
       "      <td>45209</td>\n",
       "      <td>35210.000000</td>\n",
       "      <td>35210.000000</td>\n",
       "      <td>45209.000000</td>\n",
       "      <td>44921</td>\n",
       "      <td>45209</td>\n",
       "      <td>43352</td>\n",
       "      <td>45209</td>\n",
       "      <td>45209</td>\n",
       "      <td>45209</td>\n",
       "      <td>32191</td>\n",
       "      <td>45209.000000</td>\n",
       "      <td>45209.000000</td>\n",
       "      <td>45209.000000</td>\n",
       "      <td>45209.000000</td>\n",
       "      <td>8252</td>\n",
       "      <td>45209</td>\n",
       "      <td>45179</td>\n",
       "      <td>45115</td>\n",
       "    </tr>\n",
       "    <tr>\n",
       "      <th>unique</th>\n",
       "      <td>45209</td>\n",
       "      <td>NaN</td>\n",
       "      <td>NaN</td>\n",
       "      <td>NaN</td>\n",
       "      <td>11</td>\n",
       "      <td>3</td>\n",
       "      <td>3</td>\n",
       "      <td>2</td>\n",
       "      <td>2</td>\n",
       "      <td>2</td>\n",
       "      <td>2</td>\n",
       "      <td>NaN</td>\n",
       "      <td>NaN</td>\n",
       "      <td>NaN</td>\n",
       "      <td>NaN</td>\n",
       "      <td>3</td>\n",
       "      <td>2</td>\n",
       "      <td>NaN</td>\n",
       "      <td>3</td>\n",
       "    </tr>\n",
       "    <tr>\n",
       "      <th>top</th>\n",
       "      <td>2dea9e05-137f-45df-9196-38c9273ac7cc</td>\n",
       "      <td>NaN</td>\n",
       "      <td>NaN</td>\n",
       "      <td>NaN</td>\n",
       "      <td>blue-collar</td>\n",
       "      <td>married</td>\n",
       "      <td>secondary</td>\n",
       "      <td>False</td>\n",
       "      <td>True</td>\n",
       "      <td>False</td>\n",
       "      <td>cellular</td>\n",
       "      <td>NaN</td>\n",
       "      <td>NaN</td>\n",
       "      <td>NaN</td>\n",
       "      <td>NaN</td>\n",
       "      <td>failure</td>\n",
       "      <td>False</td>\n",
       "      <td>NaN</td>\n",
       "      <td>mobile</td>\n",
       "    </tr>\n",
       "    <tr>\n",
       "      <th>freq</th>\n",
       "      <td>1</td>\n",
       "      <td>NaN</td>\n",
       "      <td>NaN</td>\n",
       "      <td>NaN</td>\n",
       "      <td>9731</td>\n",
       "      <td>27212</td>\n",
       "      <td>23202</td>\n",
       "      <td>44394</td>\n",
       "      <td>25128</td>\n",
       "      <td>37965</td>\n",
       "      <td>29285</td>\n",
       "      <td>NaN</td>\n",
       "      <td>NaN</td>\n",
       "      <td>NaN</td>\n",
       "      <td>NaN</td>\n",
       "      <td>4901</td>\n",
       "      <td>39920</td>\n",
       "      <td>NaN</td>\n",
       "      <td>27504</td>\n",
       "    </tr>\n",
       "    <tr>\n",
       "      <th>mean</th>\n",
       "      <td>NaN</td>\n",
       "      <td>3.977052</td>\n",
       "      <td>1369.417751</td>\n",
       "      <td>40.935853</td>\n",
       "      <td>NaN</td>\n",
       "      <td>NaN</td>\n",
       "      <td>NaN</td>\n",
       "      <td>NaN</td>\n",
       "      <td>NaN</td>\n",
       "      <td>NaN</td>\n",
       "      <td>NaN</td>\n",
       "      <td>258.153067</td>\n",
       "      <td>2.763897</td>\n",
       "      <td>40.199651</td>\n",
       "      <td>0.580349</td>\n",
       "      <td>NaN</td>\n",
       "      <td>NaN</td>\n",
       "      <td>1999-06-14 21:54:38.558619008</td>\n",
       "      <td>NaN</td>\n",
       "    </tr>\n",
       "    <tr>\n",
       "      <th>min</th>\n",
       "      <td>NaN</td>\n",
       "      <td>1.000000</td>\n",
       "      <td>-8019.000000</td>\n",
       "      <td>18.000000</td>\n",
       "      <td>NaN</td>\n",
       "      <td>NaN</td>\n",
       "      <td>NaN</td>\n",
       "      <td>NaN</td>\n",
       "      <td>NaN</td>\n",
       "      <td>NaN</td>\n",
       "      <td>NaN</td>\n",
       "      <td>0.000000</td>\n",
       "      <td>1.000000</td>\n",
       "      <td>-1.000000</td>\n",
       "      <td>0.000000</td>\n",
       "      <td>NaN</td>\n",
       "      <td>NaN</td>\n",
       "      <td>1988-01-01 00:00:00</td>\n",
       "      <td>NaN</td>\n",
       "    </tr>\n",
       "    <tr>\n",
       "      <th>25%</th>\n",
       "      <td>NaN</td>\n",
       "      <td>2.000000</td>\n",
       "      <td>73.000000</td>\n",
       "      <td>33.000000</td>\n",
       "      <td>NaN</td>\n",
       "      <td>NaN</td>\n",
       "      <td>NaN</td>\n",
       "      <td>NaN</td>\n",
       "      <td>NaN</td>\n",
       "      <td>NaN</td>\n",
       "      <td>NaN</td>\n",
       "      <td>103.000000</td>\n",
       "      <td>1.000000</td>\n",
       "      <td>-1.000000</td>\n",
       "      <td>0.000000</td>\n",
       "      <td>NaN</td>\n",
       "      <td>NaN</td>\n",
       "      <td>1993-09-18 00:00:00</td>\n",
       "      <td>NaN</td>\n",
       "    </tr>\n",
       "    <tr>\n",
       "      <th>50%</th>\n",
       "      <td>NaN</td>\n",
       "      <td>3.000000</td>\n",
       "      <td>451.000000</td>\n",
       "      <td>39.000000</td>\n",
       "      <td>NaN</td>\n",
       "      <td>NaN</td>\n",
       "      <td>NaN</td>\n",
       "      <td>NaN</td>\n",
       "      <td>NaN</td>\n",
       "      <td>NaN</td>\n",
       "      <td>NaN</td>\n",
       "      <td>180.000000</td>\n",
       "      <td>2.000000</td>\n",
       "      <td>-1.000000</td>\n",
       "      <td>0.000000</td>\n",
       "      <td>NaN</td>\n",
       "      <td>NaN</td>\n",
       "      <td>1999-06-11 00:00:00</td>\n",
       "      <td>NaN</td>\n",
       "    </tr>\n",
       "    <tr>\n",
       "      <th>75%</th>\n",
       "      <td>NaN</td>\n",
       "      <td>4.000000</td>\n",
       "      <td>1438.000000</td>\n",
       "      <td>48.000000</td>\n",
       "      <td>NaN</td>\n",
       "      <td>NaN</td>\n",
       "      <td>NaN</td>\n",
       "      <td>NaN</td>\n",
       "      <td>NaN</td>\n",
       "      <td>NaN</td>\n",
       "      <td>NaN</td>\n",
       "      <td>319.000000</td>\n",
       "      <td>3.000000</td>\n",
       "      <td>-1.000000</td>\n",
       "      <td>0.000000</td>\n",
       "      <td>NaN</td>\n",
       "      <td>NaN</td>\n",
       "      <td>2005-03-18 00:00:00</td>\n",
       "      <td>NaN</td>\n",
       "    </tr>\n",
       "    <tr>\n",
       "      <th>max</th>\n",
       "      <td>NaN</td>\n",
       "      <td>20.000000</td>\n",
       "      <td>102127.000000</td>\n",
       "      <td>95.000000</td>\n",
       "      <td>NaN</td>\n",
       "      <td>NaN</td>\n",
       "      <td>NaN</td>\n",
       "      <td>NaN</td>\n",
       "      <td>NaN</td>\n",
       "      <td>NaN</td>\n",
       "      <td>NaN</td>\n",
       "      <td>4918.000000</td>\n",
       "      <td>63.000000</td>\n",
       "      <td>871.000000</td>\n",
       "      <td>275.000000</td>\n",
       "      <td>NaN</td>\n",
       "      <td>NaN</td>\n",
       "      <td>2010-11-30 00:00:00</td>\n",
       "      <td>NaN</td>\n",
       "    </tr>\n",
       "    <tr>\n",
       "      <th>std</th>\n",
       "      <td>NaN</td>\n",
       "      <td>3.814329</td>\n",
       "      <td>3063.412688</td>\n",
       "      <td>10.618653</td>\n",
       "      <td>NaN</td>\n",
       "      <td>NaN</td>\n",
       "      <td>NaN</td>\n",
       "      <td>NaN</td>\n",
       "      <td>NaN</td>\n",
       "      <td>NaN</td>\n",
       "      <td>NaN</td>\n",
       "      <td>257.525446</td>\n",
       "      <td>3.098076</td>\n",
       "      <td>100.130586</td>\n",
       "      <td>2.303489</td>\n",
       "      <td>NaN</td>\n",
       "      <td>NaN</td>\n",
       "      <td>NaN</td>\n",
       "      <td>NaN</td>\n",
       "    </tr>\n",
       "  </tbody>\n",
       "</table>\n",
       "</div>"
      ],
      "text/plain": [
       "                                     user_id  number_transactions  \\\n",
       "count                                  45209         35210.000000   \n",
       "unique                                 45209                  NaN   \n",
       "top     2dea9e05-137f-45df-9196-38c9273ac7cc                  NaN   \n",
       "freq                                       1                  NaN   \n",
       "mean                                     NaN             3.977052   \n",
       "min                                      NaN             1.000000   \n",
       "25%                                      NaN             2.000000   \n",
       "50%                                      NaN             3.000000   \n",
       "75%                                      NaN             4.000000   \n",
       "max                                      NaN            20.000000   \n",
       "std                                      NaN             3.814329   \n",
       "\n",
       "        total_amount_usd           age          job  marital  education  \\\n",
       "count       35210.000000  45209.000000        44921    45209      43352   \n",
       "unique               NaN           NaN           11        3          3   \n",
       "top                  NaN           NaN  blue-collar  married  secondary   \n",
       "freq                 NaN           NaN         9731    27212      23202   \n",
       "mean         1369.417751     40.935853          NaN      NaN        NaN   \n",
       "min         -8019.000000     18.000000          NaN      NaN        NaN   \n",
       "25%            73.000000     33.000000          NaN      NaN        NaN   \n",
       "50%           451.000000     39.000000          NaN      NaN        NaN   \n",
       "75%          1438.000000     48.000000          NaN      NaN        NaN   \n",
       "max        102127.000000     95.000000          NaN      NaN        NaN   \n",
       "std          3063.412688     10.618653          NaN      NaN        NaN   \n",
       "\n",
       "       default housing   loan   contact      duration      campaign  \\\n",
       "count    45209   45209  45209     32191  45209.000000  45209.000000   \n",
       "unique       2       2      2         2           NaN           NaN   \n",
       "top      False    True  False  cellular           NaN           NaN   \n",
       "freq     44394   25128  37965     29285           NaN           NaN   \n",
       "mean       NaN     NaN    NaN       NaN    258.153067      2.763897   \n",
       "min        NaN     NaN    NaN       NaN      0.000000      1.000000   \n",
       "25%        NaN     NaN    NaN       NaN    103.000000      1.000000   \n",
       "50%        NaN     NaN    NaN       NaN    180.000000      2.000000   \n",
       "75%        NaN     NaN    NaN       NaN    319.000000      3.000000   \n",
       "max        NaN     NaN    NaN       NaN   4918.000000     63.000000   \n",
       "std        NaN     NaN    NaN       NaN    257.525446      3.098076   \n",
       "\n",
       "               pdays      previous poutcome term_deposit  \\\n",
       "count   45209.000000  45209.000000     8252        45209   \n",
       "unique           NaN           NaN        3            2   \n",
       "top              NaN           NaN  failure        False   \n",
       "freq             NaN           NaN     4901        39920   \n",
       "mean       40.199651      0.580349      NaN          NaN   \n",
       "min        -1.000000      0.000000      NaN          NaN   \n",
       "25%        -1.000000      0.000000      NaN          NaN   \n",
       "50%        -1.000000      0.000000      NaN          NaN   \n",
       "75%        -1.000000      0.000000      NaN          NaN   \n",
       "max       871.000000    275.000000      NaN          NaN   \n",
       "std       100.130586      2.303489      NaN          NaN   \n",
       "\n",
       "                          date_joined  device  \n",
       "count                           45179   45115  \n",
       "unique                            NaN       3  \n",
       "top                               NaN  mobile  \n",
       "freq                              NaN   27504  \n",
       "mean    1999-06-14 21:54:38.558619008     NaN  \n",
       "min               1988-01-01 00:00:00     NaN  \n",
       "25%               1993-09-18 00:00:00     NaN  \n",
       "50%               1999-06-11 00:00:00     NaN  \n",
       "75%               2005-03-18 00:00:00     NaN  \n",
       "max               2010-11-30 00:00:00     NaN  \n",
       "std                               NaN     NaN  "
      ]
     },
     "execution_count": 8,
     "metadata": {},
     "output_type": "execute_result"
    }
   ],
   "source": [
    "users_data.describe(datetime_is_numeric = True, include = 'all')"
   ]
  },
  {
   "cell_type": "markdown",
   "metadata": {
    "id": "-tTQJOqZL2eC"
   },
   "source": [
    "# Generate summary statistics for numerical data only"
   ]
  },
  {
   "cell_type": "code",
   "execution_count": 9,
   "metadata": {
    "colab": {
     "base_uri": "https://localhost:8080/",
     "height": 297
    },
    "executionInfo": {
     "elapsed": 548,
     "status": "ok",
     "timestamp": 1614989758107,
     "user": {
      "displayName": "Sarah Haq",
      "photoUrl": "https://lh3.googleusercontent.com/a-/AOh14Gh7vs3P5_F3LYi7bEV8r1vbltDxEgpoYXmxHgxGBw=s64",
      "userId": "16294508270436203551"
     },
     "user_tz": -60
    },
    "id": "n1k9ccNKpLSz",
    "outputId": "bad3607f-fbf5-4825-aeea-69d1f98c6e66"
   },
   "outputs": [
    {
     "data": {
      "text/html": [
       "<div>\n",
       "<style scoped>\n",
       "    .dataframe tbody tr th:only-of-type {\n",
       "        vertical-align: middle;\n",
       "    }\n",
       "\n",
       "    .dataframe tbody tr th {\n",
       "        vertical-align: top;\n",
       "    }\n",
       "\n",
       "    .dataframe thead th {\n",
       "        text-align: right;\n",
       "    }\n",
       "</style>\n",
       "<table border=\"1\" class=\"dataframe\">\n",
       "  <thead>\n",
       "    <tr style=\"text-align: right;\">\n",
       "      <th></th>\n",
       "      <th>number_transactions</th>\n",
       "      <th>total_amount_usd</th>\n",
       "      <th>age</th>\n",
       "      <th>duration</th>\n",
       "      <th>campaign</th>\n",
       "      <th>pdays</th>\n",
       "      <th>previous</th>\n",
       "    </tr>\n",
       "  </thead>\n",
       "  <tbody>\n",
       "    <tr>\n",
       "      <th>count</th>\n",
       "      <td>35210.000000</td>\n",
       "      <td>35210.000000</td>\n",
       "      <td>45209.000000</td>\n",
       "      <td>45209.000000</td>\n",
       "      <td>45209.000000</td>\n",
       "      <td>45209.000000</td>\n",
       "      <td>45209.000000</td>\n",
       "    </tr>\n",
       "    <tr>\n",
       "      <th>mean</th>\n",
       "      <td>3.977052</td>\n",
       "      <td>1369.417751</td>\n",
       "      <td>40.935853</td>\n",
       "      <td>258.153067</td>\n",
       "      <td>2.763897</td>\n",
       "      <td>40.199651</td>\n",
       "      <td>0.580349</td>\n",
       "    </tr>\n",
       "    <tr>\n",
       "      <th>std</th>\n",
       "      <td>3.814329</td>\n",
       "      <td>3063.412688</td>\n",
       "      <td>10.618653</td>\n",
       "      <td>257.525446</td>\n",
       "      <td>3.098076</td>\n",
       "      <td>100.130586</td>\n",
       "      <td>2.303489</td>\n",
       "    </tr>\n",
       "    <tr>\n",
       "      <th>min</th>\n",
       "      <td>1.000000</td>\n",
       "      <td>-8019.000000</td>\n",
       "      <td>18.000000</td>\n",
       "      <td>0.000000</td>\n",
       "      <td>1.000000</td>\n",
       "      <td>-1.000000</td>\n",
       "      <td>0.000000</td>\n",
       "    </tr>\n",
       "    <tr>\n",
       "      <th>25%</th>\n",
       "      <td>2.000000</td>\n",
       "      <td>73.000000</td>\n",
       "      <td>33.000000</td>\n",
       "      <td>103.000000</td>\n",
       "      <td>1.000000</td>\n",
       "      <td>-1.000000</td>\n",
       "      <td>0.000000</td>\n",
       "    </tr>\n",
       "    <tr>\n",
       "      <th>50%</th>\n",
       "      <td>3.000000</td>\n",
       "      <td>451.000000</td>\n",
       "      <td>39.000000</td>\n",
       "      <td>180.000000</td>\n",
       "      <td>2.000000</td>\n",
       "      <td>-1.000000</td>\n",
       "      <td>0.000000</td>\n",
       "    </tr>\n",
       "    <tr>\n",
       "      <th>75%</th>\n",
       "      <td>4.000000</td>\n",
       "      <td>1438.000000</td>\n",
       "      <td>48.000000</td>\n",
       "      <td>319.000000</td>\n",
       "      <td>3.000000</td>\n",
       "      <td>-1.000000</td>\n",
       "      <td>0.000000</td>\n",
       "    </tr>\n",
       "    <tr>\n",
       "      <th>max</th>\n",
       "      <td>20.000000</td>\n",
       "      <td>102127.000000</td>\n",
       "      <td>95.000000</td>\n",
       "      <td>4918.000000</td>\n",
       "      <td>63.000000</td>\n",
       "      <td>871.000000</td>\n",
       "      <td>275.000000</td>\n",
       "    </tr>\n",
       "  </tbody>\n",
       "</table>\n",
       "</div>"
      ],
      "text/plain": [
       "       number_transactions  total_amount_usd           age      duration  \\\n",
       "count         35210.000000      35210.000000  45209.000000  45209.000000   \n",
       "mean              3.977052       1369.417751     40.935853    258.153067   \n",
       "std               3.814329       3063.412688     10.618653    257.525446   \n",
       "min               1.000000      -8019.000000     18.000000      0.000000   \n",
       "25%               2.000000         73.000000     33.000000    103.000000   \n",
       "50%               3.000000        451.000000     39.000000    180.000000   \n",
       "75%               4.000000       1438.000000     48.000000    319.000000   \n",
       "max              20.000000     102127.000000     95.000000   4918.000000   \n",
       "\n",
       "           campaign         pdays      previous  \n",
       "count  45209.000000  45209.000000  45209.000000  \n",
       "mean       2.763897     40.199651      0.580349  \n",
       "std        3.098076    100.130586      2.303489  \n",
       "min        1.000000     -1.000000      0.000000  \n",
       "25%        1.000000     -1.000000      0.000000  \n",
       "50%        2.000000     -1.000000      0.000000  \n",
       "75%        3.000000     -1.000000      0.000000  \n",
       "max       63.000000    871.000000    275.000000  "
      ]
     },
     "execution_count": 9,
     "metadata": {},
     "output_type": "execute_result"
    }
   ],
   "source": [
    "users_data.describe()"
   ]
  },
  {
   "cell_type": "markdown",
   "metadata": {
    "id": "m5RObXuiIO8Y"
   },
   "source": [
    "# Generate modal values for all data"
   ]
  },
  {
   "cell_type": "code",
   "execution_count": 10,
   "metadata": {
    "colab": {
     "base_uri": "https://localhost:8080/",
     "height": 148
    },
    "executionInfo": {
     "elapsed": 395,
     "status": "ok",
     "timestamp": 1614989759073,
     "user": {
      "displayName": "Sarah Haq",
      "photoUrl": "https://lh3.googleusercontent.com/a-/AOh14Gh7vs3P5_F3LYi7bEV8r1vbltDxEgpoYXmxHgxGBw=s64",
      "userId": "16294508270436203551"
     },
     "user_tz": -60
    },
    "id": "VzkCiNx5Wg3C",
    "outputId": "38c242eb-69f7-4d7e-d52c-164814c411b4"
   },
   "outputs": [
    {
     "data": {
      "text/html": [
       "<div>\n",
       "<style scoped>\n",
       "    .dataframe tbody tr th:only-of-type {\n",
       "        vertical-align: middle;\n",
       "    }\n",
       "\n",
       "    .dataframe tbody tr th {\n",
       "        vertical-align: top;\n",
       "    }\n",
       "\n",
       "    .dataframe thead th {\n",
       "        text-align: right;\n",
       "    }\n",
       "</style>\n",
       "<table border=\"1\" class=\"dataframe\">\n",
       "  <thead>\n",
       "    <tr style=\"text-align: right;\">\n",
       "      <th></th>\n",
       "      <th>number_transactions</th>\n",
       "      <th>total_amount_usd</th>\n",
       "      <th>age</th>\n",
       "      <th>job</th>\n",
       "      <th>marital</th>\n",
       "      <th>education</th>\n",
       "      <th>default</th>\n",
       "      <th>housing</th>\n",
       "      <th>loan</th>\n",
       "      <th>contact</th>\n",
       "      <th>duration</th>\n",
       "      <th>campaign</th>\n",
       "      <th>pdays</th>\n",
       "      <th>previous</th>\n",
       "      <th>poutcome</th>\n",
       "      <th>term_deposit</th>\n",
       "      <th>date_joined</th>\n",
       "      <th>device</th>\n",
       "    </tr>\n",
       "  </thead>\n",
       "  <tbody>\n",
       "    <tr>\n",
       "      <th>0</th>\n",
       "      <td>2.0</td>\n",
       "      <td>0.0</td>\n",
       "      <td>32.0</td>\n",
       "      <td>blue-collar</td>\n",
       "      <td>married</td>\n",
       "      <td>secondary</td>\n",
       "      <td>False</td>\n",
       "      <td>True</td>\n",
       "      <td>False</td>\n",
       "      <td>cellular</td>\n",
       "      <td>124.0</td>\n",
       "      <td>1.0</td>\n",
       "      <td>-1.0</td>\n",
       "      <td>0.0</td>\n",
       "      <td>failure</td>\n",
       "      <td>False</td>\n",
       "      <td>1990-07-05</td>\n",
       "      <td>mobile</td>\n",
       "    </tr>\n",
       "    <tr>\n",
       "      <th>1</th>\n",
       "      <td>NaN</td>\n",
       "      <td>NaN</td>\n",
       "      <td>NaN</td>\n",
       "      <td>NaN</td>\n",
       "      <td>NaN</td>\n",
       "      <td>NaN</td>\n",
       "      <td>NaN</td>\n",
       "      <td>NaN</td>\n",
       "      <td>NaN</td>\n",
       "      <td>NaN</td>\n",
       "      <td>NaN</td>\n",
       "      <td>NaN</td>\n",
       "      <td>NaN</td>\n",
       "      <td>NaN</td>\n",
       "      <td>NaN</td>\n",
       "      <td>NaN</td>\n",
       "      <td>2007-12-07</td>\n",
       "      <td>NaN</td>\n",
       "    </tr>\n",
       "  </tbody>\n",
       "</table>\n",
       "</div>"
      ],
      "text/plain": [
       "   number_transactions  total_amount_usd   age          job  marital  \\\n",
       "0                  2.0               0.0  32.0  blue-collar  married   \n",
       "1                  NaN               NaN   NaN          NaN      NaN   \n",
       "\n",
       "   education default housing   loan   contact  duration  campaign  pdays  \\\n",
       "0  secondary   False    True  False  cellular     124.0       1.0   -1.0   \n",
       "1        NaN     NaN     NaN    NaN       NaN       NaN       NaN    NaN   \n",
       "\n",
       "   previous poutcome term_deposit date_joined  device  \n",
       "0       0.0  failure        False  1990-07-05  mobile  \n",
       "1       NaN      NaN          NaN  2007-12-07     NaN  "
      ]
     },
     "execution_count": 10,
     "metadata": {},
     "output_type": "execute_result"
    }
   ],
   "source": [
    "# Drop user ID since it's unique.\n",
    "\n",
    "users_data.drop(['user_id'], axis = 1).mode()"
   ]
  },
  {
   "cell_type": "markdown",
   "metadata": {},
   "source": [
    "# Generate skewness and kurtosis measurements"
   ]
  },
  {
   "cell_type": "code",
   "execution_count": 11,
   "metadata": {},
   "outputs": [
    {
     "data": {
      "text/plain": [
       "number_transactions     2.704543\n",
       "total_amount_usd        8.596128\n",
       "age                     0.684861\n",
       "default                 7.245206\n",
       "housing                -0.224686\n",
       "loan                    1.852545\n",
       "duration                3.144556\n",
       "campaign                4.898555\n",
       "pdays                   2.615635\n",
       "previous               41.845672\n",
       "term_deposit            2.383403\n",
       "dtype: float64"
      ]
     },
     "execution_count": 11,
     "metadata": {},
     "output_type": "execute_result"
    }
   ],
   "source": [
    "users_data.skew()"
   ]
  },
  {
   "cell_type": "code",
   "execution_count": 12,
   "metadata": {},
   "outputs": [
    {
     "data": {
      "text/plain": [
       "number_transactions       6.659034\n",
       "total_amount_usd        150.790967\n",
       "age                       0.319760\n",
       "default                  50.495241\n",
       "housing                  -1.949602\n",
       "loan                      1.431987\n",
       "duration                 18.155941\n",
       "campaign                 39.248145\n",
       "pdays                     6.934713\n",
       "previous               4506.684640\n",
       "term_deposit              3.680770\n",
       "dtype: float64"
      ]
     },
     "execution_count": 12,
     "metadata": {},
     "output_type": "execute_result"
    }
   ],
   "source": [
    "users_data.kurt()"
   ]
  },
  {
   "cell_type": "markdown",
   "metadata": {
    "id": "00d-J3c3L7Vv"
   },
   "source": [
    "# Plot histograms for all numerical columns"
   ]
  },
  {
   "cell_type": "code",
   "execution_count": 13,
   "metadata": {
    "executionInfo": {
     "elapsed": 595,
     "status": "ok",
     "timestamp": 1614989762591,
     "user": {
      "displayName": "Sarah Haq",
      "photoUrl": "https://lh3.googleusercontent.com/a-/AOh14Gh7vs3P5_F3LYi7bEV8r1vbltDxEgpoYXmxHgxGBw=s64",
      "userId": "16294508270436203551"
     },
     "user_tz": -60
    },
    "id": "81kXqXk7KfDS"
   },
   "outputs": [],
   "source": [
    "users_data_for_hist = \\\n",
    "users_data.select_dtypes(exclude = ['bool'])"
   ]
  },
  {
   "cell_type": "code",
   "execution_count": 14,
   "metadata": {
    "colab": {
     "base_uri": "https://localhost:8080/",
     "height": 607
    },
    "executionInfo": {
     "elapsed": 2001,
     "status": "ok",
     "timestamp": 1614989764588,
     "user": {
      "displayName": "Sarah Haq",
      "photoUrl": "https://lh3.googleusercontent.com/a-/AOh14Gh7vs3P5_F3LYi7bEV8r1vbltDxEgpoYXmxHgxGBw=s64",
      "userId": "16294508270436203551"
     },
     "user_tz": -60
    },
    "id": "J8hhGYqwp37U",
    "outputId": "d2933e87-9a0d-457e-f246-fa5ca4852fc3"
   },
   "outputs": [
    {
     "data": {
      "image/png": "[encoded data removed]",
      "text/plain": [
       "<Figure size 1440x720 with 9 Axes>"
      ]
     },
     "metadata": {
      "needs_background": "light"
     },
     "output_type": "display_data"
    }
   ],
   "source": [
    "users_data_for_hist.hist(figsize = (20, 10), alpha = 0.5,\n",
    "                         edgecolor = 'black', grid = False);"
   ]
  },
  {
   "cell_type": "markdown",
   "metadata": {
    "id": "A4xo00WNSrnd"
   },
   "source": [
    "# Generate a box plot for `age`"
   ]
  },
  {
   "cell_type": "code",
   "execution_count": 15,
   "metadata": {
    "colab": {
     "base_uri": "https://localhost:8080/"
    },
    "executionInfo": {
     "elapsed": 587,
     "status": "ok",
     "timestamp": 1614989766584,
     "user": {
      "displayName": "Sarah Haq",
      "photoUrl": "https://lh3.googleusercontent.com/a-/AOh14Gh7vs3P5_F3LYi7bEV8r1vbltDxEgpoYXmxHgxGBw=s64",
      "userId": "16294508270436203551"
     },
     "user_tz": -60
    },
    "id": "lwMU_JpmSy0e",
    "outputId": "71d80538-e864-4350-9dab-35a2b12584ae"
   },
   "outputs": [
    {
     "data": {
      "text/plain": [
       "count    45209.000000\n",
       "mean        40.935853\n",
       "std         10.618653\n",
       "min         18.000000\n",
       "25%         33.000000\n",
       "50%         39.000000\n",
       "75%         48.000000\n",
       "max         95.000000\n",
       "Name: age, dtype: float64"
      ]
     },
     "execution_count": 15,
     "metadata": {},
     "output_type": "execute_result"
    }
   ],
   "source": [
    "users_data['age'].describe()"
   ]
  },
  {
   "cell_type": "code",
   "execution_count": 16,
   "metadata": {
    "colab": {
     "base_uri": "https://localhost:8080/",
     "height": 171
    },
    "executionInfo": {
     "elapsed": 714,
     "status": "ok",
     "timestamp": 1614989767166,
     "user": {
      "displayName": "Sarah Haq",
      "photoUrl": "https://lh3.googleusercontent.com/a-/AOh14Gh7vs3P5_F3LYi7bEV8r1vbltDxEgpoYXmxHgxGBw=s64",
      "userId": "16294508270436203551"
     },
     "user_tz": -60
    },
    "id": "YNUJZeIYwJE6",
    "outputId": "87bbcd25-faea-4abb-aba6-1046d59456dd"
   },
   "outputs": [
    {
     "data": {
      "image/png": "[encoded data removed]",
      "text/plain": [
       "<Figure size 432x144 with 1 Axes>"
      ]
     },
     "metadata": {
      "needs_background": "light"
     },
     "output_type": "display_data"
    }
   ],
   "source": [
    "plt.figure(figsize = (6, 2))\n",
    "sns.boxplot(x = users_data['age'], linewidth = 0.9);"
   ]
  },
  {
   "cell_type": "markdown",
   "metadata": {
    "id": "YO8MqxWxTXKf"
   },
   "source": [
    "# Generate a violin plot for `age`"
   ]
  },
  {
   "cell_type": "code",
   "execution_count": 17,
   "metadata": {
    "colab": {
     "base_uri": "https://localhost:8080/",
     "height": 279
    },
    "executionInfo": {
     "elapsed": 771,
     "status": "ok",
     "timestamp": 1614989769587,
     "user": {
      "displayName": "Sarah Haq",
      "photoUrl": "https://lh3.googleusercontent.com/a-/AOh14Gh7vs3P5_F3LYi7bEV8r1vbltDxEgpoYXmxHgxGBw=s64",
      "userId": "16294508270436203551"
     },
     "user_tz": -60
    },
    "id": "zgfx9-NTwaLO",
    "outputId": "39fe12f0-3779-4a3c-ef0a-ae74e48b6113"
   },
   "outputs": [
    {
     "data": {
      "image/png": "[encoded data removed]",
      "text/plain": [
       "<Figure size 432x288 with 1 Axes>"
      ]
     },
     "metadata": {
      "needs_background": "light"
     },
     "output_type": "display_data"
    }
   ],
   "source": [
    "sns.violinplot(x = users_data['age'], linewidth = 0.9);"
   ]
  },
  {
   "cell_type": "markdown",
   "metadata": {
    "id": "9MQ65ougTcPd"
   },
   "source": [
    "# Generate a box plot for `number_transactions`"
   ]
  },
  {
   "cell_type": "code",
   "execution_count": 18,
   "metadata": {
    "colab": {
     "base_uri": "https://localhost:8080/"
    },
    "executionInfo": {
     "elapsed": 519,
     "status": "ok",
     "timestamp": 1614989771367,
     "user": {
      "displayName": "Sarah Haq",
      "photoUrl": "https://lh3.googleusercontent.com/a-/AOh14Gh7vs3P5_F3LYi7bEV8r1vbltDxEgpoYXmxHgxGBw=s64",
      "userId": "16294508270436203551"
     },
     "user_tz": -60
    },
    "id": "yQJ9ym4eTnoZ",
    "outputId": "34d5d1a4-94a1-41b5-939b-1b4a09e245e7"
   },
   "outputs": [
    {
     "data": {
      "text/plain": [
       "count    35210.000000\n",
       "mean         3.977052\n",
       "std          3.814329\n",
       "min          1.000000\n",
       "25%          2.000000\n",
       "50%          3.000000\n",
       "75%          4.000000\n",
       "max         20.000000\n",
       "Name: number_transactions, dtype: float64"
      ]
     },
     "execution_count": 18,
     "metadata": {},
     "output_type": "execute_result"
    }
   ],
   "source": [
    "users_data['number_transactions'].describe()"
   ]
  },
  {
   "cell_type": "code",
   "execution_count": 19,
   "metadata": {
    "colab": {
     "base_uri": "https://localhost:8080/",
     "height": 172
    },
    "executionInfo": {
     "elapsed": 569,
     "status": "ok",
     "timestamp": 1614989772370,
     "user": {
      "displayName": "Sarah Haq",
      "photoUrl": "https://lh3.googleusercontent.com/a-/AOh14Gh7vs3P5_F3LYi7bEV8r1vbltDxEgpoYXmxHgxGBw=s64",
      "userId": "16294508270436203551"
     },
     "user_tz": -60
    },
    "id": "Q8G39zcfTuT-",
    "outputId": "9c55b6bf-ddee-415a-f669-8aa545997101"
   },
   "outputs": [
    {
     "data": {
      "image/png": "[encoded data removed]",
      "text/plain": [
       "<Figure size 432x144 with 1 Axes>"
      ]
     },
     "metadata": {
      "needs_background": "light"
     },
     "output_type": "display_data"
    }
   ],
   "source": [
    "plt.figure(figsize = (6, 2))\n",
    "sns.boxplot(x = users_data['number_transactions'],\n",
    "           linewidth = 0.9);"
   ]
  },
  {
   "cell_type": "markdown",
   "metadata": {},
   "source": [
    "# Generate a violin plot for `number_transactions`"
   ]
  },
  {
   "cell_type": "code",
   "execution_count": 20,
   "metadata": {
    "colab": {
     "base_uri": "https://localhost:8080/",
     "height": 280
    },
    "executionInfo": {
     "elapsed": 736,
     "status": "ok",
     "timestamp": 1614989774376,
     "user": {
      "displayName": "Sarah Haq",
      "photoUrl": "https://lh3.googleusercontent.com/a-/AOh14Gh7vs3P5_F3LYi7bEV8r1vbltDxEgpoYXmxHgxGBw=s64",
      "userId": "16294508270436203551"
     },
     "user_tz": -60
    },
    "id": "L_7ZdfYWTzvF",
    "outputId": "86df73d5-a3a9-4068-9e64-b7dba667c049"
   },
   "outputs": [
    {
     "data": {
      "image/png": "[encoded data removed]",
      "text/plain": [
       "<Figure size 432x288 with 1 Axes>"
      ]
     },
     "metadata": {
      "needs_background": "light"
     },
     "output_type": "display_data"
    }
   ],
   "source": [
    "sns.violinplot(x = users_data['number_transactions'],\n",
    "              linewidth = 0.9);"
   ]
  },
  {
   "cell_type": "markdown",
   "metadata": {},
   "source": [
    "# Generate scatter plots comparing `total_amount_usd` to `number_transactions`"
   ]
  },
  {
   "cell_type": "code",
   "execution_count": 21,
   "metadata": {
    "colab": {
     "base_uri": "https://localhost:8080/",
     "height": 280
    },
    "executionInfo": {
     "elapsed": 874,
     "status": "ok",
     "timestamp": 1614989777303,
     "user": {
      "displayName": "Sarah Haq",
      "photoUrl": "https://lh3.googleusercontent.com/a-/AOh14Gh7vs3P5_F3LYi7bEV8r1vbltDxEgpoYXmxHgxGBw=s64",
      "userId": "16294508270436203551"
     },
     "user_tz": -60
    },
    "id": "69LF98qNaZC0",
    "outputId": "9da22e22-b44e-4300-f1b6-7b95bd18ed50"
   },
   "outputs": [
    {
     "data": {
      "image/png": "[encoded data removed]",
      "text/plain": [
       "<Figure size 432x288 with 1 Axes>"
      ]
     },
     "metadata": {
      "needs_background": "light"
     },
     "output_type": "display_data"
    }
   ],
   "source": [
    "sns.scatterplot(data = users_data, x = 'total_amount_usd',\n",
    "               y = 'number_transactions');"
   ]
  },
  {
   "cell_type": "code",
   "execution_count": 22,
   "metadata": {
    "colab": {
     "base_uri": "https://localhost:8080/",
     "height": 280
    },
    "executionInfo": {
     "elapsed": 2404,
     "status": "ok",
     "timestamp": 1614989780282,
     "user": {
      "displayName": "Sarah Haq",
      "photoUrl": "https://lh3.googleusercontent.com/a-/AOh14Gh7vs3P5_F3LYi7bEV8r1vbltDxEgpoYXmxHgxGBw=s64",
      "userId": "16294508270436203551"
     },
     "user_tz": -60
    },
    "id": "ULRp88yJuuOg",
    "outputId": "c0a13ce6-5b1a-4b98-be77-db6b6fd6a8af"
   },
   "outputs": [
    {
     "data": {
      "image/png": "[encoded data removed]",
      "text/plain": [
       "<Figure size 432x288 with 1 Axes>"
      ]
     },
     "metadata": {
      "needs_background": "light"
     },
     "output_type": "display_data"
    }
   ],
   "source": [
    "sns.scatterplot(data = users_data, x = 'total_amount_usd',\n",
    "               y = 'number_transactions', hue = 'education');"
   ]
  },
  {
   "cell_type": "markdown",
   "metadata": {},
   "source": [
    "# Generate a line plot for `total_amount_usd`"
   ]
  },
  {
   "cell_type": "code",
   "execution_count": 23,
   "metadata": {},
   "outputs": [
    {
     "data": {
      "image/png": "[encoded data removed]",
      "text/plain": [
       "<Figure size 432x288 with 1 Axes>"
      ]
     },
     "metadata": {
      "needs_background": "light"
     },
     "output_type": "display_data"
    }
   ],
   "source": [
    "years = users_data['date_joined'].dt.year\n",
    "\n",
    "sns.lineplot(data = users_data, x = years,\n",
    "            y = 'total_amount_usd',\n",
    "            estimator = np.mean);"
   ]
  },
  {
   "cell_type": "markdown",
   "metadata": {
    "id": "ipDAVPnIMEOi"
   },
   "source": [
    "# Generate bar charts for `job`"
   ]
  },
  {
   "cell_type": "code",
   "execution_count": 24,
   "metadata": {
    "colab": {
     "base_uri": "https://localhost:8080/"
    },
    "executionInfo": {
     "elapsed": 533,
     "status": "ok",
     "timestamp": 1614989783429,
     "user": {
      "displayName": "Sarah Haq",
      "photoUrl": "https://lh3.googleusercontent.com/a-/AOh14Gh7vs3P5_F3LYi7bEV8r1vbltDxEgpoYXmxHgxGBw=s64",
      "userId": "16294508270436203551"
     },
     "user_tz": -60
    },
    "id": "SdYrrsK0MZ2Y",
    "outputId": "19c5157c-09d0-430b-e05e-8138342647ef"
   },
   "outputs": [
    {
     "data": {
      "text/plain": [
       "blue-collar      9731\n",
       "management       9457\n",
       "technician       7597\n",
       "admin.           5171\n",
       "services         4154\n",
       "retired          2264\n",
       "self-employed    1579\n",
       "entrepreneur     1487\n",
       "unemployed       1303\n",
       "housemaid        1240\n",
       "student           938\n",
       "NaN               288\n",
       "Name: job, dtype: int64"
      ]
     },
     "execution_count": 24,
     "metadata": {},
     "output_type": "execute_result"
    }
   ],
   "source": [
    "users_job_dist = \\\n",
    "users_data['job'].value_counts(dropna = False)\n",
    "\n",
    "users_job_dist"
   ]
  },
  {
   "cell_type": "code",
   "execution_count": 25,
   "metadata": {
    "colab": {
     "base_uri": "https://localhost:8080/",
     "height": 342
    },
    "executionInfo": {
     "elapsed": 568,
     "status": "ok",
     "timestamp": 1614989784539,
     "user": {
      "displayName": "Sarah Haq",
      "photoUrl": "https://lh3.googleusercontent.com/a-/AOh14Gh7vs3P5_F3LYi7bEV8r1vbltDxEgpoYXmxHgxGBw=s64",
      "userId": "16294508270436203551"
     },
     "user_tz": -60
    },
    "id": "Z-qiLn5hOras",
    "outputId": "d7ed2f57-e5c8-4e11-f429-a5ff5ca29717"
   },
   "outputs": [
    {
     "data": {
      "image/png": "[encoded data removed]",
      "text/plain": [
       "<Figure size 432x288 with 1 Axes>"
      ]
     },
     "metadata": {
      "needs_background": "light"
     },
     "output_type": "display_data"
    }
   ],
   "source": [
    "# Vertical bar chart.\n",
    "\n",
    "users_job_dist.plot(kind = 'bar')\n",
    "plt.title('Distribution of Jobs');"
   ]
  },
  {
   "cell_type": "code",
   "execution_count": 26,
   "metadata": {
    "colab": {
     "base_uri": "https://localhost:8080/",
     "height": 281
    },
    "executionInfo": {
     "elapsed": 601,
     "status": "ok",
     "timestamp": 1614989785860,
     "user": {
      "displayName": "Sarah Haq",
      "photoUrl": "https://lh3.googleusercontent.com/a-/AOh14Gh7vs3P5_F3LYi7bEV8r1vbltDxEgpoYXmxHgxGBw=s64",
      "userId": "16294508270436203551"
     },
     "user_tz": -60
    },
    "id": "_tCfBw8uPBft",
    "outputId": "a7dca75c-2399-4896-e15d-a9fde36245e7"
   },
   "outputs": [
    {
     "data": {
      "image/png": "[encoded data removed]",
      "text/plain": [
       "<Figure size 432x288 with 1 Axes>"
      ]
     },
     "metadata": {
      "needs_background": "light"
     },
     "output_type": "display_data"
    }
   ],
   "source": [
    "# Horizontal bar chart\n",
    "\n",
    "users_job_dist.plot(kind = 'barh')\n",
    "plt.title('Distribution of Jobs');"
   ]
  },
  {
   "cell_type": "code",
   "execution_count": 27,
   "metadata": {
    "colab": {
     "base_uri": "https://localhost:8080/",
     "height": 326
    },
    "executionInfo": {
     "elapsed": 616,
     "status": "ok",
     "timestamp": 1614989788224,
     "user": {
      "displayName": "Sarah Haq",
      "photoUrl": "https://lh3.googleusercontent.com/a-/AOh14Gh7vs3P5_F3LYi7bEV8r1vbltDxEgpoYXmxHgxGBw=s64",
      "userId": "16294508270436203551"
     },
     "user_tz": -60
    },
    "id": "WweMLrneQrCZ",
    "outputId": "4cd1495e-7cca-498d-a70c-1e6911aca37a"
   },
   "outputs": [
    {
     "data": {
      "image/png": "[encoded data removed]",
      "text/plain": [
       "<Figure size 432x288 with 1 Axes>"
      ]
     },
     "metadata": {
      "needs_background": "light"
     },
     "output_type": "display_data"
    }
   ],
   "source": [
    "# Exclude missing values.\n",
    "\n",
    "users_data['job'].value_counts().plot(kind = 'bar');"
   ]
  },
  {
   "cell_type": "markdown",
   "metadata": {
    "id": "39FtYbpANyNV"
   },
   "source": [
    "# Generate a bar chart for `marital`"
   ]
  },
  {
   "cell_type": "code",
   "execution_count": 28,
   "metadata": {
    "colab": {
     "base_uri": "https://localhost:8080/"
    },
    "executionInfo": {
     "elapsed": 542,
     "status": "ok",
     "timestamp": 1614989789915,
     "user": {
      "displayName": "Sarah Haq",
      "photoUrl": "https://lh3.googleusercontent.com/a-/AOh14Gh7vs3P5_F3LYi7bEV8r1vbltDxEgpoYXmxHgxGBw=s64",
      "userId": "16294508270436203551"
     },
     "user_tz": -60
    },
    "id": "zL7waX08NtGu",
    "outputId": "413e0c55-ab55-41e6-9c6a-60825de019c3"
   },
   "outputs": [
    {
     "data": {
      "text/plain": [
       "married     27212\n",
       "single      12790\n",
       "divorced     5207\n",
       "Name: marital, dtype: int64"
      ]
     },
     "execution_count": 28,
     "metadata": {},
     "output_type": "execute_result"
    }
   ],
   "source": [
    "users_marital_dist = \\\n",
    "users_data['marital'].value_counts(dropna = False)\n",
    "\n",
    "users_marital_dist"
   ]
  },
  {
   "cell_type": "code",
   "execution_count": 29,
   "metadata": {
    "colab": {
     "base_uri": "https://localhost:8080/",
     "height": 314
    },
    "executionInfo": {
     "elapsed": 796,
     "status": "ok",
     "timestamp": 1614989791081,
     "user": {
      "displayName": "Sarah Haq",
      "photoUrl": "https://lh3.googleusercontent.com/a-/AOh14Gh7vs3P5_F3LYi7bEV8r1vbltDxEgpoYXmxHgxGBw=s64",
      "userId": "16294508270436203551"
     },
     "user_tz": -60
    },
    "id": "IxJxpIFBPp3V",
    "outputId": "1f435d74-49a1-4b5d-875e-b47dea171dc8"
   },
   "outputs": [
    {
     "data": {
      "image/png": "[encoded data removed]",
      "text/plain": [
       "<Figure size 432x288 with 1 Axes>"
      ]
     },
     "metadata": {
      "needs_background": "light"
     },
     "output_type": "display_data"
    }
   ],
   "source": [
    "users_marital_dist.plot(kind = 'bar')\n",
    "plt.title('Distribution of Marital Status');"
   ]
  },
  {
   "cell_type": "markdown",
   "metadata": {
    "id": "KUHbG4mpMbe9"
   },
   "source": [
    "# Generate a bar chart for `education`"
   ]
  },
  {
   "cell_type": "code",
   "execution_count": 30,
   "metadata": {
    "colab": {
     "base_uri": "https://localhost:8080/"
    },
    "executionInfo": {
     "elapsed": 564,
     "status": "ok",
     "timestamp": 1614989792544,
     "user": {
      "displayName": "Sarah Haq",
      "photoUrl": "https://lh3.googleusercontent.com/a-/AOh14Gh7vs3P5_F3LYi7bEV8r1vbltDxEgpoYXmxHgxGBw=s64",
      "userId": "16294508270436203551"
     },
     "user_tz": -60
    },
    "id": "__eWRLpHN9SA",
    "outputId": "0b20f8e8-4faa-405c-9114-702a0c45b81a"
   },
   "outputs": [
    {
     "data": {
      "text/plain": [
       "secondary    23202\n",
       "tertiary     13300\n",
       "primary       6850\n",
       "NaN           1857\n",
       "Name: education, dtype: int64"
      ]
     },
     "execution_count": 30,
     "metadata": {},
     "output_type": "execute_result"
    }
   ],
   "source": [
    "users_education_dist = \\\n",
    "users_data['education'].value_counts(dropna = False)\n",
    "\n",
    "users_education_dist"
   ]
  },
  {
   "cell_type": "code",
   "execution_count": 31,
   "metadata": {
    "colab": {
     "base_uri": "https://localhost:8080/",
     "height": 323
    },
    "executionInfo": {
     "elapsed": 573,
     "status": "ok",
     "timestamp": 1614989793501,
     "user": {
      "displayName": "Sarah Haq",
      "photoUrl": "https://lh3.googleusercontent.com/a-/AOh14Gh7vs3P5_F3LYi7bEV8r1vbltDxEgpoYXmxHgxGBw=s64",
      "userId": "16294508270436203551"
     },
     "user_tz": -60
    },
    "id": "W9s0k0m7P468",
    "outputId": "c8fa63db-9d0d-4e15-82fb-2b9ce7d46870"
   },
   "outputs": [
    {
     "data": {
      "image/png": "[encoded data removed]",
      "text/plain": [
       "<Figure size 432x288 with 1 Axes>"
      ]
     },
     "metadata": {
      "needs_background": "light"
     },
     "output_type": "display_data"
    }
   ],
   "source": [
    "users_education_dist.plot(kind = 'bar')\n",
    "plt.title('Distribution of Education');"
   ]
  },
  {
   "cell_type": "markdown",
   "metadata": {
    "id": "4myvtcEQOAun"
   },
   "source": [
    "# Generate a bar chart for `contact`"
   ]
  },
  {
   "cell_type": "code",
   "execution_count": 32,
   "metadata": {
    "executionInfo": {
     "elapsed": 534,
     "status": "ok",
     "timestamp": 1614989795712,
     "user": {
      "displayName": "Sarah Haq",
      "photoUrl": "https://lh3.googleusercontent.com/a-/AOh14Gh7vs3P5_F3LYi7bEV8r1vbltDxEgpoYXmxHgxGBw=s64",
      "userId": "16294508270436203551"
     },
     "user_tz": -60
    },
    "id": "d2Wc1VXJP-up"
   },
   "outputs": [
    {
     "data": {
      "image/png": "[encoded data removed]",
      "text/plain": [
       "<Figure size 432x288 with 1 Axes>"
      ]
     },
     "metadata": {
      "needs_background": "light"
     },
     "output_type": "display_data"
    }
   ],
   "source": [
    "users_contact_dist = \\\n",
    "users_data['contact'].value_counts(dropna = False)\n",
    "\n",
    "users_contact_dist.plot(kind = 'bar')\n",
    "plt.title('Distribution of Contact');"
   ]
  },
  {
   "cell_type": "markdown",
   "metadata": {
    "id": "4DoFCsjOMGvS"
   },
   "source": [
    "# Generate a bar chart for `poutcome`"
   ]
  },
  {
   "cell_type": "code",
   "execution_count": 33,
   "metadata": {
    "colab": {
     "base_uri": "https://localhost:8080/"
    },
    "executionInfo": {
     "elapsed": 572,
     "status": "ok",
     "timestamp": 1614989798695,
     "user": {
      "displayName": "Sarah Haq",
      "photoUrl": "https://lh3.googleusercontent.com/a-/AOh14Gh7vs3P5_F3LYi7bEV8r1vbltDxEgpoYXmxHgxGBw=s64",
      "userId": "16294508270436203551"
     },
     "user_tz": -60
    },
    "id": "1ZmS7AxPPfTk",
    "outputId": "86c2f78e-9811-42b6-c22a-bf554972e8d7"
   },
   "outputs": [
    {
     "data": {
      "image/png": "[encoded data removed]",
      "text/plain": [
       "<Figure size 432x288 with 1 Axes>"
      ]
     },
     "metadata": {
      "needs_background": "light"
     },
     "output_type": "display_data"
    }
   ],
   "source": [
    "users_poutcome_dist = \\\n",
    "users_data['poutcome'].value_counts(dropna = False)\n",
    "\n",
    "users_poutcome_dist.plot(kind = 'bar')\n",
    "plt.title('Distribution of Poutcome');"
   ]
  },
  {
   "cell_type": "markdown",
   "metadata": {},
   "source": [
    "# Generate a bar chart for `default`"
   ]
  },
  {
   "cell_type": "code",
   "execution_count": 34,
   "metadata": {},
   "outputs": [
    {
     "data": {
      "image/png": "[encoded data removed]",
      "text/plain": [
       "<Figure size 432x288 with 1 Axes>"
      ]
     },
     "metadata": {
      "needs_background": "light"
     },
     "output_type": "display_data"
    }
   ],
   "source": [
    "users_default_dist = \\\n",
    "users_data['default'].value_counts(dropna = False)\n",
    "\n",
    "users_default_dist.plot(kind = 'bar')\n",
    "plt.title('Distribution of Loan Default');"
   ]
  },
  {
   "cell_type": "markdown",
   "metadata": {
    "id": "OHgpT0XNL_SW"
   },
   "source": [
    "# Generate a bar chart for `device`"
   ]
  },
  {
   "cell_type": "code",
   "execution_count": 35,
   "metadata": {
    "colab": {
     "base_uri": "https://localhost:8080/"
    },
    "executionInfo": {
     "elapsed": 452,
     "status": "ok",
     "timestamp": 1614989799773,
     "user": {
      "displayName": "Sarah Haq",
      "photoUrl": "https://lh3.googleusercontent.com/a-/AOh14Gh7vs3P5_F3LYi7bEV8r1vbltDxEgpoYXmxHgxGBw=s64",
      "userId": "16294508270436203551"
     },
     "user_tz": -60
    },
    "id": "Q9Ov5VSisJ9i",
    "outputId": "f6b87748-d1bf-4a13-c67f-4db7a6ef78d8"
   },
   "outputs": [
    {
     "data": {
      "text/plain": [
       "mobile     27504\n",
       "desktop    12112\n",
       "tablet      5499\n",
       "NaN           94\n",
       "Name: device, dtype: int64"
      ]
     },
     "execution_count": 35,
     "metadata": {},
     "output_type": "execute_result"
    }
   ],
   "source": [
    "users_device_dist = \\\n",
    "users_data['device'].value_counts(dropna = False)\n",
    "\n",
    "users_device_dist"
   ]
  },
  {
   "cell_type": "code",
   "execution_count": 36,
   "metadata": {
    "colab": {
     "base_uri": "https://localhost:8080/",
     "height": 324
    },
    "executionInfo": {
     "elapsed": 929,
     "status": "ok",
     "timestamp": 1614989800593,
     "user": {
      "displayName": "Sarah Haq",
      "photoUrl": "https://lh3.googleusercontent.com/a-/AOh14Gh7vs3P5_F3LYi7bEV8r1vbltDxEgpoYXmxHgxGBw=s64",
      "userId": "16294508270436203551"
     },
     "user_tz": -60
    },
    "id": "FSVEAif9rmHy",
    "outputId": "2765deac-7c6a-4e00-86c9-77956afc0a1b"
   },
   "outputs": [
    {
     "data": {
      "image/png": "[encoded data removed]",
      "text/plain": [
       "<Figure size 432x288 with 1 Axes>"
      ]
     },
     "metadata": {
      "needs_background": "light"
     },
     "output_type": "display_data"
    }
   ],
   "source": [
    "users_device_dist.plot(kind = 'bar',\n",
    "                      alpha = 0.5, edgecolor = 'black')\n",
    "plt.title('Distribution of Device',\n",
    "         size = 12, weight = 'bold')\n",
    "plt.xticks(rotation = 45, size = 11)\n",
    "plt.xlabel('Device Name', size = 10, weight = 'bold')\n",
    "plt.ylabel('Frequency', size = 10, weight = 'bold')\n",
    "plt.show();"
   ]
  },
  {
   "cell_type": "markdown",
   "metadata": {
    "id": "eYIvtIYURx-R"
   },
   "source": [
    "# Generate a heatmap for the feature correlations"
   ]
  },
  {
   "cell_type": "code",
   "execution_count": 37,
   "metadata": {
    "colab": {
     "base_uri": "https://localhost:8080/",
     "height": 390
    },
    "executionInfo": {
     "elapsed": 598,
     "status": "ok",
     "timestamp": 1614989802787,
     "user": {
      "displayName": "Sarah Haq",
      "photoUrl": "https://lh3.googleusercontent.com/a-/AOh14Gh7vs3P5_F3LYi7bEV8r1vbltDxEgpoYXmxHgxGBw=s64",
      "userId": "16294508270436203551"
     },
     "user_tz": -60
    },
    "id": "AVSLzu8TRvvP",
    "outputId": "1d137919-57b2-4e7b-c1f2-a70c394eec92"
   },
   "outputs": [
    {
     "data": {
      "text/html": [
       "<div>\n",
       "<style scoped>\n",
       "    .dataframe tbody tr th:only-of-type {\n",
       "        vertical-align: middle;\n",
       "    }\n",
       "\n",
       "    .dataframe tbody tr th {\n",
       "        vertical-align: top;\n",
       "    }\n",
       "\n",
       "    .dataframe thead th {\n",
       "        text-align: right;\n",
       "    }\n",
       "</style>\n",
       "<table border=\"1\" class=\"dataframe\">\n",
       "  <thead>\n",
       "    <tr style=\"text-align: right;\">\n",
       "      <th></th>\n",
       "      <th>number_transactions</th>\n",
       "      <th>total_amount_usd</th>\n",
       "      <th>age</th>\n",
       "      <th>default</th>\n",
       "      <th>housing</th>\n",
       "      <th>loan</th>\n",
       "      <th>duration</th>\n",
       "      <th>campaign</th>\n",
       "      <th>pdays</th>\n",
       "      <th>previous</th>\n",
       "      <th>term_deposit</th>\n",
       "    </tr>\n",
       "  </thead>\n",
       "  <tbody>\n",
       "    <tr>\n",
       "      <th>number_transactions</th>\n",
       "      <td>1.000000</td>\n",
       "      <td>-0.163409</td>\n",
       "      <td>-0.008813</td>\n",
       "      <td>0.138838</td>\n",
       "      <td>0.030429</td>\n",
       "      <td>0.075319</td>\n",
       "      <td>-0.017220</td>\n",
       "      <td>0.026431</td>\n",
       "      <td>-0.030751</td>\n",
       "      <td>-0.023046</td>\n",
       "      <td>-0.053390</td>\n",
       "    </tr>\n",
       "    <tr>\n",
       "      <th>total_amount_usd</th>\n",
       "      <td>-0.163409</td>\n",
       "      <td>1.000000</td>\n",
       "      <td>0.095839</td>\n",
       "      <td>-0.065390</td>\n",
       "      <td>-0.066857</td>\n",
       "      <td>-0.084526</td>\n",
       "      <td>0.022586</td>\n",
       "      <td>-0.017274</td>\n",
       "      <td>0.006435</td>\n",
       "      <td>0.016952</td>\n",
       "      <td>0.050785</td>\n",
       "    </tr>\n",
       "    <tr>\n",
       "      <th>age</th>\n",
       "      <td>-0.008813</td>\n",
       "      <td>0.095839</td>\n",
       "      <td>1.000000</td>\n",
       "      <td>-0.017875</td>\n",
       "      <td>-0.185552</td>\n",
       "      <td>-0.015641</td>\n",
       "      <td>-0.004645</td>\n",
       "      <td>0.004767</td>\n",
       "      <td>-0.023745</td>\n",
       "      <td>0.001297</td>\n",
       "      <td>0.025168</td>\n",
       "    </tr>\n",
       "    <tr>\n",
       "      <th>default</th>\n",
       "      <td>0.138838</td>\n",
       "      <td>-0.065390</td>\n",
       "      <td>-0.017875</td>\n",
       "      <td>1.000000</td>\n",
       "      <td>-0.006020</td>\n",
       "      <td>0.077232</td>\n",
       "      <td>-0.010017</td>\n",
       "      <td>0.016819</td>\n",
       "      <td>-0.029982</td>\n",
       "      <td>-0.018331</td>\n",
       "      <td>-0.022421</td>\n",
       "    </tr>\n",
       "    <tr>\n",
       "      <th>housing</th>\n",
       "      <td>0.030429</td>\n",
       "      <td>-0.066857</td>\n",
       "      <td>-0.185552</td>\n",
       "      <td>-0.006020</td>\n",
       "      <td>1.000000</td>\n",
       "      <td>0.041341</td>\n",
       "      <td>0.005041</td>\n",
       "      <td>-0.023583</td>\n",
       "      <td>0.124197</td>\n",
       "      <td>0.037087</td>\n",
       "      <td>-0.139161</td>\n",
       "    </tr>\n",
       "    <tr>\n",
       "      <th>loan</th>\n",
       "      <td>0.075319</td>\n",
       "      <td>-0.084526</td>\n",
       "      <td>-0.015641</td>\n",
       "      <td>0.077232</td>\n",
       "      <td>0.041341</td>\n",
       "      <td>1.000000</td>\n",
       "      <td>-0.012395</td>\n",
       "      <td>0.009972</td>\n",
       "      <td>-0.022762</td>\n",
       "      <td>-0.011048</td>\n",
       "      <td>-0.068193</td>\n",
       "    </tr>\n",
       "    <tr>\n",
       "      <th>duration</th>\n",
       "      <td>-0.017220</td>\n",
       "      <td>0.022586</td>\n",
       "      <td>-0.004645</td>\n",
       "      <td>-0.010017</td>\n",
       "      <td>0.005041</td>\n",
       "      <td>-0.012395</td>\n",
       "      <td>1.000000</td>\n",
       "      <td>-0.084551</td>\n",
       "      <td>-0.001549</td>\n",
       "      <td>0.001213</td>\n",
       "      <td>0.394549</td>\n",
       "    </tr>\n",
       "    <tr>\n",
       "      <th>campaign</th>\n",
       "      <td>0.026431</td>\n",
       "      <td>-0.017274</td>\n",
       "      <td>0.004767</td>\n",
       "      <td>0.016819</td>\n",
       "      <td>-0.023583</td>\n",
       "      <td>0.009972</td>\n",
       "      <td>-0.084551</td>\n",
       "      <td>1.000000</td>\n",
       "      <td>-0.088636</td>\n",
       "      <td>-0.032860</td>\n",
       "      <td>-0.073179</td>\n",
       "    </tr>\n",
       "    <tr>\n",
       "      <th>pdays</th>\n",
       "      <td>-0.030751</td>\n",
       "      <td>0.006435</td>\n",
       "      <td>-0.023745</td>\n",
       "      <td>-0.029982</td>\n",
       "      <td>0.124197</td>\n",
       "      <td>-0.022762</td>\n",
       "      <td>-0.001549</td>\n",
       "      <td>-0.088636</td>\n",
       "      <td>1.000000</td>\n",
       "      <td>0.454817</td>\n",
       "      <td>0.103616</td>\n",
       "    </tr>\n",
       "    <tr>\n",
       "      <th>previous</th>\n",
       "      <td>-0.023046</td>\n",
       "      <td>0.016952</td>\n",
       "      <td>0.001297</td>\n",
       "      <td>-0.018331</td>\n",
       "      <td>0.037087</td>\n",
       "      <td>-0.011048</td>\n",
       "      <td>0.001213</td>\n",
       "      <td>-0.032860</td>\n",
       "      <td>0.454817</td>\n",
       "      <td>1.000000</td>\n",
       "      <td>0.093232</td>\n",
       "    </tr>\n",
       "    <tr>\n",
       "      <th>term_deposit</th>\n",
       "      <td>-0.053390</td>\n",
       "      <td>0.050785</td>\n",
       "      <td>0.025168</td>\n",
       "      <td>-0.022421</td>\n",
       "      <td>-0.139161</td>\n",
       "      <td>-0.068193</td>\n",
       "      <td>0.394549</td>\n",
       "      <td>-0.073179</td>\n",
       "      <td>0.103616</td>\n",
       "      <td>0.093232</td>\n",
       "      <td>1.000000</td>\n",
       "    </tr>\n",
       "  </tbody>\n",
       "</table>\n",
       "</div>"
      ],
      "text/plain": [
       "                     number_transactions  total_amount_usd       age  \\\n",
       "number_transactions             1.000000         -0.163409 -0.008813   \n",
       "total_amount_usd               -0.163409          1.000000  0.095839   \n",
       "age                            -0.008813          0.095839  1.000000   \n",
       "default                         0.138838         -0.065390 -0.017875   \n",
       "housing                         0.030429         -0.066857 -0.185552   \n",
       "loan                            0.075319         -0.084526 -0.015641   \n",
       "duration                       -0.017220          0.022586 -0.004645   \n",
       "campaign                        0.026431         -0.017274  0.004767   \n",
       "pdays                          -0.030751          0.006435 -0.023745   \n",
       "previous                       -0.023046          0.016952  0.001297   \n",
       "term_deposit                   -0.053390          0.050785  0.025168   \n",
       "\n",
       "                      default   housing      loan  duration  campaign  \\\n",
       "number_transactions  0.138838  0.030429  0.075319 -0.017220  0.026431   \n",
       "total_amount_usd    -0.065390 -0.066857 -0.084526  0.022586 -0.017274   \n",
       "age                 -0.017875 -0.185552 -0.015641 -0.004645  0.004767   \n",
       "default              1.000000 -0.006020  0.077232 -0.010017  0.016819   \n",
       "housing             -0.006020  1.000000  0.041341  0.005041 -0.023583   \n",
       "loan                 0.077232  0.041341  1.000000 -0.012395  0.009972   \n",
       "duration            -0.010017  0.005041 -0.012395  1.000000 -0.084551   \n",
       "campaign             0.016819 -0.023583  0.009972 -0.084551  1.000000   \n",
       "pdays               -0.029982  0.124197 -0.022762 -0.001549 -0.088636   \n",
       "previous            -0.018331  0.037087 -0.011048  0.001213 -0.032860   \n",
       "term_deposit        -0.022421 -0.139161 -0.068193  0.394549 -0.073179   \n",
       "\n",
       "                        pdays  previous  term_deposit  \n",
       "number_transactions -0.030751 -0.023046     -0.053390  \n",
       "total_amount_usd     0.006435  0.016952      0.050785  \n",
       "age                 -0.023745  0.001297      0.025168  \n",
       "default             -0.029982 -0.018331     -0.022421  \n",
       "housing              0.124197  0.037087     -0.139161  \n",
       "loan                -0.022762 -0.011048     -0.068193  \n",
       "duration            -0.001549  0.001213      0.394549  \n",
       "campaign            -0.088636 -0.032860     -0.073179  \n",
       "pdays                1.000000  0.454817      0.103616  \n",
       "previous             0.454817  1.000000      0.093232  \n",
       "term_deposit         0.103616  0.093232      1.000000  "
      ]
     },
     "execution_count": 37,
     "metadata": {},
     "output_type": "execute_result"
    }
   ],
   "source": [
    "corr_matrix = users_data.corr()\n",
    "\n",
    "corr_matrix"
   ]
  },
  {
   "cell_type": "code",
   "execution_count": 38,
   "metadata": {
    "colab": {
     "base_uri": "https://localhost:8080/",
     "height": 555
    },
    "executionInfo": {
     "elapsed": 1051,
     "status": "ok",
     "timestamp": 1614989803667,
     "user": {
      "displayName": "Sarah Haq",
      "photoUrl": "https://lh3.googleusercontent.com/a-/AOh14Gh7vs3P5_F3LYi7bEV8r1vbltDxEgpoYXmxHgxGBw=s64",
      "userId": "16294508270436203551"
     },
     "user_tz": -60
    },
    "id": "hjIq-tgDR1VD",
    "outputId": "d457f2ac-f15f-47e0-89e2-cafe15acced1"
   },
   "outputs": [
    {
     "data": {
      "text/plain": [
       "<AxesSubplot:>"
      ]
     },
     "execution_count": 38,
     "metadata": {},
     "output_type": "execute_result"
    },
    {
     "data": {
      "image/png": "[encoded data removed]",
      "text/plain": [
       "<Figure size 720x540 with 2 Axes>"
      ]
     },
     "metadata": {
      "needs_background": "light"
     },
     "output_type": "display_data"
    }
   ],
   "source": [
    "fig = plt.figure(figsize = (10, 7.5))\n",
    "\n",
    "sns.heatmap(corr_matrix)"
   ]
  },
  {
   "cell_type": "markdown",
   "metadata": {},
   "source": [
    "# Format the heatmap to make it easier to read"
   ]
  },
  {
   "cell_type": "code",
   "execution_count": 39,
   "metadata": {
    "colab": {
     "base_uri": "https://localhost:8080/",
     "height": 545
    },
    "executionInfo": {
     "elapsed": 1970,
     "status": "ok",
     "timestamp": 1614989806001,
     "user": {
      "displayName": "Sarah Haq",
      "photoUrl": "https://lh3.googleusercontent.com/a-/AOh14Gh7vs3P5_F3LYi7bEV8r1vbltDxEgpoYXmxHgxGBw=s64",
      "userId": "16294508270436203551"
     },
     "user_tz": -60
    },
    "id": "qV4nReabZwRt",
    "outputId": "a8860371-58e9-4789-9eea-17092ca106a6"
   },
   "outputs": [
    {
     "data": {
      "text/plain": [
       "Text(0.5, 1.0, 'Correlation Plot')"
      ]
     },
     "execution_count": 39,
     "metadata": {},
     "output_type": "execute_result"
    },
    {
     "data": {
      "image/png": "[encoded data removed]",
      "text/plain": [
       "<Figure size 792x576 with 2 Axes>"
      ]
     },
     "metadata": {
      "needs_background": "light"
     },
     "output_type": "display_data"
    }
   ],
   "source": [
    "fig = plt.figure(figsize = (11, 8))\n",
    "\n",
    "sns.heatmap(corr_matrix,\n",
    "           cmap = 'seismic',\n",
    "           linewidth = 0.75,\n",
    "           linecolor = 'black',\n",
    "           cbar = True,\n",
    "           vmin = -1,\n",
    "           vmax = 1,\n",
    "           annot = True,\n",
    "           annot_kws = {'size': 8, 'color': 'black'})\n",
    "\n",
    "plt.tick_params(labelsize = 10, rotation = 45)\n",
    "plt.title('Correlation Plot', size = 14)"
   ]
  },
  {
   "cell_type": "markdown",
   "metadata": {
    "id": "tiB1xUyg39k8"
   },
   "source": [
    "# Identify missing values"
   ]
  },
  {
   "cell_type": "code",
   "execution_count": 40,
   "metadata": {
    "colab": {
     "base_uri": "https://localhost:8080/"
    },
    "executionInfo": {
     "elapsed": 718,
     "status": "ok",
     "timestamp": 1614989807883,
     "user": {
      "displayName": "Sarah Haq",
      "photoUrl": "https://lh3.googleusercontent.com/a-/AOh14Gh7vs3P5_F3LYi7bEV8r1vbltDxEgpoYXmxHgxGBw=s64",
      "userId": "16294508270436203551"
     },
     "user_tz": -60
    },
    "id": "GZStnahGkkfr",
    "outputId": "df95e0f9-a2d5-4096-b9b8-1b054e35aead"
   },
   "outputs": [
    {
     "data": {
      "text/plain": [
       "user_id                    0\n",
       "number_transactions     9999\n",
       "total_amount_usd        9999\n",
       "age                        0\n",
       "job                      288\n",
       "marital                    0\n",
       "education               1857\n",
       "default                    0\n",
       "housing                    0\n",
       "loan                       0\n",
       "contact                13018\n",
       "duration                   0\n",
       "campaign                   0\n",
       "pdays                      0\n",
       "previous                   0\n",
       "poutcome               36957\n",
       "term_deposit               0\n",
       "date_joined               30\n",
       "device                    94\n",
       "dtype: int64"
      ]
     },
     "execution_count": 40,
     "metadata": {},
     "output_type": "execute_result"
    }
   ],
   "source": [
    "users_data.isnull().sum()"
   ]
  },
  {
   "cell_type": "markdown",
   "metadata": {
    "id": "ZnQZKSH34QO_"
   },
   "source": [
    "# Identify the percentage of missing values for each feature"
   ]
  },
  {
   "cell_type": "code",
   "execution_count": 41,
   "metadata": {
    "colab": {
     "base_uri": "https://localhost:8080/"
    },
    "executionInfo": {
     "elapsed": 752,
     "status": "ok",
     "timestamp": 1614989808252,
     "user": {
      "displayName": "Sarah Haq",
      "photoUrl": "https://lh3.googleusercontent.com/a-/AOh14Gh7vs3P5_F3LYi7bEV8r1vbltDxEgpoYXmxHgxGBw=s64",
      "userId": "16294508270436203551"
     },
     "user_tz": -60
    },
    "id": "WW7VeC34yj5R",
    "outputId": "66b95d1c-ae95-413d-a809-8812399e6aa2"
   },
   "outputs": [
    {
     "data": {
      "text/plain": [
       "user_id                0.000000\n",
       "number_transactions    0.221173\n",
       "total_amount_usd       0.221173\n",
       "age                    0.000000\n",
       "job                    0.006370\n",
       "marital                0.000000\n",
       "education              0.041076\n",
       "default                0.000000\n",
       "housing                0.000000\n",
       "loan                   0.000000\n",
       "contact                0.287952\n",
       "duration               0.000000\n",
       "campaign               0.000000\n",
       "pdays                  0.000000\n",
       "previous               0.000000\n",
       "poutcome               0.817470\n",
       "term_deposit           0.000000\n",
       "date_joined            0.000664\n",
       "device                 0.002079\n",
       "dtype: float64"
      ]
     },
     "execution_count": 41,
     "metadata": {},
     "output_type": "execute_result"
    }
   ],
   "source": [
    "percent_missing = users_data.isnull().mean()\n",
    "\n",
    "percent_missing"
   ]
  },
  {
   "cell_type": "markdown",
   "metadata": {},
   "source": [
    "# Generate a missing value report"
   ]
  },
  {
   "cell_type": "code",
   "execution_count": 42,
   "metadata": {
    "executionInfo": {
     "elapsed": 424,
     "status": "ok",
     "timestamp": 1614989808253,
     "user": {
      "displayName": "Sarah Haq",
      "photoUrl": "https://lh3.googleusercontent.com/a-/AOh14Gh7vs3P5_F3LYi7bEV8r1vbltDxEgpoYXmxHgxGBw=s64",
      "userId": "16294508270436203551"
     },
     "user_tz": -60
    },
    "id": "I3pzXu7i7asd"
   },
   "outputs": [],
   "source": [
    "def missing_value_pct_df(data):\n",
    "    \"\"\"Create a DataFrame to summarize missing values.\"\"\"\n",
    "  \n",
    "    percent_missing = data.isnull().mean() \n",
    "    missing_value_df = \\\n",
    "    pd.DataFrame(percent_missing).reset_index()\n",
    "    \n",
    "    missing_value_df = \\\n",
    "    missing_value_df.rename(columns = {'index': 'column_name',\n",
    "                                       0: 'percent_missing'})\n",
    "\n",
    "    # Multiply by 100 and round to 4 decimal places.\n",
    "    missing_value_df['percent_missing'] = \\\n",
    "    missing_value_df['percent_missing']. \\\n",
    "    apply(lambda x: round(x * 100, 2)) \n",
    "\n",
    "    missing_value_df = \\\n",
    "    missing_value_df.sort_values(by = ['percent_missing'],\n",
    "                                 ascending = False)\n",
    "\n",
    "    return missing_value_df"
   ]
  },
  {
   "cell_type": "code",
   "execution_count": 43,
   "metadata": {
    "colab": {
     "base_uri": "https://localhost:8080/",
     "height": 638
    },
    "executionInfo": {
     "elapsed": 627,
     "status": "ok",
     "timestamp": 1614989808586,
     "user": {
      "displayName": "Sarah Haq",
      "photoUrl": "https://lh3.googleusercontent.com/a-/AOh14Gh7vs3P5_F3LYi7bEV8r1vbltDxEgpoYXmxHgxGBw=s64",
      "userId": "16294508270436203551"
     },
     "user_tz": -60
    },
    "id": "HnAqJi_e0s7g",
    "outputId": "eb99aecc-2f0c-489c-a9de-dab43b1af2da"
   },
   "outputs": [
    {
     "data": {
      "text/html": [
       "<div>\n",
       "<style scoped>\n",
       "    .dataframe tbody tr th:only-of-type {\n",
       "        vertical-align: middle;\n",
       "    }\n",
       "\n",
       "    .dataframe tbody tr th {\n",
       "        vertical-align: top;\n",
       "    }\n",
       "\n",
       "    .dataframe thead th {\n",
       "        text-align: right;\n",
       "    }\n",
       "</style>\n",
       "<table border=\"1\" class=\"dataframe\">\n",
       "  <thead>\n",
       "    <tr style=\"text-align: right;\">\n",
       "      <th></th>\n",
       "      <th>column_name</th>\n",
       "      <th>percent_missing</th>\n",
       "    </tr>\n",
       "  </thead>\n",
       "  <tbody>\n",
       "    <tr>\n",
       "      <th>15</th>\n",
       "      <td>poutcome</td>\n",
       "      <td>81.75</td>\n",
       "    </tr>\n",
       "    <tr>\n",
       "      <th>10</th>\n",
       "      <td>contact</td>\n",
       "      <td>28.80</td>\n",
       "    </tr>\n",
       "    <tr>\n",
       "      <th>2</th>\n",
       "      <td>total_amount_usd</td>\n",
       "      <td>22.12</td>\n",
       "    </tr>\n",
       "    <tr>\n",
       "      <th>1</th>\n",
       "      <td>number_transactions</td>\n",
       "      <td>22.12</td>\n",
       "    </tr>\n",
       "    <tr>\n",
       "      <th>6</th>\n",
       "      <td>education</td>\n",
       "      <td>4.11</td>\n",
       "    </tr>\n",
       "    <tr>\n",
       "      <th>4</th>\n",
       "      <td>job</td>\n",
       "      <td>0.64</td>\n",
       "    </tr>\n",
       "    <tr>\n",
       "      <th>18</th>\n",
       "      <td>device</td>\n",
       "      <td>0.21</td>\n",
       "    </tr>\n",
       "    <tr>\n",
       "      <th>17</th>\n",
       "      <td>date_joined</td>\n",
       "      <td>0.07</td>\n",
       "    </tr>\n",
       "    <tr>\n",
       "      <th>12</th>\n",
       "      <td>campaign</td>\n",
       "      <td>0.00</td>\n",
       "    </tr>\n",
       "    <tr>\n",
       "      <th>16</th>\n",
       "      <td>term_deposit</td>\n",
       "      <td>0.00</td>\n",
       "    </tr>\n",
       "    <tr>\n",
       "      <th>14</th>\n",
       "      <td>previous</td>\n",
       "      <td>0.00</td>\n",
       "    </tr>\n",
       "    <tr>\n",
       "      <th>13</th>\n",
       "      <td>pdays</td>\n",
       "      <td>0.00</td>\n",
       "    </tr>\n",
       "    <tr>\n",
       "      <th>0</th>\n",
       "      <td>user_id</td>\n",
       "      <td>0.00</td>\n",
       "    </tr>\n",
       "    <tr>\n",
       "      <th>11</th>\n",
       "      <td>duration</td>\n",
       "      <td>0.00</td>\n",
       "    </tr>\n",
       "    <tr>\n",
       "      <th>8</th>\n",
       "      <td>housing</td>\n",
       "      <td>0.00</td>\n",
       "    </tr>\n",
       "    <tr>\n",
       "      <th>7</th>\n",
       "      <td>default</td>\n",
       "      <td>0.00</td>\n",
       "    </tr>\n",
       "    <tr>\n",
       "      <th>5</th>\n",
       "      <td>marital</td>\n",
       "      <td>0.00</td>\n",
       "    </tr>\n",
       "    <tr>\n",
       "      <th>3</th>\n",
       "      <td>age</td>\n",
       "      <td>0.00</td>\n",
       "    </tr>\n",
       "    <tr>\n",
       "      <th>9</th>\n",
       "      <td>loan</td>\n",
       "      <td>0.00</td>\n",
       "    </tr>\n",
       "  </tbody>\n",
       "</table>\n",
       "</div>"
      ],
      "text/plain": [
       "            column_name  percent_missing\n",
       "15             poutcome            81.75\n",
       "10              contact            28.80\n",
       "2      total_amount_usd            22.12\n",
       "1   number_transactions            22.12\n",
       "6             education             4.11\n",
       "4                   job             0.64\n",
       "18               device             0.21\n",
       "17          date_joined             0.07\n",
       "12             campaign             0.00\n",
       "16         term_deposit             0.00\n",
       "14             previous             0.00\n",
       "13                pdays             0.00\n",
       "0               user_id             0.00\n",
       "11             duration             0.00\n",
       "8               housing             0.00\n",
       "7               default             0.00\n",
       "5               marital             0.00\n",
       "3                   age             0.00\n",
       "9                  loan             0.00"
      ]
     },
     "execution_count": 43,
     "metadata": {},
     "output_type": "execute_result"
    }
   ],
   "source": [
    "missing_value_df = missing_value_pct_df(users_data)\n",
    "\n",
    "missing_value_df"
   ]
  },
  {
   "cell_type": "markdown",
   "metadata": {
    "id": "_JGdSDnC46mx"
   },
   "source": [
    "# Remove features with a high percentage of missing values"
   ]
  },
  {
   "cell_type": "code",
   "execution_count": 44,
   "metadata": {
    "colab": {
     "base_uri": "https://localhost:8080/"
    },
    "executionInfo": {
     "elapsed": 473,
     "status": "ok",
     "timestamp": 1614989809465,
     "user": {
      "displayName": "Sarah Haq",
      "photoUrl": "https://lh3.googleusercontent.com/a-/AOh14Gh7vs3P5_F3LYi7bEV8r1vbltDxEgpoYXmxHgxGBw=s64",
      "userId": "16294508270436203551"
     },
     "user_tz": -60
    },
    "id": "ncZQuVyk3iFk",
    "outputId": "af4515ad-77de-4bc1-9e08-b3a41078dbe2"
   },
   "outputs": [
    {
     "name": "stdout",
     "output_type": "stream",
     "text": [
      "Number of features to drop: 1\n",
      "Features with missing values greater than 80%: ['poutcome']\n"
     ]
    }
   ],
   "source": [
    "# Threshold above which to drop feature.\n",
    "\n",
    "threshold = 80\n",
    "\n",
    "cols_to_drop = \\\n",
    "list(missing_value_df[missing_value_df['percent_missing'] \\\n",
    "                     > threshold]['column_name'])\n",
    "\n",
    "print('Number of features to drop:',\n",
    "     missing_value_df[ \\\n",
    "                     missing_value_df['percent_missing'] > threshold].shape[0])\n",
    "\n",
    "print(f'Features with missing values greater than {threshold}%:',\n",
    "     cols_to_drop)"
   ]
  },
  {
   "cell_type": "code",
   "execution_count": 45,
   "metadata": {
    "executionInfo": {
     "elapsed": 556,
     "status": "ok",
     "timestamp": 1614989809761,
     "user": {
      "displayName": "Sarah Haq",
      "photoUrl": "https://lh3.googleusercontent.com/a-/AOh14Gh7vs3P5_F3LYi7bEV8r1vbltDxEgpoYXmxHgxGBw=s64",
      "userId": "16294508270436203551"
     },
     "user_tz": -60
    },
    "id": "yImTadSI5zE2"
   },
   "outputs": [],
   "source": [
    "users_data_cleaned = users_data.drop(cols_to_drop, axis = 1)"
   ]
  },
  {
   "cell_type": "code",
   "execution_count": 46,
   "metadata": {
    "colab": {
     "base_uri": "https://localhost:8080/"
    },
    "executionInfo": {
     "elapsed": 594,
     "status": "ok",
     "timestamp": 1614989809982,
     "user": {
      "displayName": "Sarah Haq",
      "photoUrl": "https://lh3.googleusercontent.com/a-/AOh14Gh7vs3P5_F3LYi7bEV8r1vbltDxEgpoYXmxHgxGBw=s64",
      "userId": "16294508270436203551"
     },
     "user_tz": -60
    },
    "id": "OvBl8w5u6uWN",
    "outputId": "c5d61c37-c982-4097-e03a-e0b0277a8720"
   },
   "outputs": [
    {
     "name": "stdout",
     "output_type": "stream",
     "text": [
      "Number of features with missing values: 7\n"
     ]
    }
   ],
   "source": [
    "# Confirm feature was dropped.\n",
    "\n",
    "missing_value_df = missing_value_pct_df(users_data_cleaned)\n",
    "\n",
    "missing_columns = \\\n",
    "list(missing_value_df[missing_value_df['percent_missing'] \\\n",
    "                      > 0]['column_name'])\n",
    "\n",
    "print('Number of features with missing values:',\n",
    "     len(missing_columns))"
   ]
  },
  {
   "cell_type": "markdown",
   "metadata": {
    "id": "X1znVhO68QBw"
   },
   "source": [
    "# Identify numerical data with missing values"
   ]
  },
  {
   "cell_type": "code",
   "execution_count": 47,
   "metadata": {
    "colab": {
     "base_uri": "https://localhost:8080/"
    },
    "executionInfo": {
     "elapsed": 426,
     "status": "ok",
     "timestamp": 1614989810605,
     "user": {
      "displayName": "Sarah Haq",
      "photoUrl": "https://lh3.googleusercontent.com/a-/AOh14Gh7vs3P5_F3LYi7bEV8r1vbltDxEgpoYXmxHgxGBw=s64",
      "userId": "16294508270436203551"
     },
     "user_tz": -60
    },
    "id": "cia5xlHDAMnd",
    "outputId": "19bab8b2-e337-4302-b1a2-d76b9cda9b36"
   },
   "outputs": [
    {
     "name": "stdout",
     "output_type": "stream",
     "text": [
      "Numerical features with missing values: ['total_amount_usd', 'number_transactions']\n"
     ]
    }
   ],
   "source": [
    "dtypes = ['int64', 'float64']\n",
    "\n",
    "numerical_columns = \\\n",
    "list(users_data_cleaned.select_dtypes(dtypes).columns)\n",
    "\n",
    "print('Numerical features with missing values:',\n",
    "     list(set(numerical_columns).intersection(missing_columns)))"
   ]
  },
  {
   "cell_type": "markdown",
   "metadata": {
    "id": "gh6qRTZ3mY1d"
   },
   "source": [
    "# Impute missing data values for `total_amount_usd`"
   ]
  },
  {
   "cell_type": "code",
   "execution_count": 48,
   "metadata": {
    "executionInfo": {
     "elapsed": 340,
     "status": "ok",
     "timestamp": 1614989810938,
     "user": {
      "displayName": "Sarah Haq",
      "photoUrl": "https://lh3.googleusercontent.com/a-/AOh14Gh7vs3P5_F3LYi7bEV8r1vbltDxEgpoYXmxHgxGBw=s64",
      "userId": "16294508270436203551"
     },
     "user_tz": -60
    },
    "id": "LwEBt5jNn84D"
   },
   "outputs": [
    {
     "data": {
      "text/plain": [
       "21738    84c1cb96-71a6-4705-af78-7d6670cb6438\n",
       "Name: user_id, dtype: object"
      ]
     },
     "execution_count": 48,
     "metadata": {},
     "output_type": "execute_result"
    }
   ],
   "source": [
    "# Find a sample user with missing value\n",
    "\n",
    "sample_user = \\\n",
    "users_data_cleaned[users_data_cleaned['total_amount_usd']. \\\n",
    "                  isnull()].sample(1).user_id\n",
    "\n",
    "sample_user"
   ]
  },
  {
   "cell_type": "code",
   "execution_count": 49,
   "metadata": {
    "colab": {
     "base_uri": "https://localhost:8080/"
    },
    "executionInfo": {
     "elapsed": 384,
     "status": "ok",
     "timestamp": 1614989811224,
     "user": {
      "displayName": "Sarah Haq",
      "photoUrl": "https://lh3.googleusercontent.com/a-/AOh14Gh7vs3P5_F3LYi7bEV8r1vbltDxEgpoYXmxHgxGBw=s64",
      "userId": "16294508270436203551"
     },
     "user_tz": -60
    },
    "id": "nBL3cp2nvYNH",
    "outputId": "310c9580-9aa4-481e-972a-682285a59cea"
   },
   "outputs": [
    {
     "name": "stdout",
     "output_type": "stream",
     "text": [
      "Mean total_amount_usd: 1369.42\n"
     ]
    }
   ],
   "source": [
    "# Print mean of total_amount_usd.\n",
    "\n",
    "print('Mean total_amount_usd:',\n",
    "     round(users_data_cleaned['total_amount_usd'].mean(), 2))\n",
    "\n",
    "\n",
    "# Impute missing values for total_amount_usd with mean.\n",
    "\n",
    "users_data_cleaned['total_amount_usd']. \\\n",
    "fillna(round(users_data_cleaned['total_amount_usd'].mean(), 2),\n",
    "      inplace = True)"
   ]
  },
  {
   "cell_type": "code",
   "execution_count": 50,
   "metadata": {
    "colab": {
     "base_uri": "https://localhost:8080/"
    },
    "executionInfo": {
     "elapsed": 491,
     "status": "ok",
     "timestamp": 1614989811538,
     "user": {
      "displayName": "Sarah Haq",
      "photoUrl": "https://lh3.googleusercontent.com/a-/AOh14Gh7vs3P5_F3LYi7bEV8r1vbltDxEgpoYXmxHgxGBw=s64",
      "userId": "16294508270436203551"
     },
     "user_tz": -60
    },
    "id": "mCPrVUykx0SZ",
    "outputId": "f7f5f3b4-9531-48d6-f80f-5985826736b2"
   },
   "outputs": [
    {
     "data": {
      "text/plain": [
       "21738    1369.42\n",
       "Name: total_amount_usd, dtype: float64"
      ]
     },
     "execution_count": 50,
     "metadata": {},
     "output_type": "execute_result"
    }
   ],
   "source": [
    "users_data_cleaned[users_data_cleaned. \\\n",
    "                  user_id.isin(sample_user)]['total_amount_usd']"
   ]
  },
  {
   "cell_type": "markdown",
   "metadata": {
    "id": "gP6S96I3BFFo"
   },
   "source": [
    "# Replace missing values for `number_transactions` with `0`"
   ]
  },
  {
   "cell_type": "code",
   "execution_count": 51,
   "metadata": {
    "executionInfo": {
     "elapsed": 674,
     "status": "ok",
     "timestamp": 1614989812379,
     "user": {
      "displayName": "Sarah Haq",
      "photoUrl": "https://lh3.googleusercontent.com/a-/AOh14Gh7vs3P5_F3LYi7bEV8r1vbltDxEgpoYXmxHgxGBw=s64",
      "userId": "16294508270436203551"
     },
     "user_tz": -60
    },
    "id": "81HDjNKGu7Ua"
   },
   "outputs": [],
   "source": [
    "users_data_cleaned['number_transactions']. \\\n",
    "fillna(0, inplace = True)"
   ]
  },
  {
   "cell_type": "code",
   "execution_count": 52,
   "metadata": {
    "colab": {
     "base_uri": "https://localhost:8080/"
    },
    "executionInfo": {
     "elapsed": 674,
     "status": "ok",
     "timestamp": 1614989812654,
     "user": {
      "displayName": "Sarah Haq",
      "photoUrl": "https://lh3.googleusercontent.com/a-/AOh14Gh7vs3P5_F3LYi7bEV8r1vbltDxEgpoYXmxHgxGBw=s64",
      "userId": "16294508270436203551"
     },
     "user_tz": -60
    },
    "id": "iB9V4rKYvZRN",
    "outputId": "e0a9bbec-05cc-4eea-8f00-0859af604317"
   },
   "outputs": [
    {
     "data": {
      "text/plain": [
       "21738    0.0\n",
       "Name: number_transactions, dtype: float64"
      ]
     },
     "execution_count": 52,
     "metadata": {},
     "output_type": "execute_result"
    }
   ],
   "source": [
    "users_data_cleaned[users_data_cleaned. \\\n",
    "                  user_id.isin(sample_user)]['number_transactions']"
   ]
  },
  {
   "cell_type": "markdown",
   "metadata": {
    "id": "aRYA-OVjBeU7"
   },
   "source": [
    "# Identify categorical data with missing values"
   ]
  },
  {
   "cell_type": "code",
   "execution_count": 53,
   "metadata": {
    "colab": {
     "base_uri": "https://localhost:8080/"
    },
    "executionInfo": {
     "elapsed": 828,
     "status": "ok",
     "timestamp": 1614989813266,
     "user": {
      "displayName": "Sarah Haq",
      "photoUrl": "https://lh3.googleusercontent.com/a-/AOh14Gh7vs3P5_F3LYi7bEV8r1vbltDxEgpoYXmxHgxGBw=s64",
      "userId": "16294508270436203551"
     },
     "user_tz": -60
    },
    "id": "2BsoeDNiyaOm",
    "outputId": "63e1adb7-99e5-4dcc-d212-1ac483ef6039"
   },
   "outputs": [
    {
     "name": "stdout",
     "output_type": "stream",
     "text": [
      "Categorical features with missing values: ['job', 'device', 'education', 'contact']\n"
     ]
    }
   ],
   "source": [
    "categorical_columns = \\\n",
    "list(users_data_cleaned.select_dtypes(['object']).columns)\n",
    "\n",
    "print('Categorical features with missing values:',\n",
    "     list(set(categorical_columns).intersection(missing_columns)))"
   ]
  },
  {
   "cell_type": "markdown",
   "metadata": {
    "id": "RWR7RIMlB81Y"
   },
   "source": [
    "# Replace categorical missing values with `'Unknown'`"
   ]
  },
  {
   "cell_type": "code",
   "execution_count": 54,
   "metadata": {
    "executionInfo": {
     "elapsed": 415,
     "status": "ok",
     "timestamp": 1614989813582,
     "user": {
      "displayName": "Sarah Haq",
      "photoUrl": "https://lh3.googleusercontent.com/a-/AOh14Gh7vs3P5_F3LYi7bEV8r1vbltDxEgpoYXmxHgxGBw=s64",
      "userId": "16294508270436203551"
     },
     "user_tz": -60
    },
    "id": "VUVIV2Cxs5JZ"
   },
   "outputs": [],
   "source": [
    "users_data_cleaned.device.fillna('Unknown', inplace = True)\n",
    "users_data_cleaned.contact.fillna('Unknown', inplace = True)\n",
    "users_data_cleaned.job.fillna('Unknown', inplace = True)\n",
    "users_data_cleaned.education.fillna('Unknown', inplace = True)"
   ]
  },
  {
   "cell_type": "code",
   "execution_count": 55,
   "metadata": {
    "colab": {
     "base_uri": "https://localhost:8080/"
    },
    "executionInfo": {
     "elapsed": 456,
     "status": "ok",
     "timestamp": 1614989814112,
     "user": {
      "displayName": "Sarah Haq",
      "photoUrl": "https://lh3.googleusercontent.com/a-/AOh14Gh7vs3P5_F3LYi7bEV8r1vbltDxEgpoYXmxHgxGBw=s64",
      "userId": "16294508270436203551"
     },
     "user_tz": -60
    },
    "id": "g_0vFc2fexy6",
    "outputId": "57f1eccb-295e-4eb4-868e-0acce8a7c618"
   },
   "outputs": [
    {
     "data": {
      "text/plain": [
       "mobile     27504\n",
       "desktop    12112\n",
       "tablet      5499\n",
       "Unknown       94\n",
       "Name: device, dtype: int64"
      ]
     },
     "execution_count": 55,
     "metadata": {},
     "output_type": "execute_result"
    }
   ],
   "source": [
    "users_data_cleaned.device.value_counts()"
   ]
  },
  {
   "cell_type": "markdown",
   "metadata": {
    "id": "vBIB40neCKP_"
   },
   "source": [
    "# Check if there are any other missing values"
   ]
  },
  {
   "cell_type": "code",
   "execution_count": 56,
   "metadata": {
    "colab": {
     "base_uri": "https://localhost:8080/"
    },
    "executionInfo": {
     "elapsed": 610,
     "status": "ok",
     "timestamp": 1614989815179,
     "user": {
      "displayName": "Sarah Haq",
      "photoUrl": "https://lh3.googleusercontent.com/a-/AOh14Gh7vs3P5_F3LYi7bEV8r1vbltDxEgpoYXmxHgxGBw=s64",
      "userId": "16294508270436203551"
     },
     "user_tz": -60
    },
    "id": "of62JuMwCPUf",
    "outputId": "e16b6bc5-a575-4118-da07-0f2fea589fa3"
   },
   "outputs": [
    {
     "name": "stdout",
     "output_type": "stream",
     "text": [
      "Number of features with missing values: 1\n",
      "Features with missing values: ['date_joined']\n"
     ]
    }
   ],
   "source": [
    "missing_value_df = missing_value_pct_df(users_data_cleaned)\n",
    "\n",
    "missing_columns = \\\n",
    "list(missing_value_df[missing_value_df['percent_missing'] \\\n",
    "                     > 0]['column_name'])\n",
    "\n",
    "print('Number of features with missing values:', len(missing_columns))\n",
    "print('Features with missing values:', missing_columns)"
   ]
  },
  {
   "cell_type": "markdown",
   "metadata": {
    "id": "Q0TyEbMwDYWs"
   },
   "source": [
    "# Remove all rows where `date_joined` is missing"
   ]
  },
  {
   "cell_type": "code",
   "execution_count": 57,
   "metadata": {
    "colab": {
     "base_uri": "https://localhost:8080/"
    },
    "executionInfo": {
     "elapsed": 505,
     "status": "ok",
     "timestamp": 1614989816489,
     "user": {
      "displayName": "Sarah Haq",
      "photoUrl": "https://lh3.googleusercontent.com/a-/AOh14Gh7vs3P5_F3LYi7bEV8r1vbltDxEgpoYXmxHgxGBw=s64",
      "userId": "16294508270436203551"
     },
     "user_tz": -60
    },
    "id": "xhfe-HR1DbRh",
    "outputId": "68092a82-768a-400a-b68d-98f37b666cd7"
   },
   "outputs": [
    {
     "name": "stdout",
     "output_type": "stream",
     "text": [
      "Number of users with corrupted data: 30\n"
     ]
    }
   ],
   "source": [
    "print('Number of users with corrupted data:',\n",
    "     users_data_cleaned[users_data_cleaned['date_joined']. \\\n",
    "                       isnull()].shape[0])"
   ]
  },
  {
   "cell_type": "code",
   "execution_count": 58,
   "metadata": {
    "executionInfo": {
     "elapsed": 374,
     "status": "ok",
     "timestamp": 1614989816766,
     "user": {
      "displayName": "Sarah Haq",
      "photoUrl": "https://lh3.googleusercontent.com/a-/AOh14Gh7vs3P5_F3LYi7bEV8r1vbltDxEgpoYXmxHgxGBw=s64",
      "userId": "16294508270436203551"
     },
     "user_tz": -60
    },
    "id": "wGoMHAwBEQNx"
   },
   "outputs": [],
   "source": [
    "# Remove corrupted data.\n",
    "\n",
    "users_data_cleaned = \\\n",
    "users_data_cleaned[~users_data_cleaned['date_joined'].isnull()]"
   ]
  },
  {
   "cell_type": "code",
   "execution_count": 59,
   "metadata": {
    "colab": {
     "base_uri": "https://localhost:8080/"
    },
    "executionInfo": {
     "elapsed": 393,
     "status": "ok",
     "timestamp": 1614989817307,
     "user": {
      "displayName": "Sarah Haq",
      "photoUrl": "https://lh3.googleusercontent.com/a-/AOh14Gh7vs3P5_F3LYi7bEV8r1vbltDxEgpoYXmxHgxGBw=s64",
      "userId": "16294508270436203551"
     },
     "user_tz": -60
    },
    "id": "UzDh99F2EYOg",
    "outputId": "b8d2a9e2-2c12-418d-d4c5-b97f892b8cec"
   },
   "outputs": [
    {
     "name": "stdout",
     "output_type": "stream",
     "text": [
      "Number of users_with corrupted data: 0\n"
     ]
    }
   ],
   "source": [
    "# Check to see if any corrupted rows remain.\n",
    "\n",
    "print('Number of users_with corrupted data:',\n",
    "     users_data_cleaned[users_data_cleaned['date_joined']. \\\n",
    "                       isnull()].shape[0])"
   ]
  },
  {
   "cell_type": "markdown",
   "metadata": {
    "id": "cO7IlwaHEgyz"
   },
   "source": [
    "# Perform one last check for missing values"
   ]
  },
  {
   "cell_type": "code",
   "execution_count": 60,
   "metadata": {
    "colab": {
     "base_uri": "https://localhost:8080/"
    },
    "executionInfo": {
     "elapsed": 432,
     "status": "ok",
     "timestamp": 1614989818292,
     "user": {
      "displayName": "Sarah Haq",
      "photoUrl": "https://lh3.googleusercontent.com/a-/AOh14Gh7vs3P5_F3LYi7bEV8r1vbltDxEgpoYXmxHgxGBw=s64",
      "userId": "16294508270436203551"
     },
     "user_tz": -60
    },
    "id": "FBq4xRqxEa6b",
    "outputId": "c1161221-420b-4c5e-edb6-13ce78cfdabc"
   },
   "outputs": [
    {
     "name": "stdout",
     "output_type": "stream",
     "text": [
      "Number of features with missing values: 0\n"
     ]
    }
   ],
   "source": [
    "missing_value_df = missing_value_pct_df(users_data_cleaned)\n",
    "\n",
    "missing_columns = \\\n",
    "list(missing_value_df[missing_value_df['percent_missing'] \\\n",
    "                     > 0]['column_name'])\n",
    "\n",
    "print('Number of features with missing values:',\n",
    "     len(missing_columns))"
   ]
  },
  {
   "cell_type": "markdown",
   "metadata": {},
   "source": [
    "# View the distribution of `age`"
   ]
  },
  {
   "cell_type": "code",
   "execution_count": 61,
   "metadata": {
    "colab": {
     "base_uri": "https://localhost:8080/",
     "height": 281
    },
    "executionInfo": {
     "elapsed": 839,
     "status": "ok",
     "timestamp": 1614989819583,
     "user": {
      "displayName": "Sarah Haq",
      "photoUrl": "https://lh3.googleusercontent.com/a-/AOh14Gh7vs3P5_F3LYi7bEV8r1vbltDxEgpoYXmxHgxGBw=s64",
      "userId": "16294508270436203551"
     },
     "user_tz": -60
    },
    "id": "4ReU-EsdsCx_",
    "outputId": "1af554e9-58ee-49b4-a795-6737b363778c"
   },
   "outputs": [
    {
     "data": {
      "image/png": "[encoded data removed]",
      "text/plain": [
       "<Figure size 432x288 with 1 Axes>"
      ]
     },
     "metadata": {
      "needs_background": "light"
     },
     "output_type": "display_data"
    }
   ],
   "source": [
    "users_data_cleaned['age'].hist()\n",
    "plt.title('Original Distribution of Age');"
   ]
  },
  {
   "cell_type": "markdown",
   "metadata": {
    "id": "xb1HNom0eeYb"
   },
   "source": [
    "# Apply a log transformation to `age`"
   ]
  },
  {
   "cell_type": "code",
   "execution_count": 62,
   "metadata": {
    "colab": {
     "base_uri": "https://localhost:8080/",
     "height": 281
    },
    "executionInfo": {
     "elapsed": 763,
     "status": "ok",
     "timestamp": 1614989821927,
     "user": {
      "displayName": "Sarah Haq",
      "photoUrl": "https://lh3.googleusercontent.com/a-/AOh14Gh7vs3P5_F3LYi7bEV8r1vbltDxEgpoYXmxHgxGBw=s64",
      "userId": "16294508270436203551"
     },
     "user_tz": -60
    },
    "id": "xWDNfgkCeQmk",
    "outputId": "05402659-2fbb-4042-e00b-a6754845be27"
   },
   "outputs": [
    {
     "data": {
      "image/png": "[encoded data removed]",
      "text/plain": [
       "<Figure size 432x288 with 1 Axes>"
      ]
     },
     "metadata": {
      "needs_background": "light"
     },
     "output_type": "display_data"
    }
   ],
   "source": [
    "np.log(users_data_cleaned['age']).hist()\n",
    "plt.title('Log Transformation of Age');"
   ]
  },
  {
   "cell_type": "markdown",
   "metadata": {
    "id": "5vx4LvUvtCrl"
   },
   "source": [
    "# Apply a Box–Cox transformation to `age`"
   ]
  },
  {
   "cell_type": "code",
   "execution_count": 63,
   "metadata": {
    "colab": {
     "base_uri": "https://localhost:8080/",
     "height": 281
    },
    "executionInfo": {
     "elapsed": 691,
     "status": "ok",
     "timestamp": 1614989823368,
     "user": {
      "displayName": "Sarah Haq",
      "photoUrl": "https://lh3.googleusercontent.com/a-/AOh14Gh7vs3P5_F3LYi7bEV8r1vbltDxEgpoYXmxHgxGBw=s64",
      "userId": "16294508270436203551"
     },
     "user_tz": -60
    },
    "id": "SblgzO0itvE9",
    "outputId": "06e5f609-3211-4129-b9b1-5e5d7ccf70fc"
   },
   "outputs": [
    {
     "data": {
      "image/png": "[encoded data removed]",
      "text/plain": [
       "<Figure size 432x288 with 1 Axes>"
      ]
     },
     "metadata": {
      "needs_background": "light"
     },
     "output_type": "display_data"
    }
   ],
   "source": [
    "from scipy import stats\n",
    "\n",
    "pd.Series(stats.boxcox(users_data_cleaned['age'])[0]).hist()\n",
    "plt.title('Box-Cox Transformation of Age');"
   ]
  },
  {
   "cell_type": "markdown",
   "metadata": {},
   "source": [
    "# Identify categorical features"
   ]
  },
  {
   "cell_type": "code",
   "execution_count": 64,
   "metadata": {
    "colab": {
     "base_uri": "https://localhost:8080/"
    },
    "executionInfo": {
     "elapsed": 562,
     "status": "ok",
     "timestamp": 1614991544182,
     "user": {
      "displayName": "Sarah Haq",
      "photoUrl": "https://lh3.googleusercontent.com/a-/AOh14Gh7vs3P5_F3LYi7bEV8r1vbltDxEgpoYXmxHgxGBw=s64",
      "userId": "16294508270436203551"
     },
     "user_tz": -60
    },
    "id": "KpSjZGY3kzWj",
    "outputId": "334a23af-9603-4c46-db05-0f13e81dd211"
   },
   "outputs": [
    {
     "name": "stdout",
     "output_type": "stream",
     "text": [
      "The number of categorical features: 6\n",
      "The names of categorical features: ['user_id', 'job', 'marital', 'education', 'contact', 'device']\n"
     ]
    }
   ],
   "source": [
    "categorical_columns = \\\n",
    "list(users_data_cleaned.select_dtypes(['object']).columns)\n",
    "\n",
    "print('The number of categorical features:',\n",
    "     len(categorical_columns))\n",
    "print('The names of categorical features:',\n",
    "     categorical_columns)"
   ]
  },
  {
   "cell_type": "markdown",
   "metadata": {
    "id": "iEp20xxa8Rzw"
   },
   "source": [
    "# One-hot encode `job`"
   ]
  },
  {
   "cell_type": "code",
   "execution_count": 65,
   "metadata": {
    "colab": {
     "base_uri": "https://localhost:8080/"
    },
    "executionInfo": {
     "elapsed": 2959,
     "status": "ok",
     "timestamp": 1614991547561,
     "user": {
      "displayName": "Sarah Haq",
      "photoUrl": "https://lh3.googleusercontent.com/a-/AOh14Gh7vs3P5_F3LYi7bEV8r1vbltDxEgpoYXmxHgxGBw=s64",
      "userId": "16294508270436203551"
     },
     "user_tz": -60
    },
    "id": "79C8J-6lxCG0",
    "outputId": "ec86421f-94a7-4aa2-e185-a5b4c0db7ab8"
   },
   "outputs": [
    {
     "data": {
      "text/plain": [
       "blue-collar      9725\n",
       "management       9453\n",
       "technician       7592\n",
       "admin.           5168\n",
       "services         4152\n",
       "retired          2262\n",
       "self-employed    1577\n",
       "entrepreneur     1485\n",
       "unemployed       1301\n",
       "housemaid        1239\n",
       "student           937\n",
       "Unknown           288\n",
       "Name: job, dtype: int64"
      ]
     },
     "execution_count": 65,
     "metadata": {},
     "output_type": "execute_result"
    }
   ],
   "source": [
    "users_data_cleaned.job.value_counts(dropna = True)"
   ]
  },
  {
   "cell_type": "code",
   "execution_count": 66,
   "metadata": {
    "executionInfo": {
     "elapsed": 2806,
     "status": "ok",
     "timestamp": 1614991547562,
     "user": {
      "displayName": "Sarah Haq",
      "photoUrl": "https://lh3.googleusercontent.com/a-/AOh14Gh7vs3P5_F3LYi7bEV8r1vbltDxEgpoYXmxHgxGBw=s64",
      "userId": "16294508270436203551"
     },
     "user_tz": -60
    },
    "id": "x7Wl4Ghw8nQg"
   },
   "outputs": [],
   "source": [
    "# Create object for one-hot encoding.\n",
    "\n",
    "encoder = ce.OneHotEncoder(cols = 'job',\n",
    "                          return_df = True,\n",
    "                          use_cat_names = True)"
   ]
  },
  {
   "cell_type": "code",
   "execution_count": 67,
   "metadata": {
    "colab": {
     "base_uri": "https://localhost:8080/",
     "height": 496
    },
    "executionInfo": {
     "elapsed": 3036,
     "status": "ok",
     "timestamp": 1614991547935,
     "user": {
      "displayName": "Sarah Haq",
      "photoUrl": "https://lh3.googleusercontent.com/a-/AOh14Gh7vs3P5_F3LYi7bEV8r1vbltDxEgpoYXmxHgxGBw=s64",
      "userId": "16294508270436203551"
     },
     "user_tz": -60
    },
    "id": "x5kkteUk8-yw",
    "outputId": "63593de4-a0d6-41e2-e697-12161badc5f3"
   },
   "outputs": [
    {
     "data": {
      "text/html": [
       "<div>\n",
       "<style scoped>\n",
       "    .dataframe tbody tr th:only-of-type {\n",
       "        vertical-align: middle;\n",
       "    }\n",
       "\n",
       "    .dataframe tbody tr th {\n",
       "        vertical-align: top;\n",
       "    }\n",
       "\n",
       "    .dataframe thead th {\n",
       "        text-align: right;\n",
       "    }\n",
       "</style>\n",
       "<table border=\"1\" class=\"dataframe\">\n",
       "  <thead>\n",
       "    <tr style=\"text-align: right;\">\n",
       "      <th></th>\n",
       "      <th>user_id</th>\n",
       "      <th>number_transactions</th>\n",
       "      <th>total_amount_usd</th>\n",
       "      <th>age</th>\n",
       "      <th>job_management</th>\n",
       "      <th>job_technician</th>\n",
       "      <th>job_entrepreneur</th>\n",
       "      <th>job_blue-collar</th>\n",
       "      <th>job_Unknown</th>\n",
       "      <th>job_retired</th>\n",
       "      <th>...</th>\n",
       "      <th>housing</th>\n",
       "      <th>loan</th>\n",
       "      <th>contact</th>\n",
       "      <th>duration</th>\n",
       "      <th>campaign</th>\n",
       "      <th>pdays</th>\n",
       "      <th>previous</th>\n",
       "      <th>term_deposit</th>\n",
       "      <th>date_joined</th>\n",
       "      <th>device</th>\n",
       "    </tr>\n",
       "  </thead>\n",
       "  <tbody>\n",
       "    <tr>\n",
       "      <th>0</th>\n",
       "      <td>9231c446-cb16-4b2b-a7f7-ddfc8b25aaf6</td>\n",
       "      <td>3.0</td>\n",
       "      <td>2143.00</td>\n",
       "      <td>58</td>\n",
       "      <td>1</td>\n",
       "      <td>0</td>\n",
       "      <td>0</td>\n",
       "      <td>0</td>\n",
       "      <td>0</td>\n",
       "      <td>0</td>\n",
       "      <td>...</td>\n",
       "      <td>True</td>\n",
       "      <td>False</td>\n",
       "      <td>Unknown</td>\n",
       "      <td>261</td>\n",
       "      <td>1</td>\n",
       "      <td>-1</td>\n",
       "      <td>0</td>\n",
       "      <td>False</td>\n",
       "      <td>1998-08-23</td>\n",
       "      <td>mobile</td>\n",
       "    </tr>\n",
       "    <tr>\n",
       "      <th>1</th>\n",
       "      <td>bb92765a-08de-4963-b432-496524b39157</td>\n",
       "      <td>0.0</td>\n",
       "      <td>1369.42</td>\n",
       "      <td>44</td>\n",
       "      <td>0</td>\n",
       "      <td>1</td>\n",
       "      <td>0</td>\n",
       "      <td>0</td>\n",
       "      <td>0</td>\n",
       "      <td>0</td>\n",
       "      <td>...</td>\n",
       "      <td>True</td>\n",
       "      <td>False</td>\n",
       "      <td>Unknown</td>\n",
       "      <td>151</td>\n",
       "      <td>1</td>\n",
       "      <td>-1</td>\n",
       "      <td>0</td>\n",
       "      <td>False</td>\n",
       "      <td>2008-07-15</td>\n",
       "      <td>desktop</td>\n",
       "    </tr>\n",
       "    <tr>\n",
       "      <th>2</th>\n",
       "      <td>573de577-49ef-42b9-83da-d3cfb817b5c1</td>\n",
       "      <td>2.0</td>\n",
       "      <td>2.00</td>\n",
       "      <td>33</td>\n",
       "      <td>0</td>\n",
       "      <td>0</td>\n",
       "      <td>1</td>\n",
       "      <td>0</td>\n",
       "      <td>0</td>\n",
       "      <td>0</td>\n",
       "      <td>...</td>\n",
       "      <td>True</td>\n",
       "      <td>True</td>\n",
       "      <td>Unknown</td>\n",
       "      <td>76</td>\n",
       "      <td>1</td>\n",
       "      <td>-1</td>\n",
       "      <td>0</td>\n",
       "      <td>False</td>\n",
       "      <td>2002-06-04</td>\n",
       "      <td>mobile</td>\n",
       "    </tr>\n",
       "    <tr>\n",
       "      <th>3</th>\n",
       "      <td>d6b66b9d-7c8f-4257-a682-e136f640b7e3</td>\n",
       "      <td>0.0</td>\n",
       "      <td>1369.42</td>\n",
       "      <td>47</td>\n",
       "      <td>0</td>\n",
       "      <td>0</td>\n",
       "      <td>0</td>\n",
       "      <td>1</td>\n",
       "      <td>0</td>\n",
       "      <td>0</td>\n",
       "      <td>...</td>\n",
       "      <td>True</td>\n",
       "      <td>False</td>\n",
       "      <td>Unknown</td>\n",
       "      <td>92</td>\n",
       "      <td>1</td>\n",
       "      <td>-1</td>\n",
       "      <td>0</td>\n",
       "      <td>False</td>\n",
       "      <td>1995-06-29</td>\n",
       "      <td>tablet</td>\n",
       "    </tr>\n",
       "    <tr>\n",
       "      <th>4</th>\n",
       "      <td>fade0b20-7594-4d9a-84cd-c02f79b1b526</td>\n",
       "      <td>1.0</td>\n",
       "      <td>1.00</td>\n",
       "      <td>33</td>\n",
       "      <td>0</td>\n",
       "      <td>0</td>\n",
       "      <td>0</td>\n",
       "      <td>0</td>\n",
       "      <td>1</td>\n",
       "      <td>0</td>\n",
       "      <td>...</td>\n",
       "      <td>False</td>\n",
       "      <td>False</td>\n",
       "      <td>Unknown</td>\n",
       "      <td>198</td>\n",
       "      <td>1</td>\n",
       "      <td>-1</td>\n",
       "      <td>0</td>\n",
       "      <td>False</td>\n",
       "      <td>1995-08-01</td>\n",
       "      <td>mobile</td>\n",
       "    </tr>\n",
       "  </tbody>\n",
       "</table>\n",
       "<p>5 rows × 29 columns</p>\n",
       "</div>"
      ],
      "text/plain": [
       "                                user_id  number_transactions  \\\n",
       "0  9231c446-cb16-4b2b-a7f7-ddfc8b25aaf6                  3.0   \n",
       "1  bb92765a-08de-4963-b432-496524b39157                  0.0   \n",
       "2  573de577-49ef-42b9-83da-d3cfb817b5c1                  2.0   \n",
       "3  d6b66b9d-7c8f-4257-a682-e136f640b7e3                  0.0   \n",
       "4  fade0b20-7594-4d9a-84cd-c02f79b1b526                  1.0   \n",
       "\n",
       "   total_amount_usd  age  job_management  job_technician  job_entrepreneur  \\\n",
       "0           2143.00   58               1               0                 0   \n",
       "1           1369.42   44               0               1                 0   \n",
       "2              2.00   33               0               0                 1   \n",
       "3           1369.42   47               0               0                 0   \n",
       "4              1.00   33               0               0                 0   \n",
       "\n",
       "   job_blue-collar  job_Unknown  job_retired  ...  housing   loan  contact  \\\n",
       "0                0            0            0  ...     True  False  Unknown   \n",
       "1                0            0            0  ...     True  False  Unknown   \n",
       "2                0            0            0  ...     True   True  Unknown   \n",
       "3                1            0            0  ...     True  False  Unknown   \n",
       "4                0            1            0  ...    False  False  Unknown   \n",
       "\n",
       "   duration  campaign  pdays previous term_deposit  date_joined   device  \n",
       "0       261         1     -1        0        False   1998-08-23   mobile  \n",
       "1       151         1     -1        0        False   2008-07-15  desktop  \n",
       "2        76         1     -1        0        False   2002-06-04   mobile  \n",
       "3        92         1     -1        0        False   1995-06-29   tablet  \n",
       "4       198         1     -1        0        False   1995-08-01   mobile  \n",
       "\n",
       "[5 rows x 29 columns]"
      ]
     },
     "execution_count": 67,
     "metadata": {},
     "output_type": "execute_result"
    }
   ],
   "source": [
    "# Fit and transform data.\n",
    "\n",
    "users_data_encoded = encoder.fit_transform(users_data_cleaned)\n",
    "\n",
    "# Preview the data.\n",
    "\n",
    "users_data_encoded.head()"
   ]
  },
  {
   "cell_type": "code",
   "execution_count": 68,
   "metadata": {
    "colab": {
     "base_uri": "https://localhost:8080/"
    },
    "executionInfo": {
     "elapsed": 2859,
     "status": "ok",
     "timestamp": 1614991547935,
     "user": {
      "displayName": "Sarah Haq",
      "photoUrl": "https://lh3.googleusercontent.com/a-/AOh14Gh7vs3P5_F3LYi7bEV8r1vbltDxEgpoYXmxHgxGBw=s64",
      "userId": "16294508270436203551"
     },
     "user_tz": -60
    },
    "id": "QYxvca6N9NkR",
    "outputId": "1c822df5-c5da-4122-bcc6-d5de3c5cd8bb"
   },
   "outputs": [
    {
     "data": {
      "text/plain": [
       "['user_id',\n",
       " 'number_transactions',\n",
       " 'total_amount_usd',\n",
       " 'age',\n",
       " 'job_management',\n",
       " 'job_technician',\n",
       " 'job_entrepreneur',\n",
       " 'job_blue-collar',\n",
       " 'job_Unknown',\n",
       " 'job_retired',\n",
       " 'job_admin.',\n",
       " 'job_services',\n",
       " 'job_self-employed',\n",
       " 'job_unemployed',\n",
       " 'job_housemaid',\n",
       " 'job_student',\n",
       " 'marital',\n",
       " 'education',\n",
       " 'default',\n",
       " 'housing',\n",
       " 'loan',\n",
       " 'contact',\n",
       " 'duration',\n",
       " 'campaign',\n",
       " 'pdays',\n",
       " 'previous',\n",
       " 'term_deposit',\n",
       " 'date_joined',\n",
       " 'device']"
      ]
     },
     "execution_count": 68,
     "metadata": {},
     "output_type": "execute_result"
    }
   ],
   "source": [
    "list(users_data_encoded)"
   ]
  },
  {
   "cell_type": "code",
   "execution_count": 69,
   "metadata": {
    "colab": {
     "base_uri": "https://localhost:8080/"
    },
    "executionInfo": {
     "elapsed": 2387,
     "status": "ok",
     "timestamp": 1614991547936,
     "user": {
      "displayName": "Sarah Haq",
      "photoUrl": "https://lh3.googleusercontent.com/a-/AOh14Gh7vs3P5_F3LYi7bEV8r1vbltDxEgpoYXmxHgxGBw=s64",
      "userId": "16294508270436203551"
     },
     "user_tz": -60
    },
    "id": "09YMC3IG9gGS",
    "outputId": "28f49e91-ef6d-49a5-f46d-8ecefef96b77"
   },
   "outputs": [
    {
     "name": "stdout",
     "output_type": "stream",
     "text": [
      "Shape of data before encoding: (45179, 18)\n",
      "Shape of data after encoding: (45179, 29)\n"
     ]
    }
   ],
   "source": [
    "print('Shape of data before encoding:',\n",
    "     users_data_cleaned.shape)\n",
    "\n",
    "print('Shape of data after encoding:',\n",
    "     users_data_encoded.shape)"
   ]
  },
  {
   "cell_type": "markdown",
   "metadata": {
    "id": "_OIsHn6b4IgX"
   },
   "source": [
    "# Dummy encode `marital`"
   ]
  },
  {
   "cell_type": "code",
   "execution_count": 70,
   "metadata": {
    "colab": {
     "base_uri": "https://localhost:8080/",
     "height": 419
    },
    "executionInfo": {
     "elapsed": 1486,
     "status": "ok",
     "timestamp": 1614991547936,
     "user": {
      "displayName": "Sarah Haq",
      "photoUrl": "https://lh3.googleusercontent.com/a-/AOh14Gh7vs3P5_F3LYi7bEV8r1vbltDxEgpoYXmxHgxGBw=s64",
      "userId": "16294508270436203551"
     },
     "user_tz": -60
    },
    "id": "eFGMhuhFoNkk",
    "outputId": "0ae530ac-a9b3-45bd-9f03-108a9cc2127f"
   },
   "outputs": [
    {
     "data": {
      "text/html": [
       "<div>\n",
       "<style scoped>\n",
       "    .dataframe tbody tr th:only-of-type {\n",
       "        vertical-align: middle;\n",
       "    }\n",
       "\n",
       "    .dataframe tbody tr th {\n",
       "        vertical-align: top;\n",
       "    }\n",
       "\n",
       "    .dataframe thead th {\n",
       "        text-align: right;\n",
       "    }\n",
       "</style>\n",
       "<table border=\"1\" class=\"dataframe\">\n",
       "  <thead>\n",
       "    <tr style=\"text-align: right;\">\n",
       "      <th></th>\n",
       "      <th>married</th>\n",
       "      <th>single</th>\n",
       "    </tr>\n",
       "  </thead>\n",
       "  <tbody>\n",
       "    <tr>\n",
       "      <th>0</th>\n",
       "      <td>1</td>\n",
       "      <td>0</td>\n",
       "    </tr>\n",
       "    <tr>\n",
       "      <th>1</th>\n",
       "      <td>0</td>\n",
       "      <td>1</td>\n",
       "    </tr>\n",
       "    <tr>\n",
       "      <th>2</th>\n",
       "      <td>1</td>\n",
       "      <td>0</td>\n",
       "    </tr>\n",
       "    <tr>\n",
       "      <th>3</th>\n",
       "      <td>1</td>\n",
       "      <td>0</td>\n",
       "    </tr>\n",
       "    <tr>\n",
       "      <th>4</th>\n",
       "      <td>0</td>\n",
       "      <td>1</td>\n",
       "    </tr>\n",
       "    <tr>\n",
       "      <th>...</th>\n",
       "      <td>...</td>\n",
       "      <td>...</td>\n",
       "    </tr>\n",
       "    <tr>\n",
       "      <th>45211</th>\n",
       "      <td>1</td>\n",
       "      <td>0</td>\n",
       "    </tr>\n",
       "    <tr>\n",
       "      <th>45212</th>\n",
       "      <td>0</td>\n",
       "      <td>0</td>\n",
       "    </tr>\n",
       "    <tr>\n",
       "      <th>45213</th>\n",
       "      <td>1</td>\n",
       "      <td>0</td>\n",
       "    </tr>\n",
       "    <tr>\n",
       "      <th>45214</th>\n",
       "      <td>1</td>\n",
       "      <td>0</td>\n",
       "    </tr>\n",
       "    <tr>\n",
       "      <th>45215</th>\n",
       "      <td>1</td>\n",
       "      <td>0</td>\n",
       "    </tr>\n",
       "  </tbody>\n",
       "</table>\n",
       "<p>45179 rows × 2 columns</p>\n",
       "</div>"
      ],
      "text/plain": [
       "       married  single\n",
       "0            1       0\n",
       "1            0       1\n",
       "2            1       0\n",
       "3            1       0\n",
       "4            0       1\n",
       "...        ...     ...\n",
       "45211        1       0\n",
       "45212        0       0\n",
       "45213        1       0\n",
       "45214        1       0\n",
       "45215        1       0\n",
       "\n",
       "[45179 rows x 2 columns]"
      ]
     },
     "execution_count": 70,
     "metadata": {},
     "output_type": "execute_result"
    }
   ],
   "source": [
    "marital_encoded = \\\n",
    "pd.get_dummies(data = users_data_encoded['marital'],\n",
    "              drop_first = True)\n",
    "\n",
    "marital_encoded"
   ]
  },
  {
   "cell_type": "code",
   "execution_count": 71,
   "metadata": {
    "colab": {
     "base_uri": "https://localhost:8080/",
     "height": 496
    },
    "executionInfo": {
     "elapsed": 995,
     "status": "ok",
     "timestamp": 1614991547937,
     "user": {
      "displayName": "Sarah Haq",
      "photoUrl": "https://lh3.googleusercontent.com/a-/AOh14Gh7vs3P5_F3LYi7bEV8r1vbltDxEgpoYXmxHgxGBw=s64",
      "userId": "16294508270436203551"
     },
     "user_tz": -60
    },
    "id": "j_ykm8IB-89G",
    "outputId": "801192f2-f10b-49ac-c1a5-acf00bba13d8"
   },
   "outputs": [
    {
     "data": {
      "text/html": [
       "<div>\n",
       "<style scoped>\n",
       "    .dataframe tbody tr th:only-of-type {\n",
       "        vertical-align: middle;\n",
       "    }\n",
       "\n",
       "    .dataframe tbody tr th {\n",
       "        vertical-align: top;\n",
       "    }\n",
       "\n",
       "    .dataframe thead th {\n",
       "        text-align: right;\n",
       "    }\n",
       "</style>\n",
       "<table border=\"1\" class=\"dataframe\">\n",
       "  <thead>\n",
       "    <tr style=\"text-align: right;\">\n",
       "      <th></th>\n",
       "      <th>user_id</th>\n",
       "      <th>number_transactions</th>\n",
       "      <th>total_amount_usd</th>\n",
       "      <th>age</th>\n",
       "      <th>job_management</th>\n",
       "      <th>job_technician</th>\n",
       "      <th>job_entrepreneur</th>\n",
       "      <th>job_blue-collar</th>\n",
       "      <th>job_Unknown</th>\n",
       "      <th>job_retired</th>\n",
       "      <th>...</th>\n",
       "      <th>contact</th>\n",
       "      <th>duration</th>\n",
       "      <th>campaign</th>\n",
       "      <th>pdays</th>\n",
       "      <th>previous</th>\n",
       "      <th>term_deposit</th>\n",
       "      <th>date_joined</th>\n",
       "      <th>device</th>\n",
       "      <th>married</th>\n",
       "      <th>single</th>\n",
       "    </tr>\n",
       "  </thead>\n",
       "  <tbody>\n",
       "    <tr>\n",
       "      <th>0</th>\n",
       "      <td>9231c446-cb16-4b2b-a7f7-ddfc8b25aaf6</td>\n",
       "      <td>3.0</td>\n",
       "      <td>2143.00</td>\n",
       "      <td>58</td>\n",
       "      <td>1</td>\n",
       "      <td>0</td>\n",
       "      <td>0</td>\n",
       "      <td>0</td>\n",
       "      <td>0</td>\n",
       "      <td>0</td>\n",
       "      <td>...</td>\n",
       "      <td>Unknown</td>\n",
       "      <td>261</td>\n",
       "      <td>1</td>\n",
       "      <td>-1</td>\n",
       "      <td>0</td>\n",
       "      <td>False</td>\n",
       "      <td>1998-08-23</td>\n",
       "      <td>mobile</td>\n",
       "      <td>1</td>\n",
       "      <td>0</td>\n",
       "    </tr>\n",
       "    <tr>\n",
       "      <th>1</th>\n",
       "      <td>bb92765a-08de-4963-b432-496524b39157</td>\n",
       "      <td>0.0</td>\n",
       "      <td>1369.42</td>\n",
       "      <td>44</td>\n",
       "      <td>0</td>\n",
       "      <td>1</td>\n",
       "      <td>0</td>\n",
       "      <td>0</td>\n",
       "      <td>0</td>\n",
       "      <td>0</td>\n",
       "      <td>...</td>\n",
       "      <td>Unknown</td>\n",
       "      <td>151</td>\n",
       "      <td>1</td>\n",
       "      <td>-1</td>\n",
       "      <td>0</td>\n",
       "      <td>False</td>\n",
       "      <td>2008-07-15</td>\n",
       "      <td>desktop</td>\n",
       "      <td>0</td>\n",
       "      <td>1</td>\n",
       "    </tr>\n",
       "    <tr>\n",
       "      <th>2</th>\n",
       "      <td>573de577-49ef-42b9-83da-d3cfb817b5c1</td>\n",
       "      <td>2.0</td>\n",
       "      <td>2.00</td>\n",
       "      <td>33</td>\n",
       "      <td>0</td>\n",
       "      <td>0</td>\n",
       "      <td>1</td>\n",
       "      <td>0</td>\n",
       "      <td>0</td>\n",
       "      <td>0</td>\n",
       "      <td>...</td>\n",
       "      <td>Unknown</td>\n",
       "      <td>76</td>\n",
       "      <td>1</td>\n",
       "      <td>-1</td>\n",
       "      <td>0</td>\n",
       "      <td>False</td>\n",
       "      <td>2002-06-04</td>\n",
       "      <td>mobile</td>\n",
       "      <td>1</td>\n",
       "      <td>0</td>\n",
       "    </tr>\n",
       "    <tr>\n",
       "      <th>3</th>\n",
       "      <td>d6b66b9d-7c8f-4257-a682-e136f640b7e3</td>\n",
       "      <td>0.0</td>\n",
       "      <td>1369.42</td>\n",
       "      <td>47</td>\n",
       "      <td>0</td>\n",
       "      <td>0</td>\n",
       "      <td>0</td>\n",
       "      <td>1</td>\n",
       "      <td>0</td>\n",
       "      <td>0</td>\n",
       "      <td>...</td>\n",
       "      <td>Unknown</td>\n",
       "      <td>92</td>\n",
       "      <td>1</td>\n",
       "      <td>-1</td>\n",
       "      <td>0</td>\n",
       "      <td>False</td>\n",
       "      <td>1995-06-29</td>\n",
       "      <td>tablet</td>\n",
       "      <td>1</td>\n",
       "      <td>0</td>\n",
       "    </tr>\n",
       "    <tr>\n",
       "      <th>4</th>\n",
       "      <td>fade0b20-7594-4d9a-84cd-c02f79b1b526</td>\n",
       "      <td>1.0</td>\n",
       "      <td>1.00</td>\n",
       "      <td>33</td>\n",
       "      <td>0</td>\n",
       "      <td>0</td>\n",
       "      <td>0</td>\n",
       "      <td>0</td>\n",
       "      <td>1</td>\n",
       "      <td>0</td>\n",
       "      <td>...</td>\n",
       "      <td>Unknown</td>\n",
       "      <td>198</td>\n",
       "      <td>1</td>\n",
       "      <td>-1</td>\n",
       "      <td>0</td>\n",
       "      <td>False</td>\n",
       "      <td>1995-08-01</td>\n",
       "      <td>mobile</td>\n",
       "      <td>0</td>\n",
       "      <td>1</td>\n",
       "    </tr>\n",
       "  </tbody>\n",
       "</table>\n",
       "<p>5 rows × 30 columns</p>\n",
       "</div>"
      ],
      "text/plain": [
       "                                user_id  number_transactions  \\\n",
       "0  9231c446-cb16-4b2b-a7f7-ddfc8b25aaf6                  3.0   \n",
       "1  bb92765a-08de-4963-b432-496524b39157                  0.0   \n",
       "2  573de577-49ef-42b9-83da-d3cfb817b5c1                  2.0   \n",
       "3  d6b66b9d-7c8f-4257-a682-e136f640b7e3                  0.0   \n",
       "4  fade0b20-7594-4d9a-84cd-c02f79b1b526                  1.0   \n",
       "\n",
       "   total_amount_usd  age  job_management  job_technician  job_entrepreneur  \\\n",
       "0           2143.00   58               1               0                 0   \n",
       "1           1369.42   44               0               1                 0   \n",
       "2              2.00   33               0               0                 1   \n",
       "3           1369.42   47               0               0                 0   \n",
       "4              1.00   33               0               0                 0   \n",
       "\n",
       "   job_blue-collar  job_Unknown  job_retired  ...  contact  duration  \\\n",
       "0                0            0            0  ...  Unknown       261   \n",
       "1                0            0            0  ...  Unknown       151   \n",
       "2                0            0            0  ...  Unknown        76   \n",
       "3                1            0            0  ...  Unknown        92   \n",
       "4                0            1            0  ...  Unknown       198   \n",
       "\n",
       "   campaign  pdays  previous  term_deposit date_joined   device  married  \\\n",
       "0         1     -1         0         False  1998-08-23   mobile        1   \n",
       "1         1     -1         0         False  2008-07-15  desktop        0   \n",
       "2         1     -1         0         False  2002-06-04   mobile        1   \n",
       "3         1     -1         0         False  1995-06-29   tablet        1   \n",
       "4         1     -1         0         False  1995-08-01   mobile        0   \n",
       "\n",
       "   single  \n",
       "0       0  \n",
       "1       1  \n",
       "2       0  \n",
       "3       0  \n",
       "4       1  \n",
       "\n",
       "[5 rows x 30 columns]"
      ]
     },
     "execution_count": 71,
     "metadata": {},
     "output_type": "execute_result"
    }
   ],
   "source": [
    "# Conncatenate the new encoded columns.\n",
    "\n",
    "users_data_encoded = \\\n",
    "pd.concat([users_data_encoded, marital_encoded], axis = 1)\n",
    "\n",
    "# Drop the original variable.\n",
    "\n",
    "users_data_encoded.drop(['marital'], axis = 1, inplace = True)\n",
    "\n",
    "# Preview the data\n",
    "\n",
    "users_data_encoded.head()"
   ]
  },
  {
   "cell_type": "code",
   "execution_count": 72,
   "metadata": {
    "colab": {
     "base_uri": "https://localhost:8080/"
    },
    "executionInfo": {
     "elapsed": 476,
     "status": "ok",
     "timestamp": 1614991548156,
     "user": {
      "displayName": "Sarah Haq",
      "photoUrl": "https://lh3.googleusercontent.com/a-/AOh14Gh7vs3P5_F3LYi7bEV8r1vbltDxEgpoYXmxHgxGBw=s64",
      "userId": "16294508270436203551"
     },
     "user_tz": -60
    },
    "id": "aY0fTgDDAEWQ",
    "outputId": "ac387e42-e38c-4e95-cfdc-b79aa727ccfd"
   },
   "outputs": [
    {
     "name": "stdout",
     "output_type": "stream",
     "text": [
      "Shape of data after encoding: (45179, 30)\n"
     ]
    },
    {
     "data": {
      "text/plain": [
       "['user_id',\n",
       " 'number_transactions',\n",
       " 'total_amount_usd',\n",
       " 'age',\n",
       " 'job_management',\n",
       " 'job_technician',\n",
       " 'job_entrepreneur',\n",
       " 'job_blue-collar',\n",
       " 'job_Unknown',\n",
       " 'job_retired',\n",
       " 'job_admin.',\n",
       " 'job_services',\n",
       " 'job_self-employed',\n",
       " 'job_unemployed',\n",
       " 'job_housemaid',\n",
       " 'job_student',\n",
       " 'education',\n",
       " 'default',\n",
       " 'housing',\n",
       " 'loan',\n",
       " 'contact',\n",
       " 'duration',\n",
       " 'campaign',\n",
       " 'pdays',\n",
       " 'previous',\n",
       " 'term_deposit',\n",
       " 'date_joined',\n",
       " 'device',\n",
       " 'married',\n",
       " 'single']"
      ]
     },
     "execution_count": 72,
     "metadata": {},
     "output_type": "execute_result"
    }
   ],
   "source": [
    "print('Shape of data after encoding:',\n",
    "     users_data_encoded.shape)\n",
    "\n",
    "list(users_data_encoded)"
   ]
  },
  {
   "cell_type": "markdown",
   "metadata": {
    "id": "ieUIUY24_MmQ"
   },
   "source": [
    "# One-hot encode the remaining categorical variables"
   ]
  },
  {
   "cell_type": "code",
   "execution_count": 73,
   "metadata": {
    "executionInfo": {
     "elapsed": 583,
     "status": "ok",
     "timestamp": 1614991550227,
     "user": {
      "displayName": "Sarah Haq",
      "photoUrl": "https://lh3.googleusercontent.com/a-/AOh14Gh7vs3P5_F3LYi7bEV8r1vbltDxEgpoYXmxHgxGBw=s64",
      "userId": "16294508270436203551"
     },
     "user_tz": -60
    },
    "id": "rAjoQ2NJAsWT"
   },
   "outputs": [],
   "source": [
    "cols = ['education', 'contact', 'device']\n",
    "\n",
    "encoder = ce.OneHotEncoder(cols = cols,\n",
    "                          return_df = True,\n",
    "                          use_cat_names = True)"
   ]
  },
  {
   "cell_type": "code",
   "execution_count": 74,
   "metadata": {
    "colab": {
     "base_uri": "https://localhost:8080/",
     "height": 496
    },
    "executionInfo": {
     "elapsed": 665,
     "status": "ok",
     "timestamp": 1614991550757,
     "user": {
      "displayName": "Sarah Haq",
      "photoUrl": "https://lh3.googleusercontent.com/a-/AOh14Gh7vs3P5_F3LYi7bEV8r1vbltDxEgpoYXmxHgxGBw=s64",
      "userId": "16294508270436203551"
     },
     "user_tz": -60
    },
    "id": "sq9duxcAAxJj",
    "outputId": "60c2d0f2-80de-48d9-b969-cafee02dc9f6"
   },
   "outputs": [
    {
     "data": {
      "text/html": [
       "<div>\n",
       "<style scoped>\n",
       "    .dataframe tbody tr th:only-of-type {\n",
       "        vertical-align: middle;\n",
       "    }\n",
       "\n",
       "    .dataframe tbody tr th {\n",
       "        vertical-align: top;\n",
       "    }\n",
       "\n",
       "    .dataframe thead th {\n",
       "        text-align: right;\n",
       "    }\n",
       "</style>\n",
       "<table border=\"1\" class=\"dataframe\">\n",
       "  <thead>\n",
       "    <tr style=\"text-align: right;\">\n",
       "      <th></th>\n",
       "      <th>user_id</th>\n",
       "      <th>number_transactions</th>\n",
       "      <th>total_amount_usd</th>\n",
       "      <th>age</th>\n",
       "      <th>job_management</th>\n",
       "      <th>job_technician</th>\n",
       "      <th>job_entrepreneur</th>\n",
       "      <th>job_blue-collar</th>\n",
       "      <th>job_Unknown</th>\n",
       "      <th>job_retired</th>\n",
       "      <th>...</th>\n",
       "      <th>pdays</th>\n",
       "      <th>previous</th>\n",
       "      <th>term_deposit</th>\n",
       "      <th>date_joined</th>\n",
       "      <th>device_mobile</th>\n",
       "      <th>device_desktop</th>\n",
       "      <th>device_tablet</th>\n",
       "      <th>device_Unknown</th>\n",
       "      <th>married</th>\n",
       "      <th>single</th>\n",
       "    </tr>\n",
       "  </thead>\n",
       "  <tbody>\n",
       "    <tr>\n",
       "      <th>0</th>\n",
       "      <td>9231c446-cb16-4b2b-a7f7-ddfc8b25aaf6</td>\n",
       "      <td>3.0</td>\n",
       "      <td>2143.00</td>\n",
       "      <td>58</td>\n",
       "      <td>1</td>\n",
       "      <td>0</td>\n",
       "      <td>0</td>\n",
       "      <td>0</td>\n",
       "      <td>0</td>\n",
       "      <td>0</td>\n",
       "      <td>...</td>\n",
       "      <td>-1</td>\n",
       "      <td>0</td>\n",
       "      <td>False</td>\n",
       "      <td>1998-08-23</td>\n",
       "      <td>1</td>\n",
       "      <td>0</td>\n",
       "      <td>0</td>\n",
       "      <td>0</td>\n",
       "      <td>1</td>\n",
       "      <td>0</td>\n",
       "    </tr>\n",
       "    <tr>\n",
       "      <th>1</th>\n",
       "      <td>bb92765a-08de-4963-b432-496524b39157</td>\n",
       "      <td>0.0</td>\n",
       "      <td>1369.42</td>\n",
       "      <td>44</td>\n",
       "      <td>0</td>\n",
       "      <td>1</td>\n",
       "      <td>0</td>\n",
       "      <td>0</td>\n",
       "      <td>0</td>\n",
       "      <td>0</td>\n",
       "      <td>...</td>\n",
       "      <td>-1</td>\n",
       "      <td>0</td>\n",
       "      <td>False</td>\n",
       "      <td>2008-07-15</td>\n",
       "      <td>0</td>\n",
       "      <td>1</td>\n",
       "      <td>0</td>\n",
       "      <td>0</td>\n",
       "      <td>0</td>\n",
       "      <td>1</td>\n",
       "    </tr>\n",
       "    <tr>\n",
       "      <th>2</th>\n",
       "      <td>573de577-49ef-42b9-83da-d3cfb817b5c1</td>\n",
       "      <td>2.0</td>\n",
       "      <td>2.00</td>\n",
       "      <td>33</td>\n",
       "      <td>0</td>\n",
       "      <td>0</td>\n",
       "      <td>1</td>\n",
       "      <td>0</td>\n",
       "      <td>0</td>\n",
       "      <td>0</td>\n",
       "      <td>...</td>\n",
       "      <td>-1</td>\n",
       "      <td>0</td>\n",
       "      <td>False</td>\n",
       "      <td>2002-06-04</td>\n",
       "      <td>1</td>\n",
       "      <td>0</td>\n",
       "      <td>0</td>\n",
       "      <td>0</td>\n",
       "      <td>1</td>\n",
       "      <td>0</td>\n",
       "    </tr>\n",
       "    <tr>\n",
       "      <th>3</th>\n",
       "      <td>d6b66b9d-7c8f-4257-a682-e136f640b7e3</td>\n",
       "      <td>0.0</td>\n",
       "      <td>1369.42</td>\n",
       "      <td>47</td>\n",
       "      <td>0</td>\n",
       "      <td>0</td>\n",
       "      <td>0</td>\n",
       "      <td>1</td>\n",
       "      <td>0</td>\n",
       "      <td>0</td>\n",
       "      <td>...</td>\n",
       "      <td>-1</td>\n",
       "      <td>0</td>\n",
       "      <td>False</td>\n",
       "      <td>1995-06-29</td>\n",
       "      <td>0</td>\n",
       "      <td>0</td>\n",
       "      <td>1</td>\n",
       "      <td>0</td>\n",
       "      <td>1</td>\n",
       "      <td>0</td>\n",
       "    </tr>\n",
       "    <tr>\n",
       "      <th>4</th>\n",
       "      <td>fade0b20-7594-4d9a-84cd-c02f79b1b526</td>\n",
       "      <td>1.0</td>\n",
       "      <td>1.00</td>\n",
       "      <td>33</td>\n",
       "      <td>0</td>\n",
       "      <td>0</td>\n",
       "      <td>0</td>\n",
       "      <td>0</td>\n",
       "      <td>1</td>\n",
       "      <td>0</td>\n",
       "      <td>...</td>\n",
       "      <td>-1</td>\n",
       "      <td>0</td>\n",
       "      <td>False</td>\n",
       "      <td>1995-08-01</td>\n",
       "      <td>1</td>\n",
       "      <td>0</td>\n",
       "      <td>0</td>\n",
       "      <td>0</td>\n",
       "      <td>0</td>\n",
       "      <td>1</td>\n",
       "    </tr>\n",
       "  </tbody>\n",
       "</table>\n",
       "<p>5 rows × 38 columns</p>\n",
       "</div>"
      ],
      "text/plain": [
       "                                user_id  number_transactions  \\\n",
       "0  9231c446-cb16-4b2b-a7f7-ddfc8b25aaf6                  3.0   \n",
       "1  bb92765a-08de-4963-b432-496524b39157                  0.0   \n",
       "2  573de577-49ef-42b9-83da-d3cfb817b5c1                  2.0   \n",
       "3  d6b66b9d-7c8f-4257-a682-e136f640b7e3                  0.0   \n",
       "4  fade0b20-7594-4d9a-84cd-c02f79b1b526                  1.0   \n",
       "\n",
       "   total_amount_usd  age  job_management  job_technician  job_entrepreneur  \\\n",
       "0           2143.00   58               1               0                 0   \n",
       "1           1369.42   44               0               1                 0   \n",
       "2              2.00   33               0               0                 1   \n",
       "3           1369.42   47               0               0                 0   \n",
       "4              1.00   33               0               0                 0   \n",
       "\n",
       "   job_blue-collar  job_Unknown  job_retired  ...  pdays  previous  \\\n",
       "0                0            0            0  ...     -1         0   \n",
       "1                0            0            0  ...     -1         0   \n",
       "2                0            0            0  ...     -1         0   \n",
       "3                1            0            0  ...     -1         0   \n",
       "4                0            1            0  ...     -1         0   \n",
       "\n",
       "   term_deposit  date_joined  device_mobile  device_desktop  device_tablet  \\\n",
       "0         False   1998-08-23              1               0              0   \n",
       "1         False   2008-07-15              0               1              0   \n",
       "2         False   2002-06-04              1               0              0   \n",
       "3         False   1995-06-29              0               0              1   \n",
       "4         False   1995-08-01              1               0              0   \n",
       "\n",
       "   device_Unknown  married  single  \n",
       "0               0        1       0  \n",
       "1               0        0       1  \n",
       "2               0        1       0  \n",
       "3               0        1       0  \n",
       "4               0        0       1  \n",
       "\n",
       "[5 rows x 38 columns]"
      ]
     },
     "execution_count": 74,
     "metadata": {},
     "output_type": "execute_result"
    }
   ],
   "source": [
    "# Fit and transform data.\n",
    "\n",
    "users_data_encoded = encoder.fit_transform(users_data_encoded)\n",
    "\n",
    "# Preview the data.\n",
    "\n",
    "users_data_encoded.head()"
   ]
  },
  {
   "cell_type": "code",
   "execution_count": 75,
   "metadata": {
    "colab": {
     "base_uri": "https://localhost:8080/"
    },
    "executionInfo": {
     "elapsed": 374,
     "status": "ok",
     "timestamp": 1614991551727,
     "user": {
      "displayName": "Sarah Haq",
      "photoUrl": "https://lh3.googleusercontent.com/a-/AOh14Gh7vs3P5_F3LYi7bEV8r1vbltDxEgpoYXmxHgxGBw=s64",
      "userId": "16294508270436203551"
     },
     "user_tz": -60
    },
    "id": "NAZFKLk-DHTv",
    "outputId": "1bcae42d-0eed-4b2d-e1e2-54a7126226ae"
   },
   "outputs": [
    {
     "name": "stdout",
     "output_type": "stream",
     "text": [
      "Shape of data after encoding: (45179, 38)\n"
     ]
    },
    {
     "data": {
      "text/plain": [
       "['user_id',\n",
       " 'number_transactions',\n",
       " 'total_amount_usd',\n",
       " 'age',\n",
       " 'job_management',\n",
       " 'job_technician',\n",
       " 'job_entrepreneur',\n",
       " 'job_blue-collar',\n",
       " 'job_Unknown',\n",
       " 'job_retired',\n",
       " 'job_admin.',\n",
       " 'job_services',\n",
       " 'job_self-employed',\n",
       " 'job_unemployed',\n",
       " 'job_housemaid',\n",
       " 'job_student',\n",
       " 'education_tertiary',\n",
       " 'education_secondary',\n",
       " 'education_Unknown',\n",
       " 'education_primary',\n",
       " 'default',\n",
       " 'housing',\n",
       " 'loan',\n",
       " 'contact_Unknown',\n",
       " 'contact_cellular',\n",
       " 'contact_telephone',\n",
       " 'duration',\n",
       " 'campaign',\n",
       " 'pdays',\n",
       " 'previous',\n",
       " 'term_deposit',\n",
       " 'date_joined',\n",
       " 'device_mobile',\n",
       " 'device_desktop',\n",
       " 'device_tablet',\n",
       " 'device_Unknown',\n",
       " 'married',\n",
       " 'single']"
      ]
     },
     "execution_count": 75,
     "metadata": {},
     "output_type": "execute_result"
    }
   ],
   "source": [
    "print('Shape of data after encoding:',\n",
    "     users_data_encoded.shape)\n",
    "\n",
    "list(users_data_encoded)"
   ]
  },
  {
   "cell_type": "markdown",
   "metadata": {
    "id": "VUOz4SGBfAHV"
   },
   "source": [
    "# Discretize `age` into bins"
   ]
  },
  {
   "cell_type": "code",
   "execution_count": 76,
   "metadata": {
    "colab": {
     "base_uri": "https://localhost:8080/"
    },
    "executionInfo": {
     "elapsed": 505,
     "status": "ok",
     "timestamp": 1614991555371,
     "user": {
      "displayName": "Sarah Haq",
      "photoUrl": "https://lh3.googleusercontent.com/a-/AOh14Gh7vs3P5_F3LYi7bEV8r1vbltDxEgpoYXmxHgxGBw=s64",
      "userId": "16294508270436203551"
     },
     "user_tz": -60
    },
    "id": "kLZ0vlUwgxtB",
    "outputId": "5105943d-d359-44a1-8d30-21384f8399ee"
   },
   "outputs": [
    {
     "data": {
      "text/plain": [
       "count    45179.000000\n",
       "mean        40.935103\n",
       "std         10.618499\n",
       "min         18.000000\n",
       "25%         33.000000\n",
       "50%         39.000000\n",
       "75%         48.000000\n",
       "max         95.000000\n",
       "Name: age, dtype: float64"
      ]
     },
     "execution_count": 76,
     "metadata": {},
     "output_type": "execute_result"
    }
   ],
   "source": [
    "users_data_encoded.age.describe()"
   ]
  },
  {
   "cell_type": "code",
   "execution_count": 77,
   "metadata": {
    "executionInfo": {
     "elapsed": 629,
     "status": "ok",
     "timestamp": 1614991704317,
     "user": {
      "displayName": "Sarah Haq",
      "photoUrl": "https://lh3.googleusercontent.com/a-/AOh14Gh7vs3P5_F3LYi7bEV8r1vbltDxEgpoYXmxHgxGBw=s64",
      "userId": "16294508270436203551"
     },
     "user_tz": -60
    },
    "id": "bRAfTlIMk1Wa"
   },
   "outputs": [],
   "source": [
    "# Define age bins and labels.\n",
    "\n",
    "bins = [18, 25, 35, 45, 55, 65, 75, 110]\n",
    "labels = ['18–24', '25–34', '35–44',\n",
    "          '45–54', '55–64', '65–74', '75+']\n",
    "\n",
    "# Perform binning using bin list.\n",
    "\n",
    "users_data_encoded['age_group'] = \\\n",
    "pd.cut(users_data_encoded['age'], bins = bins,\n",
    "      labels = labels, right = False)\n",
    "\n",
    "# Map bins to integer values.\n",
    "users_data_encoded['age_group_encoded'] = \\\n",
    "users_data_encoded['age_group'].cat.codes"
   ]
  },
  {
   "cell_type": "code",
   "execution_count": 78,
   "metadata": {
    "colab": {
     "base_uri": "https://localhost:8080/",
     "height": 359
    },
    "executionInfo": {
     "elapsed": 511,
     "status": "ok",
     "timestamp": 1614991713433,
     "user": {
      "displayName": "Sarah Haq",
      "photoUrl": "https://lh3.googleusercontent.com/a-/AOh14Gh7vs3P5_F3LYi7bEV8r1vbltDxEgpoYXmxHgxGBw=s64",
      "userId": "16294508270436203551"
     },
     "user_tz": -60
    },
    "id": "6Xk0BHw8jemq",
    "outputId": "69a220e4-38af-4f74-d939-5ebc2dbb1926"
   },
   "outputs": [
    {
     "data": {
      "text/html": [
       "<div>\n",
       "<style scoped>\n",
       "    .dataframe tbody tr th:only-of-type {\n",
       "        vertical-align: middle;\n",
       "    }\n",
       "\n",
       "    .dataframe tbody tr th {\n",
       "        vertical-align: top;\n",
       "    }\n",
       "\n",
       "    .dataframe thead th {\n",
       "        text-align: right;\n",
       "    }\n",
       "</style>\n",
       "<table border=\"1\" class=\"dataframe\">\n",
       "  <thead>\n",
       "    <tr style=\"text-align: right;\">\n",
       "      <th></th>\n",
       "      <th>age_group_encoded</th>\n",
       "      <th>age_group</th>\n",
       "      <th>age</th>\n",
       "    </tr>\n",
       "  </thead>\n",
       "  <tbody>\n",
       "    <tr>\n",
       "      <th>38300</th>\n",
       "      <td>1</td>\n",
       "      <td>25–34</td>\n",
       "      <td>34</td>\n",
       "    </tr>\n",
       "    <tr>\n",
       "      <th>30391</th>\n",
       "      <td>1</td>\n",
       "      <td>25–34</td>\n",
       "      <td>34</td>\n",
       "    </tr>\n",
       "    <tr>\n",
       "      <th>10059</th>\n",
       "      <td>3</td>\n",
       "      <td>45–54</td>\n",
       "      <td>48</td>\n",
       "    </tr>\n",
       "    <tr>\n",
       "      <th>36998</th>\n",
       "      <td>4</td>\n",
       "      <td>55–64</td>\n",
       "      <td>57</td>\n",
       "    </tr>\n",
       "    <tr>\n",
       "      <th>37706</th>\n",
       "      <td>3</td>\n",
       "      <td>45–54</td>\n",
       "      <td>50</td>\n",
       "    </tr>\n",
       "    <tr>\n",
       "      <th>25911</th>\n",
       "      <td>2</td>\n",
       "      <td>35–44</td>\n",
       "      <td>38</td>\n",
       "    </tr>\n",
       "    <tr>\n",
       "      <th>16866</th>\n",
       "      <td>2</td>\n",
       "      <td>35–44</td>\n",
       "      <td>38</td>\n",
       "    </tr>\n",
       "    <tr>\n",
       "      <th>44670</th>\n",
       "      <td>1</td>\n",
       "      <td>25–34</td>\n",
       "      <td>25</td>\n",
       "    </tr>\n",
       "    <tr>\n",
       "      <th>11313</th>\n",
       "      <td>3</td>\n",
       "      <td>45–54</td>\n",
       "      <td>48</td>\n",
       "    </tr>\n",
       "    <tr>\n",
       "      <th>12342</th>\n",
       "      <td>1</td>\n",
       "      <td>25–34</td>\n",
       "      <td>25</td>\n",
       "    </tr>\n",
       "  </tbody>\n",
       "</table>\n",
       "</div>"
      ],
      "text/plain": [
       "       age_group_encoded age_group  age\n",
       "38300                  1     25–34   34\n",
       "30391                  1     25–34   34\n",
       "10059                  3     45–54   48\n",
       "36998                  4     55–64   57\n",
       "37706                  3     45–54   50\n",
       "25911                  2     35–44   38\n",
       "16866                  2     35–44   38\n",
       "44670                  1     25–34   25\n",
       "11313                  3     45–54   48\n",
       "12342                  1     25–34   25"
      ]
     },
     "execution_count": 78,
     "metadata": {},
     "output_type": "execute_result"
    }
   ],
   "source": [
    "# Verify correct binning.\n",
    "\n",
    "age_vars = ['age_group_encoded', 'age_group', 'age']\n",
    "\n",
    "users_data_encoded[age_vars].sample(10)"
   ]
  },
  {
   "cell_type": "markdown",
   "metadata": {},
   "source": [
    "# Plot the new distribution of `age`"
   ]
  },
  {
   "cell_type": "code",
   "execution_count": 80,
   "metadata": {
    "colab": {
     "base_uri": "https://localhost:8080/"
    },
    "executionInfo": {
     "elapsed": 512,
     "status": "ok",
     "timestamp": 1614991714857,
     "user": {
      "displayName": "Sarah Haq",
      "photoUrl": "https://lh3.googleusercontent.com/a-/AOh14Gh7vs3P5_F3LYi7bEV8r1vbltDxEgpoYXmxHgxGBw=s64",
      "userId": "16294508270436203551"
     },
     "user_tz": -60
    },
    "id": "acwKTZ_5g6n6",
    "outputId": "61facd42-dc05-40ff-f5a9-7e4e9d41821b"
   },
   "outputs": [
    {
     "data": {
      "text/plain": [
       "35–44    14524\n",
       "25–34    14194\n",
       "45–54     9951\n",
       "55–64     4892\n",
       "18–24      809\n",
       "65–74      510\n",
       "75+        299\n",
       "Name: age_group, dtype: int64"
      ]
     },
     "execution_count": 80,
     "metadata": {},
     "output_type": "execute_result"
    }
   ],
   "source": [
    "user_age_dist = users_data_encoded.age_group.value_counts()\n",
    "\n",
    "user_age_dist"
   ]
  },
  {
   "cell_type": "code",
   "execution_count": 81,
   "metadata": {
    "colab": {
     "base_uri": "https://localhost:8080/",
     "height": 307
    },
    "executionInfo": {
     "elapsed": 627,
     "status": "ok",
     "timestamp": 1614991737337,
     "user": {
      "displayName": "Sarah Haq",
      "photoUrl": "https://lh3.googleusercontent.com/a-/AOh14Gh7vs3P5_F3LYi7bEV8r1vbltDxEgpoYXmxHgxGBw=s64",
      "userId": "16294508270436203551"
     },
     "user_tz": -60
    },
    "id": "C9EWjbFEhD7V",
    "outputId": "ebf220a0-7edd-4c1d-9cc2-c44ff0782c08"
   },
   "outputs": [
    {
     "data": {
      "text/plain": [
       "Text(0.5, 1.0, 'Distribution of Age Category')"
      ]
     },
     "execution_count": 81,
     "metadata": {},
     "output_type": "execute_result"
    },
    {
     "data": {
      "image/png": "[encoded data removed]",
      "text/plain": [
       "<Figure size 432x288 with 1 Axes>"
      ]
     },
     "metadata": {
      "needs_background": "light"
     },
     "output_type": "display_data"
    }
   ],
   "source": [
    "user_age_dist.plot(kind = 'bar', edgecolor = 'black')\n",
    "plt.title('Distribution of Age Category')"
   ]
  },
  {
   "cell_type": "code",
   "execution_count": 82,
   "metadata": {
    "colab": {
     "base_uri": "https://localhost:8080/",
     "height": 262
    },
    "executionInfo": {
     "elapsed": 530,
     "status": "ok",
     "timestamp": 1614991891265,
     "user": {
      "displayName": "Sarah Haq",
      "photoUrl": "https://lh3.googleusercontent.com/a-/AOh14Gh7vs3P5_F3LYi7bEV8r1vbltDxEgpoYXmxHgxGBw=s64",
      "userId": "16294508270436203551"
     },
     "user_tz": -60
    },
    "id": "zw1EAGj6AlXG",
    "outputId": "10a23eb7-9bc6-4f84-e3e5-3741b3b51806"
   },
   "outputs": [
    {
     "data": {
      "image/png": "[encoded data removed]",
      "text/plain": [
       "<Figure size 432x288 with 1 Axes>"
      ]
     },
     "metadata": {
      "needs_background": "light"
     },
     "output_type": "display_data"
    }
   ],
   "source": [
    "# Check against encoded values.\n",
    "\n",
    "users_data_encoded.age_group_encoded. \\\n",
    "value_counts().plot(kind = 'bar');"
   ]
  },
  {
   "cell_type": "markdown",
   "metadata": {},
   "source": [
    "# Drop the `age` and `age_group` variables"
   ]
  },
  {
   "cell_type": "code",
   "execution_count": 83,
   "metadata": {
    "executionInfo": {
     "elapsed": 523,
     "status": "ok",
     "timestamp": 1614991896545,
     "user": {
      "displayName": "Sarah Haq",
      "photoUrl": "https://lh3.googleusercontent.com/a-/AOh14Gh7vs3P5_F3LYi7bEV8r1vbltDxEgpoYXmxHgxGBw=s64",
      "userId": "16294508270436203551"
     },
     "user_tz": -60
    },
    "id": "H6Qql-UCngUl"
   },
   "outputs": [
    {
     "data": {
      "text/plain": [
       "['user_id',\n",
       " 'number_transactions',\n",
       " 'total_amount_usd',\n",
       " 'job_management',\n",
       " 'job_technician',\n",
       " 'job_entrepreneur',\n",
       " 'job_blue-collar',\n",
       " 'job_Unknown',\n",
       " 'job_retired',\n",
       " 'job_admin.',\n",
       " 'job_services',\n",
       " 'job_self-employed',\n",
       " 'job_unemployed',\n",
       " 'job_housemaid',\n",
       " 'job_student',\n",
       " 'education_tertiary',\n",
       " 'education_secondary',\n",
       " 'education_Unknown',\n",
       " 'education_primary',\n",
       " 'default',\n",
       " 'housing',\n",
       " 'loan',\n",
       " 'contact_Unknown',\n",
       " 'contact_cellular',\n",
       " 'contact_telephone',\n",
       " 'duration',\n",
       " 'campaign',\n",
       " 'pdays',\n",
       " 'previous',\n",
       " 'term_deposit',\n",
       " 'date_joined',\n",
       " 'device_mobile',\n",
       " 'device_desktop',\n",
       " 'device_tablet',\n",
       " 'device_Unknown',\n",
       " 'married',\n",
       " 'single',\n",
       " 'age_group_encoded']"
      ]
     },
     "execution_count": 83,
     "metadata": {},
     "output_type": "execute_result"
    }
   ],
   "source": [
    "users_data_encoded.drop(['age', 'age_group'], \n",
    "                       axis = 1, inplace = True)\n",
    "\n",
    "list(users_data_encoded)"
   ]
  },
  {
   "cell_type": "markdown",
   "metadata": {
    "id": "PVKafgK9Dthz"
   },
   "source": [
    "# Create a `month_joined` variable from `date_joined`"
   ]
  },
  {
   "cell_type": "code",
   "execution_count": 84,
   "metadata": {
    "executionInfo": {
     "elapsed": 570,
     "status": "ok",
     "timestamp": 1614991898854,
     "user": {
      "displayName": "Sarah Haq",
      "photoUrl": "https://lh3.googleusercontent.com/a-/AOh14Gh7vs3P5_F3LYi7bEV8r1vbltDxEgpoYXmxHgxGBw=s64",
      "userId": "16294508270436203551"
     },
     "user_tz": -60
    },
    "id": "HdLp8sWvim9x"
   },
   "outputs": [],
   "source": [
    "users_data_encoded['month_joined'] = \\\n",
    "users_data_encoded.date_joined.dt.month"
   ]
  },
  {
   "cell_type": "code",
   "execution_count": 85,
   "metadata": {
    "colab": {
     "base_uri": "https://localhost:8080/",
     "height": 281
    },
    "executionInfo": {
     "elapsed": 599,
     "status": "ok",
     "timestamp": 1614991899929,
     "user": {
      "displayName": "Sarah Haq",
      "photoUrl": "https://lh3.googleusercontent.com/a-/AOh14Gh7vs3P5_F3LYi7bEV8r1vbltDxEgpoYXmxHgxGBw=s64",
      "userId": "16294508270436203551"
     },
     "user_tz": -60
    },
    "id": "gRQNeBX5jhLb",
    "outputId": "45aeb8b5-5141-450e-8a86-6d263f85bfa5"
   },
   "outputs": [
    {
     "data": {
      "image/png": "[encoded data removed]",
      "text/plain": [
       "<Figure size 432x288 with 1 Axes>"
      ]
     },
     "metadata": {
      "needs_background": "light"
     },
     "output_type": "display_data"
    }
   ],
   "source": [
    "# View the distribution of data.\n",
    "\n",
    "users_data_encoded['month_joined'].hist()\n",
    "plt.title('Distribution of Months the Users Joined');"
   ]
  },
  {
   "cell_type": "code",
   "execution_count": 86,
   "metadata": {
    "executionInfo": {
     "elapsed": 534,
     "status": "ok",
     "timestamp": 1614991902133,
     "user": {
      "displayName": "Sarah Haq",
      "photoUrl": "https://lh3.googleusercontent.com/a-/AOh14Gh7vs3P5_F3LYi7bEV8r1vbltDxEgpoYXmxHgxGBw=s64",
      "userId": "16294508270436203551"
     },
     "user_tz": -60
    },
    "id": "lzwzjT_skPjp"
   },
   "outputs": [
    {
     "data": {
      "text/plain": [
       "['user_id',\n",
       " 'number_transactions',\n",
       " 'total_amount_usd',\n",
       " 'job_management',\n",
       " 'job_technician',\n",
       " 'job_entrepreneur',\n",
       " 'job_blue-collar',\n",
       " 'job_Unknown',\n",
       " 'job_retired',\n",
       " 'job_admin.',\n",
       " 'job_services',\n",
       " 'job_self-employed',\n",
       " 'job_unemployed',\n",
       " 'job_housemaid',\n",
       " 'job_student',\n",
       " 'education_tertiary',\n",
       " 'education_secondary',\n",
       " 'education_Unknown',\n",
       " 'education_primary',\n",
       " 'default',\n",
       " 'housing',\n",
       " 'loan',\n",
       " 'contact_Unknown',\n",
       " 'contact_cellular',\n",
       " 'contact_telephone',\n",
       " 'duration',\n",
       " 'campaign',\n",
       " 'pdays',\n",
       " 'previous',\n",
       " 'term_deposit',\n",
       " 'device_mobile',\n",
       " 'device_desktop',\n",
       " 'device_tablet',\n",
       " 'device_Unknown',\n",
       " 'married',\n",
       " 'single',\n",
       " 'age_group_encoded',\n",
       " 'month_joined']"
      ]
     },
     "execution_count": 86,
     "metadata": {},
     "output_type": "execute_result"
    }
   ],
   "source": [
    "users_data_encoded.drop(['date_joined'],\n",
    "                       axis = 1, inplace = True)\n",
    "list(users_data_encoded)"
   ]
  },
  {
   "cell_type": "markdown",
   "metadata": {
    "id": "ROkl2rP2Usyt"
   },
   "source": [
    "# Remove features with low variance"
   ]
  },
  {
   "cell_type": "code",
   "execution_count": 87,
   "metadata": {
    "colab": {
     "base_uri": "https://localhost:8080/"
    },
    "executionInfo": {
     "elapsed": 502,
     "status": "ok",
     "timestamp": 1614991904814,
     "user": {
      "displayName": "Sarah Haq",
      "photoUrl": "https://lh3.googleusercontent.com/a-/AOh14Gh7vs3P5_F3LYi7bEV8r1vbltDxEgpoYXmxHgxGBw=s64",
      "userId": "16294508270436203551"
     },
     "user_tz": -60
    },
    "id": "-44R0c4WdBGS",
    "outputId": "44d21e5a-356a-414a-e8fa-860e1ce65686"
   },
   "outputs": [
    {
     "data": {
      "text/plain": [
       "number_transactions       3.749994\n",
       "total_amount_usd       2704.291321\n",
       "job_management            0.406767\n",
       "job_technician            0.373908\n",
       "job_entrepreneur          0.178296\n",
       "job_blue-collar           0.411004\n",
       "job_Unknown               0.079587\n",
       "job_retired               0.218087\n",
       "job_admin.                0.318287\n",
       "job_services              0.288889\n",
       "job_self-employed         0.183543\n",
       "job_unemployed            0.167236\n",
       "job_housemaid             0.163318\n",
       "job_student               0.142513\n",
       "education_tertiary        0.455691\n",
       "education_secondary       0.499832\n",
       "education_Unknown         0.198480\n",
       "education_primary         0.358591\n",
       "default                   0.133095\n",
       "housing                   0.496878\n",
       "loan                      0.366802\n",
       "contact_Unknown           0.452851\n",
       "contact_cellular          0.477695\n",
       "contact_telephone         0.245250\n",
       "duration                257.281109\n",
       "campaign                  3.097836\n",
       "pdays                   100.134967\n",
       "previous                  2.303009\n",
       "term_deposit              0.321399\n",
       "device_mobile             0.488133\n",
       "device_desktop            0.442900\n",
       "device_tablet             0.326884\n",
       "device_Unknown            0.045567\n",
       "married                   0.489504\n",
       "single                    0.450412\n",
       "age_group_encoded         1.106811\n",
       "month_joined              3.428374\n",
       "dtype: float64"
      ]
     },
     "execution_count": 87,
     "metadata": {},
     "output_type": "execute_result"
    }
   ],
   "source": [
    "users_data_encoded.std()"
   ]
  },
  {
   "cell_type": "code",
   "execution_count": 88,
   "metadata": {
    "colab": {
     "base_uri": "https://localhost:8080/"
    },
    "executionInfo": {
     "elapsed": 502,
     "status": "ok",
     "timestamp": 1614991905891,
     "user": {
      "displayName": "Sarah Haq",
      "photoUrl": "https://lh3.googleusercontent.com/a-/AOh14Gh7vs3P5_F3LYi7bEV8r1vbltDxEgpoYXmxHgxGBw=s64",
      "userId": "16294508270436203551"
     },
     "user_tz": -60
    },
    "id": "KFB2W8g1h2xg",
    "outputId": "dc9cdeee-655b-42f8-8155-6e1df3fe4b51"
   },
   "outputs": [
    {
     "name": "stdout",
     "output_type": "stream",
     "text": [
      "Features with low standard deviation: ['job_Unknown', 'device_Unknown']\n"
     ]
    }
   ],
   "source": [
    "# Define standard deviation threshold.\n",
    "\n",
    "threshold = 0.1\n",
    "\n",
    "# Identify features below threshold.\n",
    "\n",
    "cols_to_drop = \\\n",
    "list(users_data_encoded.std()[users_data_encoded.std() \\\n",
    "                             < threshold].index.values)\n",
    "\n",
    "print('Features with low standard deviation:',\n",
    "     cols_to_drop)"
   ]
  },
  {
   "cell_type": "code",
   "execution_count": 89,
   "metadata": {
    "colab": {
     "base_uri": "https://localhost:8080/",
     "height": 332
    },
    "executionInfo": {
     "elapsed": 495,
     "status": "ok",
     "timestamp": 1614991917200,
     "user": {
      "displayName": "Sarah Haq",
      "photoUrl": "https://lh3.googleusercontent.com/a-/AOh14Gh7vs3P5_F3LYi7bEV8r1vbltDxEgpoYXmxHgxGBw=s64",
      "userId": "16294508270436203551"
     },
     "user_tz": -60
    },
    "id": "oG3uOURxgy_L",
    "outputId": "07148f12-b915-40a9-c631-c9940a3c4ecb"
   },
   "outputs": [
    {
     "data": {
      "text/plain": [
       "['user_id',\n",
       " 'number_transactions',\n",
       " 'total_amount_usd',\n",
       " 'job_management',\n",
       " 'job_technician',\n",
       " 'job_entrepreneur',\n",
       " 'job_blue-collar',\n",
       " 'job_retired',\n",
       " 'job_admin.',\n",
       " 'job_services',\n",
       " 'job_self-employed',\n",
       " 'job_unemployed',\n",
       " 'job_housemaid',\n",
       " 'job_student',\n",
       " 'education_tertiary',\n",
       " 'education_secondary',\n",
       " 'education_Unknown',\n",
       " 'education_primary',\n",
       " 'default',\n",
       " 'housing',\n",
       " 'loan',\n",
       " 'contact_Unknown',\n",
       " 'contact_cellular',\n",
       " 'contact_telephone',\n",
       " 'duration',\n",
       " 'campaign',\n",
       " 'pdays',\n",
       " 'previous',\n",
       " 'term_deposit',\n",
       " 'device_mobile',\n",
       " 'device_desktop',\n",
       " 'device_tablet',\n",
       " 'married',\n",
       " 'single',\n",
       " 'age_group_encoded',\n",
       " 'month_joined']"
      ]
     },
     "execution_count": 89,
     "metadata": {},
     "output_type": "execute_result"
    }
   ],
   "source": [
    "# Drop features below threshold.\n",
    "\n",
    "users_data_interim = users_data_encoded.drop(cols_to_drop,\n",
    "                                            axis = 1)\n",
    "\n",
    "list(users_data_interim)"
   ]
  },
  {
   "cell_type": "markdown",
   "metadata": {
    "id": "2SJ8f324wW8q"
   },
   "source": [
    "# Drop highly correlated features"
   ]
  },
  {
   "cell_type": "code",
   "execution_count": 90,
   "metadata": {
    "colab": {
     "base_uri": "https://localhost:8080/"
    },
    "executionInfo": {
     "elapsed": 752,
     "status": "ok",
     "timestamp": 1614991924437,
     "user": {
      "displayName": "Sarah Haq",
      "photoUrl": "https://lh3.googleusercontent.com/a-/AOh14Gh7vs3P5_F3LYi7bEV8r1vbltDxEgpoYXmxHgxGBw=s64",
      "userId": "16294508270436203551"
     },
     "user_tz": -60
    },
    "id": "cKvyyVBVy3le",
    "outputId": "3bd07fde-d69d-4065-e5bd-d8bfb14d5ed1"
   },
   "outputs": [
    {
     "data": {
      "text/plain": [
       "[('contact_Unknown', 'contact_cellular', 0.86),\n",
       " ('device_mobile', 'device_desktop', 0.75),\n",
       " ('married', 'single', 0.77)]"
      ]
     },
     "execution_count": 90,
     "metadata": {},
     "output_type": "execute_result"
    }
   ],
   "source": [
    "# Define correlation threshold.\n",
    "\n",
    "threshold = 0.75\n",
    "\n",
    "corr_matrix = users_data_encoded.corr().abs()\n",
    "high_corr_var = np.where(corr_matrix >= threshold)\n",
    "high_corr_var = [(corr_matrix.index[x],\n",
    "                 corr_matrix.columns[y],\n",
    "                 round(corr_matrix.iloc[x, y], 2))\n",
    "                for x, y in zip(*high_corr_var)\n",
    "                if x != y and x < y]\n",
    "\n",
    "high_corr_var"
   ]
  },
  {
   "cell_type": "code",
   "execution_count": 93,
   "metadata": {
    "colab": {
     "base_uri": "https://localhost:8080/",
     "height": 142
    },
    "executionInfo": {
     "elapsed": 508,
     "status": "ok",
     "timestamp": 1614991926530,
     "user": {
      "displayName": "Sarah Haq",
      "photoUrl": "https://lh3.googleusercontent.com/a-/AOh14Gh7vs3P5_F3LYi7bEV8r1vbltDxEgpoYXmxHgxGBw=s64",
      "userId": "16294508270436203551"
     },
     "user_tz": -60
    },
    "id": "3ea_naxK2qs0",
    "outputId": "e32a2888-b44a-416f-fa83-0810a1c876b1"
   },
   "outputs": [
    {
     "data": {
      "text/html": [
       "<div>\n",
       "<style scoped>\n",
       "    .dataframe tbody tr th:only-of-type {\n",
       "        vertical-align: middle;\n",
       "    }\n",
       "\n",
       "    .dataframe tbody tr th {\n",
       "        vertical-align: top;\n",
       "    }\n",
       "\n",
       "    .dataframe thead th {\n",
       "        text-align: right;\n",
       "    }\n",
       "</style>\n",
       "<table border=\"1\" class=\"dataframe\">\n",
       "  <thead>\n",
       "    <tr style=\"text-align: right;\">\n",
       "      <th></th>\n",
       "      <th>drop_feature</th>\n",
       "      <th>corr_feature</th>\n",
       "      <th>corr_values</th>\n",
       "    </tr>\n",
       "  </thead>\n",
       "  <tbody>\n",
       "    <tr>\n",
       "      <th>0</th>\n",
       "      <td>contact_Unknown</td>\n",
       "      <td>contact_cellular</td>\n",
       "      <td>0.86</td>\n",
       "    </tr>\n",
       "    <tr>\n",
       "      <th>1</th>\n",
       "      <td>married</td>\n",
       "      <td>single</td>\n",
       "      <td>0.77</td>\n",
       "    </tr>\n",
       "    <tr>\n",
       "      <th>2</th>\n",
       "      <td>device_mobile</td>\n",
       "      <td>device_desktop</td>\n",
       "      <td>0.75</td>\n",
       "    </tr>\n",
       "  </tbody>\n",
       "</table>\n",
       "</div>"
      ],
      "text/plain": [
       "      drop_feature      corr_feature  corr_values\n",
       "0  contact_Unknown  contact_cellular         0.86\n",
       "1          married            single         0.77\n",
       "2    device_mobile    device_desktop         0.75"
      ]
     },
     "execution_count": 93,
     "metadata": {},
     "output_type": "execute_result"
    }
   ],
   "source": [
    "# Tidy up the output.\n",
    "\n",
    "record_collinear = pd.DataFrame(high_corr_var). \\\n",
    "rename(columns = {0: 'drop_feature',\n",
    "                 1: 'corr_feature',\n",
    "                 2: 'corr_values'})\n",
    "\n",
    "record_collinear = record_collinear. \\\n",
    "sort_values(by = 'corr_values', ascending = False)\n",
    "\n",
    "record_collinear = record_collinear.reset_index(drop = True)\n",
    "\n",
    "record_collinear"
   ]
  },
  {
   "cell_type": "code",
   "execution_count": 94,
   "metadata": {
    "colab": {
     "base_uri": "https://localhost:8080/"
    },
    "executionInfo": {
     "elapsed": 529,
     "status": "ok",
     "timestamp": 1614991928960,
     "user": {
      "displayName": "Sarah Haq",
      "photoUrl": "https://lh3.googleusercontent.com/a-/AOh14Gh7vs3P5_F3LYi7bEV8r1vbltDxEgpoYXmxHgxGBw=s64",
      "userId": "16294508270436203551"
     },
     "user_tz": -60
    },
    "id": "lHsbgE-n31KC",
    "outputId": "7cd151c4-22e3-4518-8f03-70fde6911180"
   },
   "outputs": [
    {
     "name": "stdout",
     "output_type": "stream",
     "text": [
      "['contact_Unknown', 'married', 'device_mobile']\n"
     ]
    }
   ],
   "source": [
    "cols_to_drop = list(record_collinear['drop_feature'])\n",
    "print(cols_to_drop)"
   ]
  },
  {
   "cell_type": "code",
   "execution_count": 95,
   "metadata": {
    "executionInfo": {
     "elapsed": 497,
     "status": "ok",
     "timestamp": 1614991931625,
     "user": {
      "displayName": "Sarah Haq",
      "photoUrl": "https://lh3.googleusercontent.com/a-/AOh14Gh7vs3P5_F3LYi7bEV8r1vbltDxEgpoYXmxHgxGBw=s64",
      "userId": "16294508270436203551"
     },
     "user_tz": -60
    },
    "id": "8vRaDJpF4Gkv"
   },
   "outputs": [
    {
     "data": {
      "text/plain": [
       "['user_id',\n",
       " 'number_transactions',\n",
       " 'total_amount_usd',\n",
       " 'job_management',\n",
       " 'job_technician',\n",
       " 'job_entrepreneur',\n",
       " 'job_blue-collar',\n",
       " 'job_retired',\n",
       " 'job_admin.',\n",
       " 'job_services',\n",
       " 'job_self-employed',\n",
       " 'job_unemployed',\n",
       " 'job_housemaid',\n",
       " 'job_student',\n",
       " 'education_tertiary',\n",
       " 'education_secondary',\n",
       " 'education_Unknown',\n",
       " 'education_primary',\n",
       " 'default',\n",
       " 'housing',\n",
       " 'loan',\n",
       " 'contact_cellular',\n",
       " 'contact_telephone',\n",
       " 'duration',\n",
       " 'campaign',\n",
       " 'pdays',\n",
       " 'previous',\n",
       " 'term_deposit',\n",
       " 'device_desktop',\n",
       " 'device_tablet',\n",
       " 'single',\n",
       " 'age_group_encoded',\n",
       " 'month_joined']"
      ]
     },
     "execution_count": 95,
     "metadata": {},
     "output_type": "execute_result"
    }
   ],
   "source": [
    "users_data_final = users_data_interim.drop(cols_to_drop,\n",
    "                                          axis = 1)\n",
    "\n",
    "list(users_data_final)"
   ]
  },
  {
   "cell_type": "markdown",
   "metadata": {},
   "source": [
    "# Filter by demographics data"
   ]
  },
  {
   "cell_type": "code",
   "execution_count": 97,
   "metadata": {},
   "outputs": [
    {
     "data": {
      "text/html": [
       "<div>\n",
       "<style scoped>\n",
       "    .dataframe tbody tr th:only-of-type {\n",
       "        vertical-align: middle;\n",
       "    }\n",
       "\n",
       "    .dataframe tbody tr th {\n",
       "        vertical-align: top;\n",
       "    }\n",
       "\n",
       "    .dataframe thead th {\n",
       "        text-align: right;\n",
       "    }\n",
       "</style>\n",
       "<table border=\"1\" class=\"dataframe\">\n",
       "  <thead>\n",
       "    <tr style=\"text-align: right;\">\n",
       "      <th></th>\n",
       "      <th>job_management</th>\n",
       "      <th>job_technician</th>\n",
       "      <th>job_entrepreneur</th>\n",
       "      <th>job_blue-collar</th>\n",
       "      <th>job_retired</th>\n",
       "      <th>job_admin.</th>\n",
       "      <th>job_services</th>\n",
       "      <th>job_self-employed</th>\n",
       "      <th>job_unemployed</th>\n",
       "      <th>job_housemaid</th>\n",
       "      <th>job_student</th>\n",
       "      <th>education_tertiary</th>\n",
       "      <th>education_secondary</th>\n",
       "      <th>education_Unknown</th>\n",
       "      <th>education_primary</th>\n",
       "      <th>single</th>\n",
       "      <th>age_group_encoded</th>\n",
       "    </tr>\n",
       "  </thead>\n",
       "  <tbody>\n",
       "    <tr>\n",
       "      <th>0</th>\n",
       "      <td>1</td>\n",
       "      <td>0</td>\n",
       "      <td>0</td>\n",
       "      <td>0</td>\n",
       "      <td>0</td>\n",
       "      <td>0</td>\n",
       "      <td>0</td>\n",
       "      <td>0</td>\n",
       "      <td>0</td>\n",
       "      <td>0</td>\n",
       "      <td>0</td>\n",
       "      <td>1</td>\n",
       "      <td>0</td>\n",
       "      <td>0</td>\n",
       "      <td>0</td>\n",
       "      <td>0</td>\n",
       "      <td>4</td>\n",
       "    </tr>\n",
       "    <tr>\n",
       "      <th>1</th>\n",
       "      <td>0</td>\n",
       "      <td>1</td>\n",
       "      <td>0</td>\n",
       "      <td>0</td>\n",
       "      <td>0</td>\n",
       "      <td>0</td>\n",
       "      <td>0</td>\n",
       "      <td>0</td>\n",
       "      <td>0</td>\n",
       "      <td>0</td>\n",
       "      <td>0</td>\n",
       "      <td>0</td>\n",
       "      <td>1</td>\n",
       "      <td>0</td>\n",
       "      <td>0</td>\n",
       "      <td>1</td>\n",
       "      <td>2</td>\n",
       "    </tr>\n",
       "    <tr>\n",
       "      <th>2</th>\n",
       "      <td>0</td>\n",
       "      <td>0</td>\n",
       "      <td>1</td>\n",
       "      <td>0</td>\n",
       "      <td>0</td>\n",
       "      <td>0</td>\n",
       "      <td>0</td>\n",
       "      <td>0</td>\n",
       "      <td>0</td>\n",
       "      <td>0</td>\n",
       "      <td>0</td>\n",
       "      <td>0</td>\n",
       "      <td>1</td>\n",
       "      <td>0</td>\n",
       "      <td>0</td>\n",
       "      <td>0</td>\n",
       "      <td>1</td>\n",
       "    </tr>\n",
       "  </tbody>\n",
       "</table>\n",
       "</div>"
      ],
      "text/plain": [
       "   job_management  job_technician  job_entrepreneur  job_blue-collar  \\\n",
       "0               1               0                 0                0   \n",
       "1               0               1                 0                0   \n",
       "2               0               0                 1                0   \n",
       "\n",
       "   job_retired  job_admin.  job_services  job_self-employed  job_unemployed  \\\n",
       "0            0           0             0                  0               0   \n",
       "1            0           0             0                  0               0   \n",
       "2            0           0             0                  0               0   \n",
       "\n",
       "   job_housemaid  job_student  education_tertiary  education_secondary  \\\n",
       "0              0            0                   1                    0   \n",
       "1              0            0                   0                    1   \n",
       "2              0            0                   0                    1   \n",
       "\n",
       "   education_Unknown  education_primary  single  age_group_encoded  \n",
       "0                  0                  0       0                  4  \n",
       "1                  0                  0       1                  2  \n",
       "2                  0                  0       0                  1  "
      ]
     },
     "execution_count": 97,
     "metadata": {},
     "output_type": "execute_result"
    }
   ],
   "source": [
    "users_data_demographics = \\\n",
    "users_data_final.filter(regex = 'education|job|age|single')\n",
    "\n",
    "users_data_demographics.head(n = 3)"
   ]
  },
  {
   "cell_type": "markdown",
   "metadata": {},
   "source": [
    "# Standardize the demographics data"
   ]
  },
  {
   "cell_type": "code",
   "execution_count": 98,
   "metadata": {},
   "outputs": [
    {
     "data": {
      "text/html": [
       "<div>\n",
       "<style scoped>\n",
       "    .dataframe tbody tr th:only-of-type {\n",
       "        vertical-align: middle;\n",
       "    }\n",
       "\n",
       "    .dataframe tbody tr th {\n",
       "        vertical-align: top;\n",
       "    }\n",
       "\n",
       "    .dataframe thead th {\n",
       "        text-align: right;\n",
       "    }\n",
       "</style>\n",
       "<table border=\"1\" class=\"dataframe\">\n",
       "  <thead>\n",
       "    <tr style=\"text-align: right;\">\n",
       "      <th></th>\n",
       "      <th>job_management</th>\n",
       "      <th>job_technician</th>\n",
       "      <th>job_entrepreneur</th>\n",
       "      <th>job_blue-collar</th>\n",
       "      <th>job_retired</th>\n",
       "      <th>job_admin.</th>\n",
       "      <th>job_services</th>\n",
       "      <th>job_self-employed</th>\n",
       "      <th>job_unemployed</th>\n",
       "      <th>job_housemaid</th>\n",
       "      <th>job_student</th>\n",
       "      <th>education_tertiary</th>\n",
       "      <th>education_secondary</th>\n",
       "      <th>education_Unknown</th>\n",
       "      <th>education_primary</th>\n",
       "      <th>single</th>\n",
       "      <th>age_group_encoded</th>\n",
       "    </tr>\n",
       "  </thead>\n",
       "  <tbody>\n",
       "    <tr>\n",
       "      <th>count</th>\n",
       "      <td>45179.000000</td>\n",
       "      <td>45179.000000</td>\n",
       "      <td>45179.000000</td>\n",
       "      <td>45179.000000</td>\n",
       "      <td>45179.000000</td>\n",
       "      <td>45179.000000</td>\n",
       "      <td>45179.000000</td>\n",
       "      <td>45179.000000</td>\n",
       "      <td>45179.000000</td>\n",
       "      <td>45179.000000</td>\n",
       "      <td>45179.000000</td>\n",
       "      <td>45179.000000</td>\n",
       "      <td>45179.000000</td>\n",
       "      <td>45179.000000</td>\n",
       "      <td>45179.000000</td>\n",
       "      <td>45179.000000</td>\n",
       "      <td>45179.000000</td>\n",
       "    </tr>\n",
       "    <tr>\n",
       "      <th>mean</th>\n",
       "      <td>0.209234</td>\n",
       "      <td>0.168043</td>\n",
       "      <td>0.032869</td>\n",
       "      <td>0.215255</td>\n",
       "      <td>0.050068</td>\n",
       "      <td>0.114389</td>\n",
       "      <td>0.091901</td>\n",
       "      <td>0.034906</td>\n",
       "      <td>0.028797</td>\n",
       "      <td>0.027424</td>\n",
       "      <td>0.020740</td>\n",
       "      <td>0.294207</td>\n",
       "      <td>0.513159</td>\n",
       "      <td>0.041081</td>\n",
       "      <td>0.151553</td>\n",
       "      <td>0.282897</td>\n",
       "      <td>2.147170</td>\n",
       "    </tr>\n",
       "    <tr>\n",
       "      <th>std</th>\n",
       "      <td>0.406767</td>\n",
       "      <td>0.373908</td>\n",
       "      <td>0.178296</td>\n",
       "      <td>0.411004</td>\n",
       "      <td>0.218087</td>\n",
       "      <td>0.318287</td>\n",
       "      <td>0.288889</td>\n",
       "      <td>0.183543</td>\n",
       "      <td>0.167236</td>\n",
       "      <td>0.163318</td>\n",
       "      <td>0.142513</td>\n",
       "      <td>0.455691</td>\n",
       "      <td>0.499832</td>\n",
       "      <td>0.198480</td>\n",
       "      <td>0.358591</td>\n",
       "      <td>0.450412</td>\n",
       "      <td>1.106811</td>\n",
       "    </tr>\n",
       "    <tr>\n",
       "      <th>min</th>\n",
       "      <td>0.000000</td>\n",
       "      <td>0.000000</td>\n",
       "      <td>0.000000</td>\n",
       "      <td>0.000000</td>\n",
       "      <td>0.000000</td>\n",
       "      <td>0.000000</td>\n",
       "      <td>0.000000</td>\n",
       "      <td>0.000000</td>\n",
       "      <td>0.000000</td>\n",
       "      <td>0.000000</td>\n",
       "      <td>0.000000</td>\n",
       "      <td>0.000000</td>\n",
       "      <td>0.000000</td>\n",
       "      <td>0.000000</td>\n",
       "      <td>0.000000</td>\n",
       "      <td>0.000000</td>\n",
       "      <td>0.000000</td>\n",
       "    </tr>\n",
       "    <tr>\n",
       "      <th>25%</th>\n",
       "      <td>0.000000</td>\n",
       "      <td>0.000000</td>\n",
       "      <td>0.000000</td>\n",
       "      <td>0.000000</td>\n",
       "      <td>0.000000</td>\n",
       "      <td>0.000000</td>\n",
       "      <td>0.000000</td>\n",
       "      <td>0.000000</td>\n",
       "      <td>0.000000</td>\n",
       "      <td>0.000000</td>\n",
       "      <td>0.000000</td>\n",
       "      <td>0.000000</td>\n",
       "      <td>0.000000</td>\n",
       "      <td>0.000000</td>\n",
       "      <td>0.000000</td>\n",
       "      <td>0.000000</td>\n",
       "      <td>1.000000</td>\n",
       "    </tr>\n",
       "    <tr>\n",
       "      <th>50%</th>\n",
       "      <td>0.000000</td>\n",
       "      <td>0.000000</td>\n",
       "      <td>0.000000</td>\n",
       "      <td>0.000000</td>\n",
       "      <td>0.000000</td>\n",
       "      <td>0.000000</td>\n",
       "      <td>0.000000</td>\n",
       "      <td>0.000000</td>\n",
       "      <td>0.000000</td>\n",
       "      <td>0.000000</td>\n",
       "      <td>0.000000</td>\n",
       "      <td>0.000000</td>\n",
       "      <td>1.000000</td>\n",
       "      <td>0.000000</td>\n",
       "      <td>0.000000</td>\n",
       "      <td>0.000000</td>\n",
       "      <td>2.000000</td>\n",
       "    </tr>\n",
       "    <tr>\n",
       "      <th>75%</th>\n",
       "      <td>0.000000</td>\n",
       "      <td>0.000000</td>\n",
       "      <td>0.000000</td>\n",
       "      <td>0.000000</td>\n",
       "      <td>0.000000</td>\n",
       "      <td>0.000000</td>\n",
       "      <td>0.000000</td>\n",
       "      <td>0.000000</td>\n",
       "      <td>0.000000</td>\n",
       "      <td>0.000000</td>\n",
       "      <td>0.000000</td>\n",
       "      <td>1.000000</td>\n",
       "      <td>1.000000</td>\n",
       "      <td>0.000000</td>\n",
       "      <td>0.000000</td>\n",
       "      <td>1.000000</td>\n",
       "      <td>3.000000</td>\n",
       "    </tr>\n",
       "    <tr>\n",
       "      <th>max</th>\n",
       "      <td>1.000000</td>\n",
       "      <td>1.000000</td>\n",
       "      <td>1.000000</td>\n",
       "      <td>1.000000</td>\n",
       "      <td>1.000000</td>\n",
       "      <td>1.000000</td>\n",
       "      <td>1.000000</td>\n",
       "      <td>1.000000</td>\n",
       "      <td>1.000000</td>\n",
       "      <td>1.000000</td>\n",
       "      <td>1.000000</td>\n",
       "      <td>1.000000</td>\n",
       "      <td>1.000000</td>\n",
       "      <td>1.000000</td>\n",
       "      <td>1.000000</td>\n",
       "      <td>1.000000</td>\n",
       "      <td>6.000000</td>\n",
       "    </tr>\n",
       "  </tbody>\n",
       "</table>\n",
       "</div>"
      ],
      "text/plain": [
       "       job_management  job_technician  job_entrepreneur  job_blue-collar  \\\n",
       "count    45179.000000    45179.000000      45179.000000     45179.000000   \n",
       "mean         0.209234        0.168043          0.032869         0.215255   \n",
       "std          0.406767        0.373908          0.178296         0.411004   \n",
       "min          0.000000        0.000000          0.000000         0.000000   \n",
       "25%          0.000000        0.000000          0.000000         0.000000   \n",
       "50%          0.000000        0.000000          0.000000         0.000000   \n",
       "75%          0.000000        0.000000          0.000000         0.000000   \n",
       "max          1.000000        1.000000          1.000000         1.000000   \n",
       "\n",
       "        job_retired    job_admin.  job_services  job_self-employed  \\\n",
       "count  45179.000000  45179.000000  45179.000000       45179.000000   \n",
       "mean       0.050068      0.114389      0.091901           0.034906   \n",
       "std        0.218087      0.318287      0.288889           0.183543   \n",
       "min        0.000000      0.000000      0.000000           0.000000   \n",
       "25%        0.000000      0.000000      0.000000           0.000000   \n",
       "50%        0.000000      0.000000      0.000000           0.000000   \n",
       "75%        0.000000      0.000000      0.000000           0.000000   \n",
       "max        1.000000      1.000000      1.000000           1.000000   \n",
       "\n",
       "       job_unemployed  job_housemaid   job_student  education_tertiary  \\\n",
       "count    45179.000000   45179.000000  45179.000000        45179.000000   \n",
       "mean         0.028797       0.027424      0.020740            0.294207   \n",
       "std          0.167236       0.163318      0.142513            0.455691   \n",
       "min          0.000000       0.000000      0.000000            0.000000   \n",
       "25%          0.000000       0.000000      0.000000            0.000000   \n",
       "50%          0.000000       0.000000      0.000000            0.000000   \n",
       "75%          0.000000       0.000000      0.000000            1.000000   \n",
       "max          1.000000       1.000000      1.000000            1.000000   \n",
       "\n",
       "       education_secondary  education_Unknown  education_primary  \\\n",
       "count         45179.000000       45179.000000       45179.000000   \n",
       "mean              0.513159           0.041081           0.151553   \n",
       "std               0.499832           0.198480           0.358591   \n",
       "min               0.000000           0.000000           0.000000   \n",
       "25%               0.000000           0.000000           0.000000   \n",
       "50%               1.000000           0.000000           0.000000   \n",
       "75%               1.000000           0.000000           0.000000   \n",
       "max               1.000000           1.000000           1.000000   \n",
       "\n",
       "             single  age_group_encoded  \n",
       "count  45179.000000       45179.000000  \n",
       "mean       0.282897           2.147170  \n",
       "std        0.450412           1.106811  \n",
       "min        0.000000           0.000000  \n",
       "25%        0.000000           1.000000  \n",
       "50%        0.000000           2.000000  \n",
       "75%        1.000000           3.000000  \n",
       "max        1.000000           6.000000  "
      ]
     },
     "execution_count": 98,
     "metadata": {},
     "output_type": "execute_result"
    }
   ],
   "source": [
    "users_data_demographics.describe()"
   ]
  },
  {
   "cell_type": "code",
   "execution_count": 99,
   "metadata": {},
   "outputs": [
    {
     "name": "stdout",
     "output_type": "stream",
     "text": [
      "New standard deviation: 1.0\n",
      "New mean:               0\n"
     ]
    }
   ],
   "source": [
    "scaler = StandardScaler()\n",
    "\n",
    "scaler.fit(users_data_demographics)\n",
    "users_data_scaled = scaler.transform(users_data_demographics)\n",
    "\n",
    "print('New standard deviation:', users_data_scaled.std())\n",
    "print('New mean:              ', round(users_data_scaled.mean()))"
   ]
  },
  {
   "cell_type": "markdown",
   "metadata": {},
   "source": [
    "# Perform PCA to reduce the dimensionality of the demographics dataset"
   ]
  },
  {
   "cell_type": "code",
   "execution_count": 100,
   "metadata": {},
   "outputs": [],
   "source": [
    "pca = PCA(n_components = 2, random_state = 1)\n",
    "\n",
    "pca.fit(users_data_scaled)\n",
    "\n",
    "reduced = pca.transform(users_data_scaled)"
   ]
  },
  {
   "cell_type": "code",
   "execution_count": 101,
   "metadata": {},
   "outputs": [
    {
     "data": {
      "text/html": [
       "<div>\n",
       "<style scoped>\n",
       "    .dataframe tbody tr th:only-of-type {\n",
       "        vertical-align: middle;\n",
       "    }\n",
       "\n",
       "    .dataframe tbody tr th {\n",
       "        vertical-align: top;\n",
       "    }\n",
       "\n",
       "    .dataframe thead th {\n",
       "        text-align: right;\n",
       "    }\n",
       "</style>\n",
       "<table border=\"1\" class=\"dataframe\">\n",
       "  <thead>\n",
       "    <tr style=\"text-align: right;\">\n",
       "      <th></th>\n",
       "      <th>PCA1</th>\n",
       "      <th>PCA2</th>\n",
       "    </tr>\n",
       "  </thead>\n",
       "  <tbody>\n",
       "    <tr>\n",
       "      <th>0</th>\n",
       "      <td>2.557545</td>\n",
       "      <td>1.079613</td>\n",
       "    </tr>\n",
       "    <tr>\n",
       "      <th>1</th>\n",
       "      <td>-0.820505</td>\n",
       "      <td>-1.750581</td>\n",
       "    </tr>\n",
       "    <tr>\n",
       "      <th>2</th>\n",
       "      <td>-0.576607</td>\n",
       "      <td>-0.551404</td>\n",
       "    </tr>\n",
       "    <tr>\n",
       "      <th>3</th>\n",
       "      <td>-0.541647</td>\n",
       "      <td>1.593626</td>\n",
       "    </tr>\n",
       "    <tr>\n",
       "      <th>4</th>\n",
       "      <td>0.385598</td>\n",
       "      <td>-0.614768</td>\n",
       "    </tr>\n",
       "    <tr>\n",
       "      <th>...</th>\n",
       "      <td>...</td>\n",
       "      <td>...</td>\n",
       "    </tr>\n",
       "    <tr>\n",
       "      <th>45174</th>\n",
       "      <td>1.160485</td>\n",
       "      <td>0.073978</td>\n",
       "    </tr>\n",
       "    <tr>\n",
       "      <th>45175</th>\n",
       "      <td>-0.660738</td>\n",
       "      <td>4.371075</td>\n",
       "    </tr>\n",
       "    <tr>\n",
       "      <th>45176</th>\n",
       "      <td>-1.327676</td>\n",
       "      <td>2.367745</td>\n",
       "    </tr>\n",
       "    <tr>\n",
       "      <th>45177</th>\n",
       "      <td>-1.575612</td>\n",
       "      <td>1.040206</td>\n",
       "    </tr>\n",
       "    <tr>\n",
       "      <th>45178</th>\n",
       "      <td>-0.632467</td>\n",
       "      <td>-0.134990</td>\n",
       "    </tr>\n",
       "  </tbody>\n",
       "</table>\n",
       "<p>45179 rows × 2 columns</p>\n",
       "</div>"
      ],
      "text/plain": [
       "           PCA1      PCA2\n",
       "0      2.557545  1.079613\n",
       "1     -0.820505 -1.750581\n",
       "2     -0.576607 -0.551404\n",
       "3     -0.541647  1.593626\n",
       "4      0.385598 -0.614768\n",
       "...         ...       ...\n",
       "45174  1.160485  0.073978\n",
       "45175 -0.660738  4.371075\n",
       "45176 -1.327676  2.367745\n",
       "45177 -1.575612  1.040206\n",
       "45178 -0.632467 -0.134990\n",
       "\n",
       "[45179 rows x 2 columns]"
      ]
     },
     "execution_count": 101,
     "metadata": {},
     "output_type": "execute_result"
    }
   ],
   "source": [
    "reduced_df = pd.DataFrame(reduced, columns = ['PCA1', 'PCA2'])\n",
    "\n",
    "reduced_df"
   ]
  },
  {
   "cell_type": "markdown",
   "metadata": {
    "id": "jVdBTm5gwYAC"
   },
   "source": [
    "# Load the final dataset"
   ]
  },
  {
   "cell_type": "code",
   "execution_count": 102,
   "metadata": {
    "colab": {
     "base_uri": "https://localhost:8080/"
    },
    "executionInfo": {
     "elapsed": 506,
     "status": "ok",
     "timestamp": 1614991936591,
     "user": {
      "displayName": "Sarah Haq",
      "photoUrl": "https://lh3.googleusercontent.com/a-/AOh14Gh7vs3P5_F3LYi7bEV8r1vbltDxEgpoYXmxHgxGBw=s64",
      "userId": "16294508270436203551"
     },
     "user_tz": -60
    },
    "id": "c85xetn4iW96",
    "outputId": "b1cb9de9-f322-45f1-c0eb-c5e1aeec9033"
   },
   "outputs": [
    {
     "name": "stdout",
     "output_type": "stream",
     "text": [
      "<class 'pandas.core.frame.DataFrame'>\n",
      "Int64Index: 45179 entries, 0 to 45215\n",
      "Data columns (total 33 columns):\n",
      " #   Column               Non-Null Count  Dtype  \n",
      "---  ------               --------------  -----  \n",
      " 0   user_id              45179 non-null  object \n",
      " 1   number_transactions  45179 non-null  float64\n",
      " 2   total_amount_usd     45179 non-null  float64\n",
      " 3   job_management       45179 non-null  int64  \n",
      " 4   job_technician       45179 non-null  int64  \n",
      " 5   job_entrepreneur     45179 non-null  int64  \n",
      " 6   job_blue-collar      45179 non-null  int64  \n",
      " 7   job_retired          45179 non-null  int64  \n",
      " 8   job_admin.           45179 non-null  int64  \n",
      " 9   job_services         45179 non-null  int64  \n",
      " 10  job_self-employed    45179 non-null  int64  \n",
      " 11  job_unemployed       45179 non-null  int64  \n",
      " 12  job_housemaid        45179 non-null  int64  \n",
      " 13  job_student          45179 non-null  int64  \n",
      " 14  education_tertiary   45179 non-null  int64  \n",
      " 15  education_secondary  45179 non-null  int64  \n",
      " 16  education_Unknown    45179 non-null  int64  \n",
      " 17  education_primary    45179 non-null  int64  \n",
      " 18  default              45179 non-null  bool   \n",
      " 19  housing              45179 non-null  bool   \n",
      " 20  loan                 45179 non-null  bool   \n",
      " 21  contact_cellular     45179 non-null  int64  \n",
      " 22  contact_telephone    45179 non-null  int64  \n",
      " 23  duration             45179 non-null  int64  \n",
      " 24  campaign             45179 non-null  int64  \n",
      " 25  pdays                45179 non-null  int64  \n",
      " 26  previous             45179 non-null  int64  \n",
      " 27  term_deposit         45179 non-null  bool   \n",
      " 28  device_desktop       45179 non-null  int64  \n",
      " 29  device_tablet        45179 non-null  int64  \n",
      " 30  single               45179 non-null  uint8  \n",
      " 31  age_group_encoded    45179 non-null  int8   \n",
      " 32  month_joined         45179 non-null  int64  \n",
      "dtypes: bool(4), float64(2), int64(24), int8(1), object(1), uint8(1)\n",
      "memory usage: 9.9+ MB\n"
     ]
    }
   ],
   "source": [
    "users_data_final.info()"
   ]
  },
  {
   "cell_type": "code",
   "execution_count": 103,
   "metadata": {
    "executionInfo": {
     "elapsed": 738,
     "status": "ok",
     "timestamp": 1614991944678,
     "user": {
      "displayName": "Sarah Haq",
      "photoUrl": "https://lh3.googleusercontent.com/a-/AOh14Gh7vs3P5_F3LYi7bEV8r1vbltDxEgpoYXmxHgxGBw=s64",
      "userId": "16294508270436203551"
     },
     "user_tz": -60
    },
    "id": "oQk_6ScJzPZ0"
   },
   "outputs": [],
   "source": [
    "reduced_df.to_pickle('users_data_demo_pca.pickle')"
   ]
  }
 ],
 "metadata": {
  "colab": {
   "authorship_tag": "ABX9TyOTun3PqjuvYwA4uyOB/0jS",
   "collapsed_sections": [],
   "name": "02-EDA.ipynb",
   "provenance": [],
   "toc_visible": true
  },
  "kernelspec": {
   "display_name": "Python 3",
   "language": "python",
   "name": "python3"
  },
  "language_info": {
   "codemirror_mode": {
    "name": "ipython",
    "version": 3
   },
   "file_extension": ".py",
   "mimetype": "text/x-python",
   "name": "python",
   "nbconvert_exporter": "python",
   "pygments_lexer": "ipython3",
   "version": "3.7.6"
  }
 },
 "nbformat": 4,
 "nbformat_minor": 1
}
